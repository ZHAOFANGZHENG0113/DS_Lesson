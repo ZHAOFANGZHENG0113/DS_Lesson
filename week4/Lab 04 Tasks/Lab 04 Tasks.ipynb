{
 "cells": [
  {
   "cell_type": "markdown",
   "metadata": {},
   "source": [
    "# Lab 4 Tasks"
   ]
  },
  {
   "cell_type": "markdown",
   "metadata": {},
   "source": [
    "## Task 1 - JSON Parsing"
   ]
  },
  {
   "cell_type": "markdown",
   "metadata": {},
   "source": [
    "Use Python to download a file containing movie metadata in JSON format from the URL: \n",
    "\n",
    "http://mlg.ucd.ie/modules/COMP41680/movies.json"
   ]
  },
  {
   "cell_type": "code",
   "execution_count": 4,
   "metadata": {},
   "outputs": [],
   "source": [
    "import urllib.request\n",
    "import json\n",
    "url=\"http://mlg.ucd.ie/modules/COMP41680/movies.json\"\n",
    "response=urllib.request.urlopen(url)\n",
    "raw_json=response.read().decode(\"utf-8\")"
   ]
  },
  {
   "cell_type": "markdown",
   "metadata": {},
   "source": [
    "Parse the JSON data that you have downloaded."
   ]
  },
  {
   "cell_type": "code",
   "execution_count": 14,
   "metadata": {},
   "outputs": [
    {
     "data": {
      "text/plain": [
       "[{'Title': 'London Has Fallen',\n",
       "  'Year': '2016',\n",
       "  'Rated': 'R',\n",
       "  'Runtime': '99 min',\n",
       "  'Genre': 'Action, Crime, Thriller',\n",
       "  'Director': 'Babak Najafi',\n",
       "  'Actors': 'Gerard Butler, Morgan Freeman, Charlotte Riley, Angela Bassett',\n",
       "  'Country': 'UK, USA, Bulgaria',\n",
       "  'RatingScore': '28',\n",
       "  'Type': 'movie'},\n",
       " {'Title': 'Deadpool',\n",
       "  'Year': '2016',\n",
       "  'Rated': 'R',\n",
       "  'Runtime': '108 min',\n",
       "  'Genre': 'Action, Adventure, Comedy',\n",
       "  'Director': 'Tim Miller',\n",
       "  'Actors': 'Ryan Reynolds, Karan Soni, Ed Skrein, Michael Benyaer',\n",
       "  'Country': 'USA, Canada',\n",
       "  'RatingScore': '65',\n",
       "  'Type': 'movie'},\n",
       " {'Title': 'Kung Fu Panda 3',\n",
       "  'Year': '2016',\n",
       "  'Rated': 'PG',\n",
       "  'Runtime': '95 min',\n",
       "  'Genre': 'Animation, Action, Adventure',\n",
       "  'Director': 'Alessandro Carloni, Jennifer Yuh',\n",
       "  'Actors': 'Jack Black, Bryan Cranston, Dustin Hoffman, Angelina Jolie',\n",
       "  'Country': 'China, USA',\n",
       "  'RatingScore': '64',\n",
       "  'Type': 'movie'},\n",
       " {'Title': 'Spectre',\n",
       "  'Year': '2015',\n",
       "  'Rated': 'PG-13',\n",
       "  'Runtime': '148 min',\n",
       "  'Genre': 'Action, Adventure, Thriller',\n",
       "  'Director': 'Sam Mendes',\n",
       "  'Actors': 'Daniel Craig, Christoph Waltz, Léa Seydoux, Ralph Fiennes',\n",
       "  'Country': 'UK, USA',\n",
       "  'RatingScore': '60',\n",
       "  'Type': 'movie'},\n",
       " {'Title': 'Brooklyn',\n",
       "  'Year': '2015',\n",
       "  'Rated': 'PG-13',\n",
       "  'Runtime': '111 min',\n",
       "  'Genre': 'Drama, Romance',\n",
       "  'Director': 'John Crowley',\n",
       "  'Actors': 'Saoirse Ronan, Hugh Gormley, Brid Brennan, Jim Broadbent',\n",
       "  'Country': 'Ireland, UK, Canada',\n",
       "  'RatingScore': '87',\n",
       "  'Type': 'movie'},\n",
       " {'Title': 'The Revenant',\n",
       "  'Year': '2015',\n",
       "  'Rated': 'R',\n",
       "  'Runtime': '156 min',\n",
       "  'Genre': 'Adventure, Drama, Thriller',\n",
       "  'Director': 'Alejandro González Iñárritu',\n",
       "  'Actors': 'Leonardo DiCaprio, Tom Hardy, Domhnall Gleeson, Will Poulter',\n",
       "  'Country': 'USA',\n",
       "  'RatingScore': '76',\n",
       "  'Type': 'movie'},\n",
       " {'Title': '1917',\n",
       "  'Year': '2019',\n",
       "  'Rated': 'R',\n",
       "  'Runtime': '119 min',\n",
       "  'Genre': 'Drama, War',\n",
       "  'Director': 'Sam Mendes',\n",
       "  'Actors': 'Dean-Charles Chapman, George MacKay, Daniel Mays, Colin Firth',\n",
       "  'Country': 'USA',\n",
       "  'RatingScore': '78',\n",
       "  'Type': 'movie'},\n",
       " {'Title': 'Joker',\n",
       "  'Year': '2019',\n",
       "  'Rated': 'R',\n",
       "  'Runtime': '122 min',\n",
       "  'Genre': 'Crime, Drama, Thriller',\n",
       "  'Director': 'Todd Phillips',\n",
       "  'Actors': 'Joaquin Phoenix, Robert De Niro, Zazie Beetz, Frances Conroy',\n",
       "  'Country': 'USA',\n",
       "  'RatingScore': '59',\n",
       "  'Type': 'movie'},\n",
       " {'Title': 'Uncut Gems',\n",
       "  'Year': '2019',\n",
       "  'Rated': 'R',\n",
       "  'Runtime': '135 min',\n",
       "  'Genre': 'Crime, Drama, Thriller',\n",
       "  'Director': 'Benny Safdie, Josh Safdie',\n",
       "  'Actors': 'Mesfin Lamengo, Sun Zhi Hua-Hilton, Liang Wei-Hui-Duncan, Sunny Wu Jin Zahao',\n",
       "  'Country': 'USA',\n",
       "  'RatingScore': '90',\n",
       "  'Type': 'movie'},\n",
       " {'Title': 'Knives Out',\n",
       "  'Year': '2019',\n",
       "  'Rated': 'PG-13',\n",
       "  'Runtime': '131 min',\n",
       "  'Genre': 'Comedy, Crime, Drama, Mystery, Thriller',\n",
       "  'Director': 'Rian Johnson',\n",
       "  'Actors': 'Daniel Craig, Chris Evans, Ana de Armas, Jamie Lee Curtis',\n",
       "  'Country': 'USA',\n",
       "  'RatingScore': '82',\n",
       "  'Type': 'movie'},\n",
       " {'Title': 'Jumanji: The Next Level',\n",
       "  'Year': '2019',\n",
       "  'Director': 'Jake Kasdan',\n",
       "  'Rated': 'PG-13',\n",
       "  'Runtime': '123 min',\n",
       "  'Genre': 'Action, Adventure, Comedy, Fantasy',\n",
       "  'Actors': 'Dwayne Johnson, Kevin Hart, Jack Black, Karen Gillan',\n",
       "  'Country': 'USA',\n",
       "  'RatingScore': '58',\n",
       "  'Type': 'movie'},\n",
       " {'Title': 'Venom',\n",
       "  'Year': '2018',\n",
       "  'Rated': 'PG-13',\n",
       "  'Runtime': '112 min',\n",
       "  'Genre': 'Action, Sci-Fi, Thriller',\n",
       "  'Director': 'Ruben Fleischer',\n",
       "  'Actors': 'Tom Hardy, Michelle Williams, Riz Ahmed, Scott Haze',\n",
       "  'Country': 'China, USA',\n",
       "  'RatingScore': '35',\n",
       "  'Type': 'movie'},\n",
       " {'Title': 'Incredibles 2',\n",
       "  'Year': '2018',\n",
       "  'Rated': 'PG',\n",
       "  'Runtime': '118 min',\n",
       "  'Genre': 'Animation, Action, Adventure, Comedy, Family, Sci-Fi',\n",
       "  'Director': 'Brad Bird',\n",
       "  'Country': 'USA',\n",
       "  'Actors': 'Craig T. Nelson, Holly Hunter, Sarah Vowell, Huck Milner',\n",
       "  'RatingScore': '80',\n",
       "  'Type': 'movie'},\n",
       " {'Title': 'Suspiria',\n",
       "  'Year': '2018',\n",
       "  'Rated': 'R',\n",
       "  'Runtime': '152 min',\n",
       "  'Genre': 'Fantasy, Horror, Mystery, Thriller',\n",
       "  'Director': 'Luca Guadagnino',\n",
       "  'Actors': 'Chloë Grace Moretz, Tilda Swinton, Doris Hick, Malgorzata Bela',\n",
       "  'Country': 'Italy, USA',\n",
       "  'RatingScore': '64',\n",
       "  'Type': 'movie'},\n",
       " {'Title': 'A Quiet Place',\n",
       "  'Year': '2018',\n",
       "  'Rated': 'PG-13',\n",
       "  'Runtime': '90 min',\n",
       "  'Genre': 'Drama, Horror, Sci-Fi',\n",
       "  'Director': 'John Krasinski',\n",
       "  'Actors': 'Emily Blunt, John Krasinski, Millicent Simmonds, Noah Jupe',\n",
       "  'Country': 'USA',\n",
       "  'RatingScore': '82',\n",
       "  'Type': 'movie'}]"
      ]
     },
     "execution_count": 14,
     "metadata": {},
     "output_type": "execute_result"
    }
   ],
   "source": [
    "files = json.loads(raw_json)\n",
    "files"
   ]
  },
  {
   "cell_type": "markdown",
   "metadata": {},
   "source": [
    "From the parsed JSON data, print a list of the all of the movie titles, along with the duration of each movie."
   ]
  },
  {
   "cell_type": "code",
   "execution_count": 43,
   "metadata": {},
   "outputs": [
    {
     "name": "stdout",
     "output_type": "stream",
     "text": [
      "London Has Fallen = 99 min \n",
      "Deadpool = 108 min \n",
      "Kung Fu Panda 3 = 95 min \n",
      "Spectre = 148 min \n",
      "Brooklyn = 111 min \n",
      "The Revenant = 156 min \n",
      "1917 = 119 min \n",
      "Joker = 122 min \n",
      "Uncut Gems = 135 min \n",
      "Knives Out = 131 min \n",
      "Jumanji: The Next Level = 123 min \n",
      "Venom = 112 min \n",
      "Incredibles 2 = 118 min \n",
      "Suspiria = 152 min \n",
      "A Quiet Place = 90 min \n"
     ]
    }
   ],
   "source": [
    "for file in files:\n",
    "    print(\"%s = %s \" % (file[\"Title\"],file[\"Runtime\"]))"
   ]
  },
  {
   "cell_type": "markdown",
   "metadata": {},
   "source": [
    "Extract and print the genre information for each movie."
   ]
  },
  {
   "cell_type": "code",
   "execution_count": 45,
   "metadata": {},
   "outputs": [
    {
     "name": "stdout",
     "output_type": "stream",
     "text": [
      "London Has Fallen Genre： Action, Crime, Thriller \n",
      "Deadpool Genre： Action, Adventure, Comedy \n",
      "Kung Fu Panda 3 Genre： Animation, Action, Adventure \n",
      "Spectre Genre： Action, Adventure, Thriller \n",
      "Brooklyn Genre： Drama, Romance \n",
      "The Revenant Genre： Adventure, Drama, Thriller \n",
      "1917 Genre： Drama, War \n",
      "Joker Genre： Crime, Drama, Thriller \n",
      "Uncut Gems Genre： Crime, Drama, Thriller \n",
      "Knives Out Genre： Comedy, Crime, Drama, Mystery, Thriller \n",
      "Jumanji: The Next Level Genre： Action, Adventure, Comedy, Fantasy \n",
      "Venom Genre： Action, Sci-Fi, Thriller \n",
      "Incredibles 2 Genre： Animation, Action, Adventure, Comedy, Family, Sci-Fi \n",
      "Suspiria Genre： Fantasy, Horror, Mystery, Thriller \n",
      "A Quiet Place Genre： Drama, Horror, Sci-Fi \n"
     ]
    }
   ],
   "source": [
    " for file in files:\n",
    "    print(\"%s Genre： %s \" % (file[\"Title\"],file[\"Genre\"]))"
   ]
  },
  {
   "cell_type": "markdown",
   "metadata": {},
   "source": [
    "Export the complete movie data to a new file in CSV format."
   ]
  },
  {
   "cell_type": "code",
   "execution_count": 28,
   "metadata": {},
   "outputs": [],
   "source": [
    "import csv\n",
    "fout = open('movies.csv', mode='w', newline='', encoding='utf-8')\n",
    "fieldnames = [\"Title\",\"Year\",\"Rated\",\"Runtime\",\"Genre\",\"Director\",\"Actors\",\"Country\",\"RatingScore\",\"Type\"]\n",
    "writer = csv.DictWriter(fout, fieldnames=fieldnames)\n",
    "writer.writeheader()\n",
    "writer.writerows(files)\n",
    "file.close()"
   ]
  },
  {
   "cell_type": "markdown",
   "metadata": {},
   "source": [
    "## Task 2 - XML Parsing"
   ]
  },
  {
   "cell_type": "markdown",
   "metadata": {},
   "source": [
    "Use Python to download a file containing a contact list in XML format from the URL: \n",
    "\n",
    "http://mlg.ucd.ie/modules/COMP41680/contacts.xml"
   ]
  },
  {
   "cell_type": "code",
   "execution_count": 30,
   "metadata": {},
   "outputs": [
    {
     "name": "stdout",
     "output_type": "stream",
     "text": [
      "<?xml version=\"1.0\"?>\n",
      "<contacts>\n",
      "  <contact>\n",
      "    <name>John Smith</name>\n",
      "    <phone>085-456-7890</phone>\n",
      "    <email>johnsmith243@gmail.com</email>\n",
      "  </contact>\n",
      "  <contact>\n",
      "    <name>Alice Murphy</name>\n",
      "    <phone>086-456-7891</phone>\n",
      "    <email>alice.murphy12@ucd.ie</email>\n",
      "  </contact>\n",
      "  <contact>\n",
      "    <name>Joe Adams</name>\n",
      "    <phone>086-222-4654</phone>\n",
      "    <email>joeadams2016@tcd.ie</email>\n",
      "  </contact>\n",
      "  <contact>\n",
      "    <name>Carol Conroy</name>\n",
      "    <phone>087-131-1331</phone>\n",
      "    <email>cconry1342@gmail.com</email>\n",
      "  </contact>\n",
      "  <contact>\n",
      "    <name>Mary Carthy</name>\n",
      "    <phone>086-221-7433</phone>\n",
      "    <email>mcarthy1987@ucd.ie</email>\n",
      "  </contact>\n",
      "</contacts>\n"
     ]
    }
   ],
   "source": [
    "url = \"http://mlg.ucd.ie/modules/COMP41680/contacts.xml\"\n",
    "response = urllib.request.urlopen(url)\n",
    "raw_xml = response.read().decode()\n",
    "print(raw_xml)"
   ]
  },
  {
   "cell_type": "markdown",
   "metadata": {},
   "source": [
    "Parse the XML data that you have downloaded."
   ]
  },
  {
   "cell_type": "code",
   "execution_count": 32,
   "metadata": {},
   "outputs": [
    {
     "name": "stdout",
     "output_type": "stream",
     "text": [
      "<Element 'contacts' at 0x000002D575BDD710>\n"
     ]
    }
   ],
   "source": [
    "import xml.etree.ElementTree\n",
    "tree = xml.etree.ElementTree.fromstring(raw_xml)\n",
    "print(tree)"
   ]
  },
  {
   "cell_type": "markdown",
   "metadata": {},
   "source": [
    "From the parsed XML data, extract the name, email address and phone number of each contact. \n",
    "\n",
    "Store these contacts in a list of dictionaries, and print them out."
   ]
  },
  {
   "cell_type": "code",
   "execution_count": 60,
   "metadata": {},
   "outputs": [
    {
     "name": "stdout",
     "output_type": "stream",
     "text": [
      "{'name': 'John Smith', 'phone': '085-456-7890', 'email': 'johnsmith243@gmail.com'}\n",
      "{'name': 'Alice Murphy', 'phone': '086-456-7891', 'email': 'alice.murphy12@ucd.ie'}\n",
      "{'name': 'Joe Adams', 'phone': '086-222-4654', 'email': 'joeadams2016@tcd.ie'}\n",
      "{'name': 'Carol Conroy', 'phone': '087-131-1331', 'email': 'cconry1342@gmail.com'}\n",
      "{'name': 'Mary Carthy', 'phone': '086-221-7433', 'email': 'mcarthy1987@ucd.ie'}\n"
     ]
    }
   ],
   "source": [
    "contacts=[]\n",
    "for child in tree.findall(\"contact\"):\n",
    "    name = child.find(\"name\").text\n",
    "    phone = child.find(\"phone\").text\n",
    "    email = child.find(\"email\").text\n",
    "    contacts.append({\"name\":name,\"phone\":phone,\"email\":email})\n",
    "for contact in contacts:\n",
    "    print(contact)"
   ]
  },
  {
   "cell_type": "markdown",
   "metadata": {},
   "source": [
    "Export the contact data to a new file in CSV format."
   ]
  },
  {
   "cell_type": "code",
   "execution_count": 66,
   "metadata": {},
   "outputs": [],
   "source": [
    "import csv\n",
    "field=[\"name\",\"phone\",\"email\"]\n",
    "fout = open(\"contacts.csv\",\"w\")\n",
    "writer = csv.DictWriter(fout,fieldnames = field)\n",
    "writer.writeheader()\n",
    "writer.writerows(contacts)\n",
    "fout.close()"
   ]
  },
  {
   "cell_type": "markdown",
   "metadata": {},
   "source": [
    "Use Pickle to serialise the contact data to a file. Verify that you can deseralise the data again."
   ]
  },
  {
   "cell_type": "code",
   "execution_count": 68,
   "metadata": {},
   "outputs": [],
   "source": [
    "import pickle\n",
    "fout = open(\"contacts.pkl\",\"wb\")\n",
    "pickle.dump(contacts,fout)\n",
    "fout.close()"
   ]
  },
  {
   "cell_type": "code",
   "execution_count": 72,
   "metadata": {},
   "outputs": [
    {
     "data": {
      "text/plain": [
       "[{'name': 'John Smith',\n",
       "  'phone': '085-456-7890',\n",
       "  'email': 'johnsmith243@gmail.com'},\n",
       " {'name': 'Alice Murphy',\n",
       "  'phone': '086-456-7891',\n",
       "  'email': 'alice.murphy12@ucd.ie'},\n",
       " {'name': 'Joe Adams',\n",
       "  'phone': '086-222-4654',\n",
       "  'email': 'joeadams2016@tcd.ie'},\n",
       " {'name': 'Carol Conroy',\n",
       "  'phone': '087-131-1331',\n",
       "  'email': 'cconry1342@gmail.com'},\n",
       " {'name': 'Mary Carthy',\n",
       "  'phone': '086-221-7433',\n",
       "  'email': 'mcarthy1987@ucd.ie'}]"
      ]
     },
     "execution_count": 72,
     "metadata": {},
     "output_type": "execute_result"
    }
   ],
   "source": [
    "fin = open(\"contacts.pkl\", \"rb\")\n",
    "values = pickle.load(fin)\n",
    "fin.close()\n",
    "values"
   ]
  },
  {
   "cell_type": "code",
   "execution_count": null,
   "metadata": {},
   "outputs": [],
   "source": []
  }
 ],
 "metadata": {
  "anaconda-cloud": {},
  "kernelspec": {
   "display_name": "Python 3 (ipykernel)",
   "language": "python",
   "name": "python3"
  },
  "language_info": {
   "codemirror_mode": {
    "name": "ipython",
    "version": 3
   },
   "file_extension": ".py",
   "mimetype": "text/x-python",
   "name": "python",
   "nbconvert_exporter": "python",
   "pygments_lexer": "ipython3",
   "version": "3.12.4"
  }
 },
 "nbformat": 4,
 "nbformat_minor": 4
}
