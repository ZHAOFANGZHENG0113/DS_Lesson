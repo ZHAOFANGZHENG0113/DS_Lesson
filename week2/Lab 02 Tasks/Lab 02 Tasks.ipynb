{
 "cells": [
  {
   "cell_type": "markdown",
   "metadata": {},
   "source": [
    "# Lab 2 Tasks"
   ]
  },
  {
   "cell_type": "markdown",
   "metadata": {},
   "source": [
    "## Task 1\n",
    "\n",
    "Create a function *sorted_random()* which generates a list of *n* random numbers, sorted in descending order (i.e. largest first). The number *n* should be an input argument for the function. If no value is specified for *n*, by default a list of 10 numbers should be generated."
   ]
  },
  {
   "cell_type": "code",
   "execution_count": 11,
   "metadata": {},
   "outputs": [
    {
     "name": "stdout",
     "output_type": "stream",
     "text": [
      "[91, 89, 81, 68, 53, 12, 10, 8, 7, 5]\n"
     ]
    }
   ],
   "source": [
    "import random\n",
    "def sorted_random(n=10):\n",
    "    list=[]\n",
    "    for i in range(n):\n",
    "        list.append(random.randint(0,100))\n",
    "    list.sort(reverse=True)\n",
    "    print(list)\n",
    "    \n",
    "sorted_random()"
   ]
  },
  {
   "cell_type": "markdown",
   "metadata": {},
   "source": [
    "## Task 2\n",
    "\n",
    "Download the comma-separated file *scores.csv* from the module Brightspace page and save it to the same directory as your notebook. \n",
    "\n",
    "Write a function *display_numbers()* which takes one argument - an input file path. The function should read floating point numbers from each line in the specified file, and compute the total for the values on each line. Print each total to 2 decimal places. \n",
    "\n",
    "Apply the function *display_numbers()* to *scores.csv*."
   ]
  },
  {
   "cell_type": "code",
   "execution_count": 54,
   "metadata": {},
   "outputs": [],
   "source": [
    "def display_numbers(str):\n",
    "    fin = open(str, \"r\")\n",
    "    for l in fin.readlines():\n",
    "        l= l.strip()\n",
    "        parts=l.split(\",\")\n",
    "        values=[]\n",
    "        for s in parts:\n",
    "            values.append(float(s))\n",
    "        print(sum(values))\n",
    "    fin.close() "
   ]
  },
  {
   "cell_type": "code",
   "execution_count": 56,
   "metadata": {},
   "outputs": [
    {
     "name": "stdout",
     "output_type": "stream",
     "text": [
      "2.84\n",
      "3.5700000000000003\n",
      "1.57\n",
      "2.41\n",
      "2.4699999999999998\n",
      "3.02\n"
     ]
    }
   ],
   "source": [
    "display_numbers(\"scores.csv\")"
   ]
  },
  {
   "cell_type": "markdown",
   "metadata": {
    "collapsed": true,
    "jupyter": {
     "outputs_hidden": true
    }
   },
   "source": [
    "## Task 3\n",
    "\n",
    "Write a function *reverse_numbers()* which takes two arguments - an input file path and an output file path. The function should read floating point numbers from each line in the specified input file. The order of the values from in line should then be reversed, and these lines should be written to the specifed output file.\n",
    "\n",
    "Apply the function *reverse_numbers()* to the file *scores.csv* from Task 1 to create a new output file *reversed.csv*."
   ]
  },
  {
   "cell_type": "code",
   "execution_count": 25,
   "metadata": {},
   "outputs": [],
   "source": [
    "def reverse_numbers(inPath, outPath):\n",
    "    fin = open(inPath,\"r\")\n",
    "    fout = open(outPath, \"w\")\n",
    "    for l in fin.readlines():\n",
    "        l=l.strip()\n",
    "        parts=l.split(\",\")\n",
    "        values=[]\n",
    "        values1=[]\n",
    "        for s in parts:\n",
    "            values.append(float(s))\n",
    "        for i in range(-1,-len(values)-1,-1):\n",
    "            values1.append(values[i])\n",
    "        reversed_line = \",\".join(str(v) for v in values1)    \n",
    "        fout.write(reversed_line + \"\\n\")\n",
    "    fin.close()\n",
    "    fout.close()\n",
    "reverse_numbers(\"scores.csv\",\"reversed.csv\")"
   ]
  },
  {
   "cell_type": "markdown",
   "metadata": {},
   "source": [
    "Second Way"
   ]
  },
  {
   "cell_type": "code",
   "execution_count": null,
   "metadata": {},
   "outputs": [],
   "source": [
    "def reverse_numbers(inPath, outPath):\n",
    "    with open(inPath, \"r\") as fin, open(outPath, \"w\") as fout:\n",
    "        for l in fin.readlines():\n",
    "            l = l.strip()  # 去除行尾换行符\n",
    "            parts = l.split(\",\")  # 以逗号分隔\n",
    "            values = [float(s) for s in parts]  # 将每个部分转换为浮点数\n",
    "\n",
    "            # 直接使用 reversed() 反转列表\n",
    "            reversed_values = reversed(values)\n",
    "\n",
    "            # 将反转后的数值转换为字符串，并用逗号连接\n",
    "            reversed_line = \",\".join(str(v) for v in reversed_values)\n",
    "\n",
    "            # 写入到输出文件，并添加换行符\n",
    "            fout.write(reversed_line + \"\\n\")\n",
    "\n",
    "# 调用函数\n",
    "reverse_numbers(\"scores.csv\", \"reversed.csv\")\n"
   ]
  },
  {
   "cell_type": "markdown",
   "metadata": {},
   "source": [
    "## Task 4\n",
    "\n",
    "Download the comma-separated file *worldcup.csv* from the module Brightspace page and save it to the same directory as your notebook. This data file contains a list of the winners and runners-up for all FIFA World Cup finals, one final per line.\n",
    "\n",
    "Write a function *count_finalists()* which takes a single argument (an input file path), reads the data, and displays the number of times each country has appeared in a World Cup final. Countries should be displayed in alphabetical order.\n",
    "\n",
    "Apply the function *count_finalists()* to the file *worldcup.csv*."
   ]
  },
  {
   "cell_type": "code",
   "execution_count": 45,
   "metadata": {},
   "outputs": [
    {
     "name": "stdout",
     "output_type": "stream",
     "text": [
      "['Year', 'Winners', 'Runners-up', '1930', 'Uruguay', 'Argentina', '1934', 'Italy', 'Czechoslovakia', '1938', 'Italy', 'Hungary', '1950', 'Uruguay', 'Brazil', '1954', 'West Germany', 'Hungary', '1958', 'Brazil', 'Sweden', '1962', 'Brazil', 'Czechoslovakia', '1966', 'England', 'West Germany', '1970', 'Brazil', 'Italy', '1974', 'West Germany', 'Netherlands', '1978', 'Argentina', 'Netherlands', '1982', 'Italy', 'West Germany', '1986', 'Argentina', 'West Germany', '1990', 'West Germany', 'Argentina', '1994', 'Brazil', 'Italy', '1998', 'France', 'Brazil', '2002', 'Brazil', 'Germany', '2006', 'Italy', 'France', '2010', 'Spain', 'Netherlands', '2014', 'Germany', 'Argentina', '2018', 'France', 'Croatia']\n",
      "{'Croatia': 1}\n"
     ]
    }
   ],
   "source": [
    "def count_finalists(inPath):\n",
    "    fin = open(inPath,\"r\")\n",
    "    values=[]\n",
    "    for l in fin.readlines():\n",
    "        l = l.strip()\n",
    "        parts = l.split(\",\")\n",
    "        for i in parts:\n",
    "            values.append(str(i))\n",
    "    values1 = values\n",
    "    set(values)\n",
    "    for l in values:\n",
    "        dic = {l:values1.count(l)}\n",
    "    fin.close()\n",
    "    print(dic)\n",
    "count_finalists(\"worldcup.csv\") "
   ]
  },
  {
   "cell_type": "code",
   "execution_count": null,
   "metadata": {},
   "outputs": [],
   "source": []
  }
 ],
 "metadata": {
  "kernelspec": {
   "display_name": "Python 3 (ipykernel)",
   "language": "python",
   "name": "python3"
  },
  "language_info": {
   "codemirror_mode": {
    "name": "ipython",
    "version": 3
   },
   "file_extension": ".py",
   "mimetype": "text/x-python",
   "name": "python",
   "nbconvert_exporter": "python",
   "pygments_lexer": "ipython3",
   "version": "3.12.4"
  }
 },
 "nbformat": 4,
 "nbformat_minor": 4
}
