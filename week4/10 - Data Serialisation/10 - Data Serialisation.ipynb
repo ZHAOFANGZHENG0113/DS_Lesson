{
 "cells": [
  {
   "cell_type": "markdown",
   "metadata": {},
   "source": [
    "# Data Serialisation\n",
    "\n",
    "Data serialisation is the process of flattening complex data structures, into a format that can be easily stored, transferred, or shared with another program. Python provides several different ways to do this."
   ]
  },
  {
   "cell_type": "markdown",
   "metadata": {},
   "source": [
    "## Serialisation with JSON\n",
    "The built-in *json* module provides an interface for converting Python objects into JavaScript Object Notation (JSON) format. "
   ]
  },
  {
   "cell_type": "code",
   "execution_count": 3,
   "metadata": {},
   "outputs": [],
   "source": [
    "import json"
   ]
  },
  {
   "cell_type": "markdown",
   "metadata": {},
   "source": [
    "Firstly, a simple example of serialising a dictionary to disk with JSON. "
   ]
  },
  {
   "cell_type": "code",
   "execution_count": 5,
   "metadata": {},
   "outputs": [],
   "source": [
    "capitals = {\"Ireland\":\"Dublin\", \"France\":\"Paris\", \"Spain\":\"Madrid\", \"Italy\": \"Rome\"} "
   ]
  },
  {
   "cell_type": "markdown",
   "metadata": {},
   "source": [
    "We open a file for text writing:"
   ]
  },
  {
   "cell_type": "code",
   "execution_count": 7,
   "metadata": {},
   "outputs": [],
   "source": [
    "fout = open(\"example1.json\", \"w\")"
   ]
  },
  {
   "cell_type": "markdown",
   "metadata": {},
   "source": [
    "We can use the *json.dump()* function to write directly to a file:"
   ]
  },
  {
   "cell_type": "code",
   "execution_count": 9,
   "metadata": {},
   "outputs": [],
   "source": [
    "json.dump(capitals, fout)\n",
    "fout.close()"
   ]
  },
  {
   "cell_type": "markdown",
   "metadata": {},
   "source": [
    "To deserialise, we open the file for text reading:"
   ]
  },
  {
   "cell_type": "code",
   "execution_count": 11,
   "metadata": {},
   "outputs": [],
   "source": [
    "fin = open(\"example1.json\",\"r\")"
   ]
  },
  {
   "cell_type": "markdown",
   "metadata": {},
   "source": [
    "Then use the *json.load()* function to reconstruct a copy of the original dictionary:"
   ]
  },
  {
   "cell_type": "code",
   "execution_count": 13,
   "metadata": {},
   "outputs": [],
   "source": [
    "values = json.load(fin)\n",
    "fin.close()"
   ]
  },
  {
   "cell_type": "markdown",
   "metadata": {},
   "source": [
    "The dictionary is exactly the same as we originally created (note that a dictionary ordering is arbitrary, so the pairs may not necessarily appear in the same order, but the values are the same)."
   ]
  },
  {
   "cell_type": "code",
   "execution_count": 15,
   "metadata": {},
   "outputs": [
    {
     "name": "stdout",
     "output_type": "stream",
     "text": [
      "<class 'dict'>\n"
     ]
    }
   ],
   "source": [
    "values\n",
    "print(type(values))"
   ]
  },
  {
   "cell_type": "markdown",
   "metadata": {},
   "source": [
    "## Serialisation with Pickle\n",
    "The built-in Python *pickle* module is the main mechanism provided by Python for serialising data. "
   ]
  },
  {
   "cell_type": "code",
   "execution_count": 17,
   "metadata": {},
   "outputs": [],
   "source": [
    "import pickle"
   ]
  },
  {
   "cell_type": "markdown",
   "metadata": {},
   "source": [
    "A simple example of serialising a dictionary to disk with Pickle. "
   ]
  },
  {
   "cell_type": "code",
   "execution_count": 19,
   "metadata": {},
   "outputs": [
    {
     "data": {
      "text/plain": [
       "{'Ireland': 'Dublin', 'France': 'Paris', 'Spain': 'Madrid', 'Italy': 'Rome'}"
      ]
     },
     "execution_count": 19,
     "metadata": {},
     "output_type": "execute_result"
    }
   ],
   "source": [
    "capitals = {\"Ireland\":\"Dublin\", \"France\":\"Paris\", \"Spain\":\"Madrid\", \"Italy\": \"Rome\"} \n",
    "capitals"
   ]
  },
  {
   "cell_type": "markdown",
   "metadata": {},
   "source": [
    "We open a file for binary writing (\"wb\"):"
   ]
  },
  {
   "cell_type": "code",
   "execution_count": 21,
   "metadata": {},
   "outputs": [],
   "source": [
    "fout = open(\"example1.pkl\", \"wb\")"
   ]
  },
  {
   "cell_type": "markdown",
   "metadata": {},
   "source": [
    "The simplest usage of Pickle involves calling the *pickle.dump()* function.  "
   ]
  },
  {
   "cell_type": "code",
   "execution_count": 23,
   "metadata": {},
   "outputs": [],
   "source": [
    "pickle.dump(capitals, fout)\n",
    "fout.close()"
   ]
  },
  {
   "cell_type": "markdown",
   "metadata": {},
   "source": [
    "To deserialise, we first open the file for binary reading (\"rb\"):"
   ]
  },
  {
   "cell_type": "code",
   "execution_count": 25,
   "metadata": {},
   "outputs": [],
   "source": [
    "fin = open(\"example1.pkl\", \"rb\")"
   ]
  },
  {
   "cell_type": "markdown",
   "metadata": {},
   "source": [
    "We then reconstruct the original dictionary using *pickle.load()*:"
   ]
  },
  {
   "cell_type": "code",
   "execution_count": 27,
   "metadata": {},
   "outputs": [],
   "source": [
    "values = pickle.load(fin)\n",
    "fin.close()"
   ]
  },
  {
   "cell_type": "markdown",
   "metadata": {},
   "source": [
    "We can see that Pickle has reconstructed the original dictionary:"
   ]
  },
  {
   "cell_type": "code",
   "execution_count": 29,
   "metadata": {},
   "outputs": [
    {
     "data": {
      "text/plain": [
       "{'Ireland': 'Dublin', 'France': 'Paris', 'Spain': 'Madrid', 'Italy': 'Rome'}"
      ]
     },
     "execution_count": 29,
     "metadata": {},
     "output_type": "execute_result"
    }
   ],
   "source": [
    "values"
   ]
  },
  {
   "cell_type": "markdown",
   "metadata": {},
   "source": [
    "We can apply the same process for more complex, nested data structures."
   ]
  },
  {
   "cell_type": "code",
   "execution_count": 31,
   "metadata": {},
   "outputs": [],
   "source": [
    "cities = [\"London\", \"Paris\", \"Madrid\"]\n",
    "teams = [\"Chelsea\", \"PSG\", \"Real Madrid\"]\n",
    "data = [cities, teams]\n",
    "fout = open(\"example2.pkl\", \"wb\")\n",
    "pickle.dump(data, fout)\n",
    "fout.close()"
   ]
  },
  {
   "cell_type": "code",
   "execution_count": 32,
   "metadata": {},
   "outputs": [],
   "source": [
    "import pickle\n",
    "fin = open(\"example2.pkl\", \"rb\")\n",
    "backup = pickle.load(fin)\n",
    "fin.close()"
   ]
  },
  {
   "cell_type": "code",
   "execution_count": 33,
   "metadata": {},
   "outputs": [
    {
     "data": {
      "text/plain": [
       "[['London', 'Paris', 'Madrid'], ['Chelsea', 'PSG', 'Real Madrid']]"
      ]
     },
     "execution_count": 33,
     "metadata": {},
     "output_type": "execute_result"
    }
   ],
   "source": [
    "backup"
   ]
  },
  {
   "cell_type": "code",
   "execution_count": 34,
   "metadata": {},
   "outputs": [
    {
     "data": {
      "text/plain": [
       "['London', 'Paris', 'Madrid']"
      ]
     },
     "execution_count": 34,
     "metadata": {},
     "output_type": "execute_result"
    }
   ],
   "source": [
    "backup[0]"
   ]
  },
  {
   "cell_type": "markdown",
   "metadata": {},
   "source": [
    "A further example, with more complex data."
   ]
  },
  {
   "cell_type": "code",
   "execution_count": 36,
   "metadata": {},
   "outputs": [],
   "source": [
    "book1 = {\n",
    "    \"id\" : \"978-1933988177\",\n",
    "    \"category\" : [\"book\",\"paperback\"],\n",
    "    \"name\" : \"Lucene in Action\",\n",
    "    \"author\" : \"Michael McCandless\",\n",
    "    \"genre\" : \"technology\",\n",
    "    \"price\" : 30.50,\n",
    "    \"pages\" : 475 }\n",
    "\n",
    "book2 = {\n",
    "    \"id\" : \"978-1857995879\",\n",
    "    \"category\" : [\"book\",\"paperback\"],\n",
    "    \"name\" : \"Sophie's World\",\n",
    "    \"author\" : \"Jostein Gaarder\",\n",
    "    \"sequence_i\" : 1,\n",
    "    \"genre\" : \"fiction\",\n",
    "    \"price\" : 3.07,\n",
    "    \"pages\" : 64 }"
   ]
  },
  {
   "cell_type": "code",
   "execution_count": 37,
   "metadata": {},
   "outputs": [
    {
     "data": {
      "text/plain": [
       "[{'id': '978-1933988177',\n",
       "  'category': ['book', 'paperback'],\n",
       "  'name': 'Lucene in Action',\n",
       "  'author': 'Michael McCandless',\n",
       "  'genre': 'technology',\n",
       "  'price': 30.5,\n",
       "  'pages': 475},\n",
       " {'id': '978-1857995879',\n",
       "  'category': ['book', 'paperback'],\n",
       "  'name': \"Sophie's World\",\n",
       "  'author': 'Jostein Gaarder',\n",
       "  'sequence_i': 1,\n",
       "  'genre': 'fiction',\n",
       "  'price': 3.07,\n",
       "  'pages': 64}]"
      ]
     },
     "execution_count": 37,
     "metadata": {},
     "output_type": "execute_result"
    }
   ],
   "source": [
    "books = [ book1, book2 ]\n",
    "books"
   ]
  },
  {
   "cell_type": "code",
   "execution_count": 38,
   "metadata": {},
   "outputs": [],
   "source": [
    "# Use Pickle to write this out to disk\n",
    "fout = open(\"example3.pkl\", \"wb\")\n",
    "pickle.dump(books, fout)\n",
    "fout.close()"
   ]
  },
  {
   "cell_type": "markdown",
   "metadata": {},
   "source": [
    "Again Pickle can reconstruct the original data structure from the seralised version on disk:"
   ]
  },
  {
   "cell_type": "code",
   "execution_count": 40,
   "metadata": {},
   "outputs": [],
   "source": [
    "fin = open(\"example3.pkl\", \"rb\")\n",
    "backup = pickle.load(fin)\n",
    "fin.close()"
   ]
  },
  {
   "cell_type": "code",
   "execution_count": 41,
   "metadata": {},
   "outputs": [
    {
     "data": {
      "text/plain": [
       "[{'id': '978-1933988177',\n",
       "  'category': ['book', 'paperback'],\n",
       "  'name': 'Lucene in Action',\n",
       "  'author': 'Michael McCandless',\n",
       "  'genre': 'technology',\n",
       "  'price': 30.5,\n",
       "  'pages': 475},\n",
       " {'id': '978-1857995879',\n",
       "  'category': ['book', 'paperback'],\n",
       "  'name': \"Sophie's World\",\n",
       "  'author': 'Jostein Gaarder',\n",
       "  'sequence_i': 1,\n",
       "  'genre': 'fiction',\n",
       "  'price': 3.07,\n",
       "  'pages': 64}]"
      ]
     },
     "execution_count": 41,
     "metadata": {},
     "output_type": "execute_result"
    }
   ],
   "source": [
    "backup"
   ]
  },
  {
   "cell_type": "code",
   "execution_count": 42,
   "metadata": {},
   "outputs": [
    {
     "data": {
      "text/plain": [
       "{'id': '978-1933988177',\n",
       " 'category': ['book', 'paperback'],\n",
       " 'name': 'Lucene in Action',\n",
       " 'author': 'Michael McCandless',\n",
       " 'genre': 'technology',\n",
       " 'price': 30.5,\n",
       " 'pages': 475}"
      ]
     },
     "execution_count": 42,
     "metadata": {},
     "output_type": "execute_result"
    }
   ],
   "source": [
    "backup[0]"
   ]
  }
 ],
 "metadata": {
  "anaconda-cloud": {},
  "kernelspec": {
   "display_name": "Python 3 (ipykernel)",
   "language": "python",
   "name": "python3"
  },
  "language_info": {
   "codemirror_mode": {
    "name": "ipython",
    "version": 3
   },
   "file_extension": ".py",
   "mimetype": "text/x-python",
   "name": "python",
   "nbconvert_exporter": "python",
   "pygments_lexer": "ipython3",
   "version": "3.12.4"
  }
 },
 "nbformat": 4,
 "nbformat_minor": 4
}
