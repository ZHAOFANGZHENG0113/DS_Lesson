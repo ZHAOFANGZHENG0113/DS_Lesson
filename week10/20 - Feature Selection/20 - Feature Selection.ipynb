{
 "cells": [
  {
   "cell_type": "markdown",
   "id": "76653f30",
   "metadata": {},
   "source": [
    "# Selecting Features for Classification\n",
    "\n",
    "In this notebook we will look at how using different feature subsets from a dataset can impact on classification performance."
   ]
  },
  {
   "cell_type": "code",
   "execution_count": 2,
   "id": "41073502",
   "metadata": {},
   "outputs": [],
   "source": [
    "import pandas as pd\n",
    "import numpy as np\n",
    "from sklearn.neighbors import KNeighborsClassifier\n",
    "from sklearn.model_selection import cross_val_score\n",
    "from sklearn.feature_selection import SequentialFeatureSelector\n",
    "import matplotlib\n",
    "import matplotlib.pyplot as plt\n",
    "%matplotlib inline\n",
    "matplotlib.rcParams.update({'font.size': 13})"
   ]
  },
  {
   "cell_type": "markdown",
   "id": "caf79639",
   "metadata": {},
   "source": [
    "For this example, we will use the [*Diabetes* dataset](https://www.kaggle.com/datasets/mathchi/diabetes-data-set), originally collected by the US National Institute of Diabetes. Given a set of patient diagnostic measurements, the objective of this task is to predict whether or not the patient has diabetes. The features in the data are as follows:\n",
    "\n",
    "- *preg*: Number of times the patient has been pregnant\n",
    "- *plasma*: Plasma glucose concentration\n",
    "- *pres*: Diastolic blood pressure\n",
    "- *skin*: Triceps skin fold thickness\n",
    "- *insulin*: 2-Hour serum insulin level\n",
    "- *bmi*: Body mass index \n",
    "- *family*: Score likelihood of diabetes based on family history\n",
    "- *age*: The patient's age in years\n",
    "- *outcome*: The actual diagnosis for the patient ('positive' or 'negative')"
   ]
  },
  {
   "cell_type": "markdown",
   "id": "36f5a36e",
   "metadata": {},
   "source": [
    "## Data Loading and Initial Classification"
   ]
  },
  {
   "cell_type": "markdown",
   "id": "79452134",
   "metadata": {},
   "source": [
    "Load the complete dataset from a CSV file:"
   ]
  },
  {
   "cell_type": "code",
   "execution_count": 6,
   "id": "a2495ca2",
   "metadata": {},
   "outputs": [
    {
     "data": {
      "text/html": [
       "<div>\n",
       "<style scoped>\n",
       "    .dataframe tbody tr th:only-of-type {\n",
       "        vertical-align: middle;\n",
       "    }\n",
       "\n",
       "    .dataframe tbody tr th {\n",
       "        vertical-align: top;\n",
       "    }\n",
       "\n",
       "    .dataframe thead th {\n",
       "        text-align: right;\n",
       "    }\n",
       "</style>\n",
       "<table border=\"1\" class=\"dataframe\">\n",
       "  <thead>\n",
       "    <tr style=\"text-align: right;\">\n",
       "      <th></th>\n",
       "      <th>preg</th>\n",
       "      <th>plasma</th>\n",
       "      <th>pres</th>\n",
       "      <th>skin</th>\n",
       "      <th>insulin</th>\n",
       "      <th>bmi</th>\n",
       "      <th>family</th>\n",
       "      <th>age</th>\n",
       "      <th>outcome</th>\n",
       "    </tr>\n",
       "  </thead>\n",
       "  <tbody>\n",
       "    <tr>\n",
       "      <th>0</th>\n",
       "      <td>6</td>\n",
       "      <td>148</td>\n",
       "      <td>72</td>\n",
       "      <td>35</td>\n",
       "      <td>0</td>\n",
       "      <td>33.6</td>\n",
       "      <td>0.627</td>\n",
       "      <td>50</td>\n",
       "      <td>positive</td>\n",
       "    </tr>\n",
       "    <tr>\n",
       "      <th>1</th>\n",
       "      <td>1</td>\n",
       "      <td>85</td>\n",
       "      <td>66</td>\n",
       "      <td>29</td>\n",
       "      <td>0</td>\n",
       "      <td>26.6</td>\n",
       "      <td>0.351</td>\n",
       "      <td>31</td>\n",
       "      <td>negative</td>\n",
       "    </tr>\n",
       "    <tr>\n",
       "      <th>2</th>\n",
       "      <td>8</td>\n",
       "      <td>183</td>\n",
       "      <td>64</td>\n",
       "      <td>0</td>\n",
       "      <td>0</td>\n",
       "      <td>23.3</td>\n",
       "      <td>0.672</td>\n",
       "      <td>32</td>\n",
       "      <td>positive</td>\n",
       "    </tr>\n",
       "    <tr>\n",
       "      <th>3</th>\n",
       "      <td>1</td>\n",
       "      <td>89</td>\n",
       "      <td>66</td>\n",
       "      <td>23</td>\n",
       "      <td>94</td>\n",
       "      <td>28.1</td>\n",
       "      <td>0.167</td>\n",
       "      <td>21</td>\n",
       "      <td>negative</td>\n",
       "    </tr>\n",
       "    <tr>\n",
       "      <th>4</th>\n",
       "      <td>0</td>\n",
       "      <td>137</td>\n",
       "      <td>40</td>\n",
       "      <td>35</td>\n",
       "      <td>168</td>\n",
       "      <td>43.1</td>\n",
       "      <td>2.288</td>\n",
       "      <td>33</td>\n",
       "      <td>positive</td>\n",
       "    </tr>\n",
       "  </tbody>\n",
       "</table>\n",
       "</div>"
      ],
      "text/plain": [
       "   preg  plasma  pres  skin  insulin   bmi  family  age   outcome\n",
       "0     6     148    72    35        0  33.6   0.627   50  positive\n",
       "1     1      85    66    29        0  26.6   0.351   31  negative\n",
       "2     8     183    64     0        0  23.3   0.672   32  positive\n",
       "3     1      89    66    23       94  28.1   0.167   21  negative\n",
       "4     0     137    40    35      168  43.1   2.288   33  positive"
      ]
     },
     "execution_count": 6,
     "metadata": {},
     "output_type": "execute_result"
    }
   ],
   "source": [
    "df = pd.read_csv('diabetes.csv')\n",
    "df.head()"
   ]
  },
  {
   "cell_type": "markdown",
   "id": "2232c489",
   "metadata": {},
   "source": [
    "Separate out the features to use for classification from the target label itself:"
   ]
  },
  {
   "cell_type": "code",
   "execution_count": 8,
   "id": "48f8a4e0",
   "metadata": {},
   "outputs": [
    {
     "name": "stdout",
     "output_type": "stream",
     "text": [
      "Features: ['preg', 'plasma', 'pres', 'skin', 'insulin', 'bmi', 'family', 'age']\n"
     ]
    }
   ],
   "source": [
    "target = df[\"outcome\"].values\n",
    "features = list(df.columns)\n",
    "features.remove(\"outcome\")\n",
    "print(\"Features: %s\" % features)"
   ]
  },
  {
   "cell_type": "markdown",
   "id": "0ee023d6",
   "metadata": {},
   "source": [
    "Firstly, try binary classification with the full feature set:"
   ]
  },
  {
   "cell_type": "code",
   "execution_count": 10,
   "id": "a6820c5b",
   "metadata": {},
   "outputs": [
    {
     "data": {
      "text/html": [
       "<div>\n",
       "<style scoped>\n",
       "    .dataframe tbody tr th:only-of-type {\n",
       "        vertical-align: middle;\n",
       "    }\n",
       "\n",
       "    .dataframe tbody tr th {\n",
       "        vertical-align: top;\n",
       "    }\n",
       "\n",
       "    .dataframe thead th {\n",
       "        text-align: right;\n",
       "    }\n",
       "</style>\n",
       "<table border=\"1\" class=\"dataframe\">\n",
       "  <thead>\n",
       "    <tr style=\"text-align: right;\">\n",
       "      <th></th>\n",
       "      <th>preg</th>\n",
       "      <th>plasma</th>\n",
       "      <th>pres</th>\n",
       "      <th>skin</th>\n",
       "      <th>insulin</th>\n",
       "      <th>bmi</th>\n",
       "      <th>family</th>\n",
       "      <th>age</th>\n",
       "    </tr>\n",
       "  </thead>\n",
       "  <tbody>\n",
       "    <tr>\n",
       "      <th>0</th>\n",
       "      <td>6</td>\n",
       "      <td>148</td>\n",
       "      <td>72</td>\n",
       "      <td>35</td>\n",
       "      <td>0</td>\n",
       "      <td>33.6</td>\n",
       "      <td>0.627</td>\n",
       "      <td>50</td>\n",
       "    </tr>\n",
       "    <tr>\n",
       "      <th>1</th>\n",
       "      <td>1</td>\n",
       "      <td>85</td>\n",
       "      <td>66</td>\n",
       "      <td>29</td>\n",
       "      <td>0</td>\n",
       "      <td>26.6</td>\n",
       "      <td>0.351</td>\n",
       "      <td>31</td>\n",
       "    </tr>\n",
       "    <tr>\n",
       "      <th>2</th>\n",
       "      <td>8</td>\n",
       "      <td>183</td>\n",
       "      <td>64</td>\n",
       "      <td>0</td>\n",
       "      <td>0</td>\n",
       "      <td>23.3</td>\n",
       "      <td>0.672</td>\n",
       "      <td>32</td>\n",
       "    </tr>\n",
       "    <tr>\n",
       "      <th>3</th>\n",
       "      <td>1</td>\n",
       "      <td>89</td>\n",
       "      <td>66</td>\n",
       "      <td>23</td>\n",
       "      <td>94</td>\n",
       "      <td>28.1</td>\n",
       "      <td>0.167</td>\n",
       "      <td>21</td>\n",
       "    </tr>\n",
       "    <tr>\n",
       "      <th>4</th>\n",
       "      <td>0</td>\n",
       "      <td>137</td>\n",
       "      <td>40</td>\n",
       "      <td>35</td>\n",
       "      <td>168</td>\n",
       "      <td>43.1</td>\n",
       "      <td>2.288</td>\n",
       "      <td>33</td>\n",
       "    </tr>\n",
       "  </tbody>\n",
       "</table>\n",
       "</div>"
      ],
      "text/plain": [
       "   preg  plasma  pres  skin  insulin   bmi  family  age\n",
       "0     6     148    72    35        0  33.6   0.627   50\n",
       "1     1      85    66    29        0  26.6   0.351   31\n",
       "2     8     183    64     0        0  23.3   0.672   32\n",
       "3     1      89    66    23       94  28.1   0.167   21\n",
       "4     0     137    40    35      168  43.1   2.288   33"
      ]
     },
     "execution_count": 10,
     "metadata": {},
     "output_type": "execute_result"
    }
   ],
   "source": [
    "data = df[features]\n",
    "data.head()"
   ]
  },
  {
   "cell_type": "code",
   "execution_count": 11,
   "id": "ea13e997-861a-4511-8b21-913f3b1fa48c",
   "metadata": {},
   "outputs": [
    {
     "data": {
      "text/plain": [
       "array(['positive', 'negative', 'positive', 'negative', 'positive',\n",
       "       'negative', 'positive', 'negative', 'positive', 'positive',\n",
       "       'negative', 'positive', 'negative', 'positive', 'positive',\n",
       "       'positive', 'positive', 'positive', 'negative', 'positive',\n",
       "       'negative', 'negative', 'positive', 'positive', 'positive',\n",
       "       'positive', 'positive', 'negative', 'negative', 'negative',\n",
       "       'negative', 'positive', 'negative', 'negative', 'negative',\n",
       "       'negative', 'negative', 'positive', 'positive', 'positive',\n",
       "       'negative', 'negative', 'negative', 'positive', 'negative',\n",
       "       'positive', 'negative', 'negative', 'positive', 'negative',\n",
       "       'negative', 'negative', 'negative', 'positive', 'negative',\n",
       "       'negative', 'positive', 'negative', 'negative', 'negative',\n",
       "       'negative', 'positive', 'negative', 'negative', 'positive',\n",
       "       'negative', 'positive', 'negative', 'negative', 'negative',\n",
       "       'positive', 'negative', 'positive', 'negative', 'negative',\n",
       "       'negative', 'negative', 'negative', 'positive', 'negative',\n",
       "       'negative', 'negative', 'negative', 'negative', 'positive',\n",
       "       'negative', 'negative', 'negative', 'positive', 'negative',\n",
       "       'negative', 'negative', 'negative', 'positive', 'negative',\n",
       "       'negative', 'negative', 'negative', 'negative', 'positive',\n",
       "       'positive', 'negative', 'negative', 'negative', 'negative',\n",
       "       'negative', 'negative', 'negative', 'negative', 'positive',\n",
       "       'positive', 'positive', 'negative', 'negative', 'positive',\n",
       "       'positive', 'positive', 'negative', 'negative', 'negative',\n",
       "       'positive', 'negative', 'negative', 'negative', 'positive',\n",
       "       'positive', 'negative', 'negative', 'positive', 'positive',\n",
       "       'positive', 'positive', 'positive', 'negative', 'negative',\n",
       "       'negative', 'negative', 'negative', 'negative', 'negative',\n",
       "       'negative', 'negative', 'negative', 'positive', 'negative',\n",
       "       'negative', 'negative', 'negative', 'negative', 'negative',\n",
       "       'negative', 'negative', 'positive', 'negative', 'positive',\n",
       "       'positive', 'negative', 'negative', 'negative', 'positive',\n",
       "       'negative', 'negative', 'negative', 'negative', 'positive',\n",
       "       'positive', 'negative', 'negative', 'negative', 'negative',\n",
       "       'positive', 'positive', 'negative', 'negative', 'negative',\n",
       "       'positive', 'negative', 'positive', 'negative', 'positive',\n",
       "       'negative', 'negative', 'negative', 'negative', 'negative',\n",
       "       'positive', 'positive', 'positive', 'positive', 'positive',\n",
       "       'negative', 'negative', 'positive', 'positive', 'negative',\n",
       "       'positive', 'negative', 'positive', 'positive', 'positive',\n",
       "       'negative', 'negative', 'negative', 'negative', 'negative',\n",
       "       'negative', 'positive', 'positive', 'negative', 'positive',\n",
       "       'negative', 'negative', 'negative', 'positive', 'positive',\n",
       "       'positive', 'positive', 'negative', 'positive', 'positive',\n",
       "       'positive', 'positive', 'negative', 'negative', 'negative',\n",
       "       'negative', 'negative', 'positive', 'negative', 'negative',\n",
       "       'positive', 'positive', 'negative', 'negative', 'negative',\n",
       "       'positive', 'positive', 'positive', 'positive', 'negative',\n",
       "       'negative', 'negative', 'positive', 'positive', 'negative',\n",
       "       'positive', 'negative', 'negative', 'negative', 'negative',\n",
       "       'negative', 'negative', 'negative', 'negative', 'positive',\n",
       "       'positive', 'negative', 'negative', 'negative', 'positive',\n",
       "       'negative', 'positive', 'negative', 'negative', 'positive',\n",
       "       'negative', 'positive', 'negative', 'negative', 'positive',\n",
       "       'positive', 'negative', 'negative', 'negative', 'negative',\n",
       "       'negative', 'positive', 'negative', 'negative', 'negative',\n",
       "       'positive', 'negative', 'negative', 'positive', 'positive',\n",
       "       'negative', 'negative', 'positive', 'negative', 'negative',\n",
       "       'negative', 'positive', 'positive', 'positive', 'negative',\n",
       "       'negative', 'positive', 'negative', 'positive', 'negative',\n",
       "       'positive', 'positive', 'negative', 'positive', 'negative',\n",
       "       'negative', 'positive', 'negative', 'positive', 'positive',\n",
       "       'negative', 'negative', 'positive', 'negative', 'positive',\n",
       "       'negative', 'negative', 'positive', 'negative', 'positive',\n",
       "       'negative', 'positive', 'positive', 'positive', 'negative',\n",
       "       'negative', 'positive', 'negative', 'positive', 'negative',\n",
       "       'negative', 'negative', 'positive', 'negative', 'negative',\n",
       "       'negative', 'negative', 'positive', 'positive', 'positive',\n",
       "       'negative', 'negative', 'negative', 'negative', 'negative',\n",
       "       'negative', 'negative', 'negative', 'negative', 'positive',\n",
       "       'negative', 'negative', 'negative', 'negative', 'negative',\n",
       "       'positive', 'positive', 'positive', 'negative', 'positive',\n",
       "       'positive', 'negative', 'negative', 'positive', 'negative',\n",
       "       'negative', 'positive', 'negative', 'negative', 'positive',\n",
       "       'positive', 'negative', 'negative', 'negative', 'negative',\n",
       "       'positive', 'negative', 'negative', 'positive', 'negative',\n",
       "       'negative', 'negative', 'negative', 'negative', 'negative',\n",
       "       'negative', 'positive', 'positive', 'positive', 'negative',\n",
       "       'negative', 'positive', 'negative', 'negative', 'positive',\n",
       "       'negative', 'negative', 'positive', 'negative', 'positive',\n",
       "       'positive', 'negative', 'positive', 'negative', 'positive',\n",
       "       'negative', 'positive', 'negative', 'positive', 'positive',\n",
       "       'negative', 'negative', 'negative', 'negative', 'positive',\n",
       "       'positive', 'negative', 'positive', 'negative', 'positive',\n",
       "       'negative', 'negative', 'negative', 'negative', 'positive',\n",
       "       'positive', 'negative', 'positive', 'negative', 'positive',\n",
       "       'negative', 'negative', 'negative', 'negative', 'negative',\n",
       "       'positive', 'negative', 'negative', 'negative', 'negative',\n",
       "       'positive', 'negative', 'negative', 'positive', 'positive',\n",
       "       'positive', 'negative', 'negative', 'positive', 'negative',\n",
       "       'negative', 'positive', 'negative', 'negative', 'negative',\n",
       "       'positive', 'negative', 'negative', 'positive', 'negative',\n",
       "       'negative', 'negative', 'negative', 'negative', 'negative',\n",
       "       'negative', 'negative', 'negative', 'positive', 'negative',\n",
       "       'negative', 'negative', 'negative', 'negative', 'negative',\n",
       "       'negative', 'positive', 'negative', 'negative', 'negative',\n",
       "       'positive', 'negative', 'negative', 'negative', 'positive',\n",
       "       'positive', 'negative', 'negative', 'negative', 'negative',\n",
       "       'negative', 'negative', 'negative', 'positive', 'negative',\n",
       "       'negative', 'negative', 'negative', 'positive', 'negative',\n",
       "       'negative', 'negative', 'positive', 'negative', 'negative',\n",
       "       'negative', 'positive', 'negative', 'negative', 'negative',\n",
       "       'positive', 'negative', 'negative', 'negative', 'negative',\n",
       "       'positive', 'positive', 'negative', 'negative', 'negative',\n",
       "       'negative', 'negative', 'negative', 'positive', 'negative',\n",
       "       'negative', 'negative', 'negative', 'negative', 'negative',\n",
       "       'negative', 'negative', 'negative', 'negative', 'negative',\n",
       "       'positive', 'negative', 'negative', 'negative', 'positive',\n",
       "       'positive', 'positive', 'positive', 'negative', 'negative',\n",
       "       'positive', 'positive', 'negative', 'negative', 'negative',\n",
       "       'negative', 'negative', 'negative', 'negative', 'negative',\n",
       "       'negative', 'negative', 'negative', 'negative', 'negative',\n",
       "       'positive', 'positive', 'negative', 'negative', 'negative',\n",
       "       'negative', 'negative', 'negative', 'negative', 'positive',\n",
       "       'negative', 'negative', 'negative', 'negative', 'negative',\n",
       "       'negative', 'negative', 'positive', 'negative', 'positive',\n",
       "       'positive', 'negative', 'negative', 'negative', 'positive',\n",
       "       'negative', 'positive', 'negative', 'positive', 'negative',\n",
       "       'positive', 'negative', 'positive', 'negative', 'negative',\n",
       "       'positive', 'negative', 'negative', 'positive', 'negative',\n",
       "       'negative', 'negative', 'negative', 'positive', 'positive',\n",
       "       'negative', 'positive', 'negative', 'negative', 'negative',\n",
       "       'negative', 'positive', 'positive', 'negative', 'positive',\n",
       "       'negative', 'negative', 'negative', 'positive', 'positive',\n",
       "       'negative', 'negative', 'negative', 'negative', 'negative',\n",
       "       'negative', 'negative', 'negative', 'negative', 'negative',\n",
       "       'positive', 'negative', 'negative', 'negative', 'negative',\n",
       "       'positive', 'negative', 'negative', 'positive', 'negative',\n",
       "       'negative', 'negative', 'positive', 'negative', 'negative',\n",
       "       'negative', 'positive', 'positive', 'positive', 'negative',\n",
       "       'negative', 'negative', 'negative', 'negative', 'negative',\n",
       "       'positive', 'negative', 'negative', 'negative', 'positive',\n",
       "       'negative', 'positive', 'positive', 'positive', 'positive',\n",
       "       'negative', 'positive', 'positive', 'negative', 'negative',\n",
       "       'negative', 'negative', 'negative', 'negative', 'negative',\n",
       "       'positive', 'positive', 'negative', 'positive', 'negative',\n",
       "       'negative', 'positive', 'negative', 'positive', 'negative',\n",
       "       'negative', 'negative', 'negative', 'negative', 'positive',\n",
       "       'negative', 'positive', 'negative', 'positive', 'negative',\n",
       "       'positive', 'positive', 'negative', 'negative', 'negative',\n",
       "       'negative', 'positive', 'positive', 'negative', 'negative',\n",
       "       'negative', 'positive', 'negative', 'positive', 'positive',\n",
       "       'negative', 'negative', 'positive', 'negative', 'negative',\n",
       "       'positive', 'positive', 'negative', 'negative', 'positive',\n",
       "       'negative', 'negative', 'positive', 'negative', 'negative',\n",
       "       'negative', 'negative', 'negative', 'negative', 'negative',\n",
       "       'positive', 'positive', 'positive', 'negative', 'negative',\n",
       "       'negative', 'negative', 'negative', 'negative'], dtype=object)"
      ]
     },
     "execution_count": 11,
     "metadata": {},
     "output_type": "execute_result"
    }
   ],
   "source": [
    "target"
   ]
  },
  {
   "cell_type": "markdown",
   "id": "29b2bb0c",
   "metadata": {},
   "source": [
    "We will use 5-fold cross validation to evaluate a KNN classifier:"
   ]
  },
  {
   "cell_type": "code",
   "execution_count": 13,
   "id": "eb57c049",
   "metadata": {},
   "outputs": [
    {
     "name": "stdout",
     "output_type": "stream",
     "text": [
      "Mean cross validation accuracy = 0.716\n"
     ]
    }
   ],
   "source": [
    "knn = KNeighborsClassifier(n_neighbors=3)\n",
    "acc_scores = cross_val_score(knn, data, target, cv=2, scoring=\"accuracy\")\n",
    "mean_accuracy = np.mean(acc_scores)\n",
    "print(\"Mean cross validation accuracy = %.3f\" % mean_accuracy)"
   ]
  },
  {
   "cell_type": "markdown",
   "id": "f1e89eca",
   "metadata": {},
   "source": [
    "We could decide to manually choose a subset of features that we might believe are particularly relevant for the problem. For instance:\n",
    "\n",
    "- *insulin*: 2-Hour serum insulin level\n",
    "- *bmi*: Body mass index \n",
    "- *family*: Score likelihood of diabetes based on family history\n",
    "- *age*: The patient's age in years"
   ]
  },
  {
   "cell_type": "code",
   "execution_count": 15,
   "id": "13d62c5f",
   "metadata": {},
   "outputs": [
    {
     "data": {
      "text/html": [
       "<div>\n",
       "<style scoped>\n",
       "    .dataframe tbody tr th:only-of-type {\n",
       "        vertical-align: middle;\n",
       "    }\n",
       "\n",
       "    .dataframe tbody tr th {\n",
       "        vertical-align: top;\n",
       "    }\n",
       "\n",
       "    .dataframe thead th {\n",
       "        text-align: right;\n",
       "    }\n",
       "</style>\n",
       "<table border=\"1\" class=\"dataframe\">\n",
       "  <thead>\n",
       "    <tr style=\"text-align: right;\">\n",
       "      <th></th>\n",
       "      <th>insulin</th>\n",
       "      <th>bmi</th>\n",
       "      <th>family</th>\n",
       "      <th>age</th>\n",
       "    </tr>\n",
       "  </thead>\n",
       "  <tbody>\n",
       "    <tr>\n",
       "      <th>0</th>\n",
       "      <td>0</td>\n",
       "      <td>33.6</td>\n",
       "      <td>0.627</td>\n",
       "      <td>50</td>\n",
       "    </tr>\n",
       "    <tr>\n",
       "      <th>1</th>\n",
       "      <td>0</td>\n",
       "      <td>26.6</td>\n",
       "      <td>0.351</td>\n",
       "      <td>31</td>\n",
       "    </tr>\n",
       "    <tr>\n",
       "      <th>2</th>\n",
       "      <td>0</td>\n",
       "      <td>23.3</td>\n",
       "      <td>0.672</td>\n",
       "      <td>32</td>\n",
       "    </tr>\n",
       "    <tr>\n",
       "      <th>3</th>\n",
       "      <td>94</td>\n",
       "      <td>28.1</td>\n",
       "      <td>0.167</td>\n",
       "      <td>21</td>\n",
       "    </tr>\n",
       "    <tr>\n",
       "      <th>4</th>\n",
       "      <td>168</td>\n",
       "      <td>43.1</td>\n",
       "      <td>2.288</td>\n",
       "      <td>33</td>\n",
       "    </tr>\n",
       "  </tbody>\n",
       "</table>\n",
       "</div>"
      ],
      "text/plain": [
       "   insulin   bmi  family  age\n",
       "0        0  33.6   0.627   50\n",
       "1        0  26.6   0.351   31\n",
       "2        0  23.3   0.672   32\n",
       "3       94  28.1   0.167   21\n",
       "4      168  43.1   2.288   33"
      ]
     },
     "execution_count": 15,
     "metadata": {},
     "output_type": "execute_result"
    }
   ],
   "source": [
    "subset1 = [\"insulin\", \"bmi\", \"family\", \"age\"]\n",
    "data_subset1 = data[subset1]\n",
    "data_subset1.head()"
   ]
  },
  {
   "cell_type": "markdown",
   "id": "cecd19a9",
   "metadata": {},
   "source": [
    "We will apply the same classifier and evaluation process on the subset of features:"
   ]
  },
  {
   "cell_type": "code",
   "execution_count": 17,
   "id": "cf4f8900",
   "metadata": {},
   "outputs": [
    {
     "name": "stdout",
     "output_type": "stream",
     "text": [
      "Mean cross validation accuracy = 0.671\n"
     ]
    }
   ],
   "source": [
    "knn = KNeighborsClassifier(n_neighbors=3)\n",
    "acc_scores = cross_val_score(knn, data_subset1, target, cv=2, scoring=\"accuracy\")\n",
    "mean_accuracy = np.mean(acc_scores)\n",
    "print(\"Mean cross validation accuracy = %.3f\" % mean_accuracy)"
   ]
  },
  {
   "cell_type": "markdown",
   "id": "c125ce32",
   "metadata": {},
   "source": [
    "If this does not work, we might manually choose an alternative subset of features:"
   ]
  },
  {
   "cell_type": "code",
   "execution_count": 19,
   "id": "01fd6d16",
   "metadata": {},
   "outputs": [
    {
     "data": {
      "text/html": [
       "<div>\n",
       "<style scoped>\n",
       "    .dataframe tbody tr th:only-of-type {\n",
       "        vertical-align: middle;\n",
       "    }\n",
       "\n",
       "    .dataframe tbody tr th {\n",
       "        vertical-align: top;\n",
       "    }\n",
       "\n",
       "    .dataframe thead th {\n",
       "        text-align: right;\n",
       "    }\n",
       "</style>\n",
       "<table border=\"1\" class=\"dataframe\">\n",
       "  <thead>\n",
       "    <tr style=\"text-align: right;\">\n",
       "      <th></th>\n",
       "      <th>preg</th>\n",
       "      <th>plasma</th>\n",
       "      <th>bmi</th>\n",
       "      <th>family</th>\n",
       "      <th>age</th>\n",
       "    </tr>\n",
       "  </thead>\n",
       "  <tbody>\n",
       "    <tr>\n",
       "      <th>0</th>\n",
       "      <td>6</td>\n",
       "      <td>148</td>\n",
       "      <td>33.6</td>\n",
       "      <td>0.627</td>\n",
       "      <td>50</td>\n",
       "    </tr>\n",
       "    <tr>\n",
       "      <th>1</th>\n",
       "      <td>1</td>\n",
       "      <td>85</td>\n",
       "      <td>26.6</td>\n",
       "      <td>0.351</td>\n",
       "      <td>31</td>\n",
       "    </tr>\n",
       "    <tr>\n",
       "      <th>2</th>\n",
       "      <td>8</td>\n",
       "      <td>183</td>\n",
       "      <td>23.3</td>\n",
       "      <td>0.672</td>\n",
       "      <td>32</td>\n",
       "    </tr>\n",
       "    <tr>\n",
       "      <th>3</th>\n",
       "      <td>1</td>\n",
       "      <td>89</td>\n",
       "      <td>28.1</td>\n",
       "      <td>0.167</td>\n",
       "      <td>21</td>\n",
       "    </tr>\n",
       "    <tr>\n",
       "      <th>4</th>\n",
       "      <td>0</td>\n",
       "      <td>137</td>\n",
       "      <td>43.1</td>\n",
       "      <td>2.288</td>\n",
       "      <td>33</td>\n",
       "    </tr>\n",
       "  </tbody>\n",
       "</table>\n",
       "</div>"
      ],
      "text/plain": [
       "   preg  plasma   bmi  family  age\n",
       "0     6     148  33.6   0.627   50\n",
       "1     1      85  26.6   0.351   31\n",
       "2     8     183  23.3   0.672   32\n",
       "3     1      89  28.1   0.167   21\n",
       "4     0     137  43.1   2.288   33"
      ]
     },
     "execution_count": 19,
     "metadata": {},
     "output_type": "execute_result"
    }
   ],
   "source": [
    "subset2 = [\"preg\", \"plasma\", \"bmi\", \"family\", \"age\"]\n",
    "data_subset2 = data[subset2]\n",
    "data_subset2.head()"
   ]
  },
  {
   "cell_type": "code",
   "execution_count": 20,
   "id": "b5321b6d",
   "metadata": {},
   "outputs": [
    {
     "name": "stdout",
     "output_type": "stream",
     "text": [
      "Mean cross validation accuracy = 0.696\n"
     ]
    }
   ],
   "source": [
    "knn = KNeighborsClassifier(n_neighbors=3)\n",
    "acc_scores = cross_val_score(knn, data_subset2, target, cv=2, scoring=\"accuracy\")\n",
    "mean_accuracy = np.mean(acc_scores)\n",
    "print(\"Mean cross validation accuracy = %.3f\" % mean_accuracy)"
   ]
  },
  {
   "cell_type": "markdown",
   "id": "edacca86",
   "metadata": {},
   "source": [
    "## Feature Selection\n",
    "\n",
    "Rather than manually selecting features, we could automate this process to search for a set of features that leads to the maximum classification accuracy.\n",
    "\n",
    "For more information see:\n",
    "\n",
    "https://scikit-learn.org/stable/modules/feature_selection.html\n",
    "\n",
    "https://scikit-learn.org/stable/modules/generated/sklearn.feature_selection.SequentialFeatureSelector.html"
   ]
  },
  {
   "cell_type": "markdown",
   "id": "94370fc3",
   "metadata": {},
   "source": [
    "One way to conduct the search process is *forward selection*. Here we start with an empty set of features. At each step, the best of the original features is determined and added to the current set. The actual determination of the best feature at each step is based on the cross-validation score achieved using that feature when combined with a specified classifier."
   ]
  },
  {
   "cell_type": "code",
   "execution_count": 23,
   "id": "9833d380",
   "metadata": {},
   "outputs": [
    {
     "name": "stdout",
     "output_type": "stream",
     "text": [
      "Selected features: ['plasma', 'bmi', 'family']\n"
     ]
    }
   ],
   "source": [
    "# the classifier to use during the search\n",
    "knn = KNeighborsClassifier(n_neighbors=3)\n",
    "# perform the search up to the specified number of features\n",
    "sfs_forward = SequentialFeatureSelector(\n",
    "    knn, n_features_to_select=3, direction=\"forward\"\n",
    ").fit(data, target)\n",
    "# get the boolean mask of selected features\n",
    "feature_mask = sfs_forward.get_support()\n",
    "data_forward = data.iloc[:, feature_mask]\n",
    "# get the names of the selected featured\n",
    "features_forward = list(data_forward.columns)\n",
    "print(\"Selected features:\", features_forward)"
   ]
  },
  {
   "cell_type": "markdown",
   "id": "a8c41725",
   "metadata": {},
   "source": [
    "We can use these features then for a subsequent classification process:"
   ]
  },
  {
   "cell_type": "code",
   "execution_count": 25,
   "id": "b8930591",
   "metadata": {},
   "outputs": [
    {
     "name": "stdout",
     "output_type": "stream",
     "text": [
      "Mean cross validation accuracy = 0.721\n"
     ]
    }
   ],
   "source": [
    "acc_scores = cross_val_score(knn, data_forward, target, cv=2, scoring=\"accuracy\")\n",
    "mean_accuracy = np.mean(acc_scores)\n",
    "print(\"Mean cross validation accuracy = %.3f\" % mean_accuracy)"
   ]
  },
  {
   "cell_type": "markdown",
   "id": "960e8376",
   "metadata": {},
   "source": [
    "Another approach for searching for a good feature subset is *backward selection* (also called *backward elimination*). This strategy begins with the full set of features. At each step, it removes the worst feature remaining in the current set. "
   ]
  },
  {
   "cell_type": "code",
   "execution_count": 27,
   "id": "29121049",
   "metadata": {},
   "outputs": [
    {
     "name": "stdout",
     "output_type": "stream",
     "text": [
      "Selected features: ['preg', 'plasma', 'age']\n"
     ]
    }
   ],
   "source": [
    "# the classifier to use during the search\n",
    "knn = KNeighborsClassifier(n_neighbors=3)\n",
    "# perform the search down to the specified number of features\n",
    "sfs_backward = SequentialFeatureSelector(\n",
    "    knn, n_features_to_select=3, direction=\"backward\"\n",
    ").fit(data, target)\n",
    "\n",
    "# get the boolean mask of selected features\n",
    "feature_mask = sfs_backward.get_support()\n",
    "data_backward = data.iloc[:, feature_mask]\n",
    "# get the names of the selected featured\n",
    "features_backward = list(data_backward.columns)\n",
    "print(\"Selected features:\", features_backward)"
   ]
  },
  {
   "cell_type": "markdown",
   "id": "2c648e71",
   "metadata": {},
   "source": [
    "Again we can use these features then for a subsequent classification process:"
   ]
  },
  {
   "cell_type": "code",
   "execution_count": 29,
   "id": "f8b86c1c",
   "metadata": {},
   "outputs": [
    {
     "name": "stdout",
     "output_type": "stream",
     "text": [
      "Mean cross validation accuracy = 0.720\n"
     ]
    }
   ],
   "source": [
    "acc_scores = cross_val_score(knn, data_backward, target, cv=2, scoring=\"accuracy\")\n",
    "mean_accuracy = np.mean(acc_scores)\n",
    "print(\"Mean cross validation accuracy = %.3f\" % mean_accuracy)"
   ]
  },
  {
   "cell_type": "markdown",
   "id": "02846f43",
   "metadata": {},
   "source": [
    "Note that both of the search procedures are \"greedy\" (i.e. they make locally optimal choice at each stage). This speeds up the feature selection process, but means that we are not guarateed to find the globally optimal result. Also, this means that *forward selection* and *backward selection* can generated different feature subsets for the same data."
   ]
  },
  {
   "cell_type": "markdown",
   "id": "39cf3bc9",
   "metadata": {},
   "source": [
    "## Feature Importance\n",
    "\n",
    "Rather than selecting subsets of features, an alternative approach is produce some kind of ranking of the features, from \"best\" to \"worst\".\n",
    "\n",
    "One ranking approach is to calculate the *permutation importance* of a feature is calculated as follows. First, a baseline score is calculated on the original dataset. Next, a feature is \"permuted\" (e.g. the values are randomly shuffled) and the score is calculated again. The permutation importance is defined to be the difference between the baseline score and the score after permutating the feature. This process is repeated multiple times for each feature, so that we can calculate mean importances scores for every feature. Better feature should have higher importance scores.\n",
    "\n",
    "\n",
    "For more information see:\n",
    "\n",
    "https://scikit-learn.org/stable/modules/generated/sklearn.inspection.permutation_importance.html"
   ]
  },
  {
   "cell_type": "code",
   "execution_count": 32,
   "id": "b1581621",
   "metadata": {},
   "outputs": [],
   "source": [
    "from sklearn.inspection import permutation_importance"
   ]
  },
  {
   "cell_type": "code",
   "execution_count": 33,
   "id": "8588c412",
   "metadata": {},
   "outputs": [],
   "source": [
    "knn = KNeighborsClassifier(n_neighbors=3)\n",
    "knn.fit(data, target)\n",
    "result = permutation_importance(knn, data, target, n_repeats=10, random_state=0)"
   ]
  },
  {
   "cell_type": "markdown",
   "id": "ca428f52",
   "metadata": {},
   "source": [
    "We could the display the mean permutation importance scores for each feature in the data:"
   ]
  },
  {
   "cell_type": "code",
   "execution_count": 35,
   "id": "d42bf888",
   "metadata": {},
   "outputs": [
    {
     "data": {
      "image/png": "[encoded data removed]",
      "text/plain": [
       "<Figure size 1000x600 with 1 Axes>"
      ]
     },
     "metadata": {},
     "output_type": "display_data"
    }
   ],
   "source": [
    "sorted_idx = result.importances_mean.argsort()\n",
    "fig, ax = plt.subplots(figsize=(10, 6))\n",
    "ax.barh(data.columns[sorted_idx], result.importances[sorted_idx].mean(axis=1).T, color=\"darkorange\", zorder=3)\n",
    "ax.xaxis.grid(True)\n",
    "ax.set_xlabel(\"Permuation Importance Score\");"
   ]
  },
  {
   "cell_type": "markdown",
   "id": "955132f3",
   "metadata": {},
   "source": [
    "We could decide to use some of the top-ranked features from above in a subsequent classification process:"
   ]
  },
  {
   "cell_type": "code",
   "execution_count": 37,
   "id": "55768f05",
   "metadata": {},
   "outputs": [
    {
     "data": {
      "text/plain": [
       "['plasma', 'insulin', 'age', 'pres']"
      ]
     },
     "execution_count": 37,
     "metadata": {},
     "output_type": "execute_result"
    }
   ],
   "source": [
    "# note we need to reverse the order\n",
    "ranked_features = list(data.columns[sorted_idx])\n",
    "ranked_features.reverse()\n",
    "# we could pick the top 4 in this case\n",
    "subset_top4 = ranked_features[0:4]\n",
    "subset_top4"
   ]
  },
  {
   "cell_type": "code",
   "execution_count": 38,
   "id": "e942aaf6",
   "metadata": {},
   "outputs": [
    {
     "name": "stdout",
     "output_type": "stream",
     "text": [
      "Mean cross validation accuracy = 0.728\n"
     ]
    }
   ],
   "source": [
    "data_top4 = data[subset_top4]\n",
    "knn = KNeighborsClassifier(n_neighbors=3)\n",
    "acc_scores = cross_val_score(knn, data_top4, target, cv=2, scoring=\"accuracy\")\n",
    "mean_accuracy = np.mean(acc_scores)\n",
    "print(\"Mean cross validation accuracy = %.3f\" % mean_accuracy)"
   ]
  },
  {
   "cell_type": "code",
   "execution_count": null,
   "id": "6c650f68-6294-43d5-ba9c-d69ef376f6e6",
   "metadata": {},
   "outputs": [],
   "source": []
  }
 ],
 "metadata": {
  "kernelspec": {
   "display_name": "Python 3 (ipykernel)",
   "language": "python",
   "name": "python3"
  },
  "language_info": {
   "codemirror_mode": {
    "name": "ipython",
    "version": 3
   },
   "file_extension": ".py",
   "mimetype": "text/x-python",
   "name": "python",
   "nbconvert_exporter": "python",
   "pygments_lexer": "ipython3",
   "version": "3.12.4"
  }
 },
 "nbformat": 4,
 "nbformat_minor": 5
}
