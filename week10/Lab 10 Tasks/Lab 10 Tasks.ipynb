{
 "cells": [
  {
   "cell_type": "markdown",
   "metadata": {},
   "source": [
    "# Lab 10 Tasks\n",
    "\n",
    "In this we will look at using superised machine learning algorithms to predict music genres. Specficially, the objective here is to classify the genre of a song from Spotify, based on a range of associated audio features.\n",
    "\n",
    "Each song in our dataset is described by a range of features:\n",
    "- artist_name: Song artist \n",
    "- track_name: Song track name\n",
    "- acousticness: Describes the likelihood that the song is purely acoustic\n",
    "- danceability: Describes how suitable a track is for dancing based on a combination of elements including tempo, rhythm stability, beat strength, and overall regularity\n",
    "- energy: A perceptual measure of intensity and activity. More energetic tracks feel fast, loud, and noisy\n",
    "- instrumentalness: Indicates whether a song includes vocals or not\n",
    "- liveness: Describes the likelihood that the song was recorded with a live audience.\n",
    "- loudness: Overall loudness of a track in decibels (dB), averaged across the entire track\n",
    "- speechiness:  Describes the likelihood that the song contains spoken words\n",
    "- tempo: Estimated tempo of a track in beats per minute (BPM)\n",
    "- valence: Tracks with high valence sound more positive (e.g. cheerful, euphoric), while tracks with low valence sound more negative (e.g. sad, angry)\n",
    "- genre: Target label ('Pop' or 'Rock' in this case)\n",
    "\n",
    "Original dataset source: \n",
    "https://www.kaggle.com/code/iqbalbasyar/spotify-genre-classification/data\n",
    "\n",
    "Original Spotify documentation:\n",
    "https://developer.spotify.com/discover/"
   ]
  },
  {
   "cell_type": "markdown",
   "metadata": {},
   "source": [
    "## Task 1\n",
    "\n",
    "Load the dataset from the file 'music.csv' and examine the number of songs having each target label."
   ]
  },
  {
   "cell_type": "code",
   "execution_count": 87,
   "metadata": {},
   "outputs": [],
   "source": [
    "import pandas as pd\n",
    "import numpy as np\n",
    "from sklearn.neighbors import KNeighborsClassifier\n",
    "from sklearn.preprocessing import MinMaxScaler\n",
    "from sklearn.preprocessing import StandardScaler\n",
    "from sklearn.preprocessing import Normalizer"
   ]
  },
  {
   "cell_type": "code",
   "execution_count": 89,
   "metadata": {},
   "outputs": [
    {
     "data": {
      "text/html": [
       "<div>\n",
       "<style scoped>\n",
       "    .dataframe tbody tr th:only-of-type {\n",
       "        vertical-align: middle;\n",
       "    }\n",
       "\n",
       "    .dataframe tbody tr th {\n",
       "        vertical-align: top;\n",
       "    }\n",
       "\n",
       "    .dataframe thead th {\n",
       "        text-align: right;\n",
       "    }\n",
       "</style>\n",
       "<table border=\"1\" class=\"dataframe\">\n",
       "  <thead>\n",
       "    <tr style=\"text-align: right;\">\n",
       "      <th></th>\n",
       "      <th>artist_name</th>\n",
       "      <th>track_name</th>\n",
       "      <th>acousticness</th>\n",
       "      <th>danceability</th>\n",
       "      <th>energy</th>\n",
       "      <th>instrumentalness</th>\n",
       "      <th>liveness</th>\n",
       "      <th>loudness</th>\n",
       "      <th>speechiness</th>\n",
       "      <th>tempo</th>\n",
       "      <th>valence</th>\n",
       "      <th>genre</th>\n",
       "    </tr>\n",
       "  </thead>\n",
       "  <tbody>\n",
       "    <tr>\n",
       "      <th>0</th>\n",
       "      <td>Led Zeppelin</td>\n",
       "      <td>Black Dog</td>\n",
       "      <td>27.40000</td>\n",
       "      <td>43.2</td>\n",
       "      <td>84.8</td>\n",
       "      <td>3.44000</td>\n",
       "      <td>23.30</td>\n",
       "      <td>-8.095</td>\n",
       "      <td>8.78</td>\n",
       "      <td>81.201</td>\n",
       "      <td>74.3</td>\n",
       "      <td>Rock</td>\n",
       "    </tr>\n",
       "    <tr>\n",
       "      <th>1</th>\n",
       "      <td>Mike Posner</td>\n",
       "      <td>Song About You</td>\n",
       "      <td>18.00000</td>\n",
       "      <td>67.6</td>\n",
       "      <td>84.9</td>\n",
       "      <td>0.00237</td>\n",
       "      <td>9.98</td>\n",
       "      <td>-3.008</td>\n",
       "      <td>4.12</td>\n",
       "      <td>87.025</td>\n",
       "      <td>64.1</td>\n",
       "      <td>Pop</td>\n",
       "    </tr>\n",
       "    <tr>\n",
       "      <th>2</th>\n",
       "      <td>Van Morrison</td>\n",
       "      <td>Days Like This</td>\n",
       "      <td>65.80000</td>\n",
       "      <td>66.0</td>\n",
       "      <td>54.1</td>\n",
       "      <td>0.12700</td>\n",
       "      <td>9.28</td>\n",
       "      <td>-7.851</td>\n",
       "      <td>5.76</td>\n",
       "      <td>93.744</td>\n",
       "      <td>69.3</td>\n",
       "      <td>Rock</td>\n",
       "    </tr>\n",
       "    <tr>\n",
       "      <th>3</th>\n",
       "      <td>The 1975</td>\n",
       "      <td>Give Yourself A Try</td>\n",
       "      <td>0.00306</td>\n",
       "      <td>31.3</td>\n",
       "      <td>80.0</td>\n",
       "      <td>0.00000</td>\n",
       "      <td>49.70</td>\n",
       "      <td>-5.011</td>\n",
       "      <td>6.83</td>\n",
       "      <td>183.047</td>\n",
       "      <td>87.1</td>\n",
       "      <td>Rock</td>\n",
       "    </tr>\n",
       "    <tr>\n",
       "      <th>4</th>\n",
       "      <td>HUNNY</td>\n",
       "      <td>Parking Lot</td>\n",
       "      <td>0.30300</td>\n",
       "      <td>49.8</td>\n",
       "      <td>84.4</td>\n",
       "      <td>0.00000</td>\n",
       "      <td>35.50</td>\n",
       "      <td>-5.163</td>\n",
       "      <td>4.74</td>\n",
       "      <td>103.970</td>\n",
       "      <td>46.9</td>\n",
       "      <td>Rock</td>\n",
       "    </tr>\n",
       "  </tbody>\n",
       "</table>\n",
       "</div>"
      ],
      "text/plain": [
       "    artist_name           track_name  acousticness  danceability  energy  \\\n",
       "0  Led Zeppelin            Black Dog      27.40000          43.2    84.8   \n",
       "1   Mike Posner       Song About You      18.00000          67.6    84.9   \n",
       "2  Van Morrison       Days Like This      65.80000          66.0    54.1   \n",
       "3      The 1975  Give Yourself A Try       0.00306          31.3    80.0   \n",
       "4         HUNNY          Parking Lot       0.30300          49.8    84.4   \n",
       "\n",
       "   instrumentalness  liveness  loudness  speechiness    tempo  valence genre  \n",
       "0           3.44000     23.30    -8.095         8.78   81.201     74.3  Rock  \n",
       "1           0.00237      9.98    -3.008         4.12   87.025     64.1   Pop  \n",
       "2           0.12700      9.28    -7.851         5.76   93.744     69.3  Rock  \n",
       "3           0.00000     49.70    -5.011         6.83  183.047     87.1  Rock  \n",
       "4           0.00000     35.50    -5.163         4.74  103.970     46.9  Rock  "
      ]
     },
     "execution_count": 89,
     "metadata": {},
     "output_type": "execute_result"
    }
   ],
   "source": [
    "df = pd.read_csv('music.csv')\n",
    "df.head()"
   ]
  },
  {
   "cell_type": "markdown",
   "metadata": {},
   "source": [
    "Remove any non-numeric features from the dataset, and then separate out the features to use for classification from the target label information."
   ]
  },
  {
   "cell_type": "code",
   "execution_count": 97,
   "metadata": {},
   "outputs": [
    {
     "data": {
      "text/plain": [
       "array([[0.18218362, 0.2872384 , 0.56383834, ..., 0.05837855, 0.53990846,\n",
       "        0.49402345],\n",
       "       [0.11640906, 0.43718068, 0.54906272, ..., 0.02664474, 0.56280546,\n",
       "        0.41454559],\n",
       "       [0.41299742, 0.41425273, 0.33956171, ..., 0.03615297, 0.58838951,\n",
       "        0.43496537],\n",
       "       ...,\n",
       "       [0.10982616, 0.41167542, 0.41236615, ..., 0.01747548, 0.56484492,\n",
       "        0.16024949],\n",
       "       [0.02605898, 0.29232832, 0.44545267, ..., 0.02004537, 0.79070633,\n",
       "        0.27729429],\n",
       "       [0.0589719 , 0.51299825, 0.38417615, ..., 0.16546484, 0.64412198,\n",
       "        0.20497028]])"
      ]
     },
     "execution_count": 97,
     "metadata": {},
     "output_type": "execute_result"
    }
   ],
   "source": [
    "normalizer = Normalizer()\n",
    "target = df[\"genre\"].values\n",
    "data = df[[\"acousticness\",\"danceability\",\"energy\",\"instrumentalness\",\"liveness\",\"loudness\",\"speechiness\",\"tempo\",\"valence\"]]\n",
    "data_scaled = normalizer.fit_transform(data.values)\n",
    "data_scaled"
   ]
  },
  {
   "cell_type": "markdown",
   "metadata": {},
   "source": [
    "## Task 2\n",
    "\n",
    "Generate a 60/40 random training and test split of the data. Based on this split, evaluate the accuracy and F1-score achieved by a KNN classifier (for *k=1* neighbour). "
   ]
  },
  {
   "cell_type": "code",
   "execution_count": 39,
   "metadata": {},
   "outputs": [],
   "source": [
    "from sklearn.model_selection import train_test_split\n",
    "from sklearn.metrics import accuracy_score\n",
    "from sklearn.metrics import f1_score"
   ]
  },
  {
   "cell_type": "code",
   "execution_count": 103,
   "metadata": {},
   "outputs": [
    {
     "name": "stdout",
     "output_type": "stream",
     "text": [
      "0.604\n",
      "0.6\n"
     ]
    }
   ],
   "source": [
    "data_train, data_test, target_train, target_test = train_test_split(data_scaled, target, \n",
    "    test_size=0.4, random_state=1)\n",
    "model = KNeighborsClassifier(n_neighbors=1)\n",
    "m = model.fit(data_train,target_train)\n",
    "predicted = model.predict(data_test)\n",
    "acc = accuracy_score(target_test, predicted)\n",
    "print(acc)\n",
    "f1 = f1_score(target_test, predicted, pos_label='Rock')\n",
    "print(f1)"
   ]
  },
  {
   "cell_type": "markdown",
   "metadata": {},
   "source": [
    "Use a *confusion matrix* to illustrate where the errors lie with the classifier above."
   ]
  },
  {
   "cell_type": "code",
   "execution_count": 105,
   "metadata": {},
   "outputs": [],
   "source": [
    "from sklearn.metrics import confusion_matrix"
   ]
  },
  {
   "cell_type": "code",
   "execution_count": 107,
   "metadata": {},
   "outputs": [
    {
     "name": "stdout",
     "output_type": "stream",
     "text": [
      "[[307 198]\n",
      " [198 297]]\n"
     ]
    }
   ],
   "source": [
    "cm = confusion_matrix(target_test, predicted)\n",
    "print(cm)"
   ]
  },
  {
   "cell_type": "markdown",
   "metadata": {},
   "source": [
    "## Task 3\n",
    "\n"
   ]
  },
  {
   "cell_type": "markdown",
   "metadata": {
    "collapsed": true,
    "jupyter": {
     "outputs_hidden": true
    }
   },
   "source": [
    "Use 5-fold cross-validation to evaluate the accuracy achieved by a KNN (*k=1*) classifier on the data."
   ]
  },
  {
   "cell_type": "code",
   "execution_count": 113,
   "metadata": {},
   "outputs": [
    {
     "name": "stdout",
     "output_type": "stream",
     "text": [
      "[0.608 0.608 0.618 0.59  0.624]\n"
     ]
    }
   ],
   "source": [
    "knn = KNeighborsClassifier(n_neighbors=1)\n",
    "from sklearn.model_selection import cross_val_score\n",
    "acc_scores = cross_val_score(knn, data_scaled, target, cv=5, scoring=\"accuracy\")\n",
    "print(acc_scores)"
   ]
  },
  {
   "cell_type": "markdown",
   "metadata": {},
   "source": [
    "Repeat the process above for different parameter values of *k*, from 2 to 10 neighbours. Generate a plot of the different accuracy values acheived for different values of *k*. Which value of *k* yields the highest accuracy?"
   ]
  },
  {
   "cell_type": "code",
   "execution_count": 115,
   "metadata": {},
   "outputs": [
    {
     "name": "stdout",
     "output_type": "stream",
     "text": [
      "K=02 neighbours: Accuracy=0.597\n",
      "K=03 neighbours: Accuracy=0.632\n",
      "K=04 neighbours: Accuracy=0.621\n",
      "K=05 neighbours: Accuracy=0.636\n",
      "K=06 neighbours: Accuracy=0.635\n",
      "K=07 neighbours: Accuracy=0.647\n",
      "K=08 neighbours: Accuracy=0.646\n",
      "K=09 neighbours: Accuracy=0.646\n",
      "K=10 neighbours: Accuracy=0.650\n"
     ]
    }
   ],
   "source": [
    "for k in range(2,11):\n",
    "    knn = KNeighborsClassifier(n_neighbors=k)\n",
    "    acc_scores = cross_val_score(knn, data_scaled, target, cv=5, scoring=\"accuracy\")\n",
    "    mean_acc = acc_scores.mean()\n",
    "    print(\"K=%02d neighbours: Accuracy=%.3f\" % (k, mean_acc))"
   ]
  },
  {
   "cell_type": "markdown",
   "metadata": {},
   "source": [
    "## Task 4\n",
    "\n",
    "For certain datasets, classification may work better on a subset of features, rather than on the entire feature set (e.g. when noisy or misleading features are removed).\n",
    "\n",
    "Using the KNN and the best value of *k* identified in Task 3, compare classification performance for the three feature subsets in the lists below. Which subset gives the highest accuracy?"
   ]
  },
  {
   "cell_type": "code",
   "execution_count": 121,
   "metadata": {},
   "outputs": [],
   "source": [
    "subset1 = ['danceability', 'energy', 'tempo', 'valence']\n",
    "subset2 = ['acousticness', 'instrumentalness', 'liveness', 'speechiness']\n",
    "subset3 = ['energy', 'tempo', 'valence', 'loudness']"
   ]
  },
  {
   "cell_type": "code",
   "execution_count": 131,
   "metadata": {},
   "outputs": [
    {
     "data": {
      "text/plain": [
       "array([[0.29689935, 0.58280242, 0.55806768, 0.51063938],\n",
       "       [0.44135021, 0.5542993 , 0.5681731 , 0.41849923],\n",
       "       [0.45682412, 0.37445735, 0.64885637, 0.47966533],\n",
       "       ...,\n",
       "       [0.49767617, 0.49851119, 0.68284343, 0.19372629],\n",
       "       [0.29439747, 0.44860566, 0.79630309, 0.27925702],\n",
       "       [0.55073158, 0.41243403, 0.69150005, 0.22004677]])"
      ]
     },
     "execution_count": 131,
     "metadata": {},
     "output_type": "execute_result"
    }
   ],
   "source": [
    "data = df[subset1]\n",
    "data_scaled = normalizer.fit_transform(data.values)\n",
    "data_scaled"
   ]
  },
  {
   "cell_type": "code",
   "execution_count": 145,
   "metadata": {},
   "outputs": [
    {
     "name": "stdout",
     "output_type": "stream",
     "text": [
      "Accuracy=0.604\n"
     ]
    }
   ],
   "source": [
    "knn = KNeighborsClassifier(n_neighbors=10)\n",
    "acc_scores = cross_val_score(knn, data_scaled, target, cv=5, scoring=\"accuracy\")\n",
    "mean_acc = acc_scores.mean()\n",
    "print(\"Accuracy=%.3f\" % (mean_acc))"
   ]
  },
  {
   "cell_type": "code",
   "execution_count": 147,
   "metadata": {},
   "outputs": [
    {
     "name": "stdout",
     "output_type": "stream",
     "text": [
      "Accuracy=0.604\n"
     ]
    }
   ],
   "source": [
    "data = df[subset2]\n",
    "data_scaled = normalizer.fit_transform(data.values)\n",
    "knn = KNeighborsClassifier(n_neighbors=10)\n",
    "acc_scores = cross_val_score(knn, data_scaled, target, cv=5, scoring=\"accuracy\")\n",
    "mean_acc = acc_scores.mean()\n",
    "print(\"Accuracy=%.3f\" % (mean_acc))"
   ]
  },
  {
   "cell_type": "code",
   "execution_count": 149,
   "metadata": {},
   "outputs": [
    {
     "name": "stdout",
     "output_type": "stream",
     "text": [
      "Accuracy=0.515\n"
     ]
    }
   ],
   "source": [
    "data = df[subset3]\n",
    "data_scaled = normalizer.fit_transform(data.values)\n",
    "knn = KNeighborsClassifier(n_neighbors=10)\n",
    "acc_scores = cross_val_score(knn, data_scaled, target, cv=5, scoring=\"accuracy\")\n",
    "mean_acc = acc_scores.mean()\n",
    "print(\"Accuracy=%.3f\" % (mean_acc))"
   ]
  },
  {
   "cell_type": "code",
   "execution_count": null,
   "metadata": {},
   "outputs": [],
   "source": []
  }
 ],
 "metadata": {
  "kernelspec": {
   "display_name": "Python 3 (ipykernel)",
   "language": "python",
   "name": "python3"
  },
  "language_info": {
   "codemirror_mode": {
    "name": "ipython",
    "version": 3
   },
   "file_extension": ".py",
   "mimetype": "text/x-python",
   "name": "python",
   "nbconvert_exporter": "python",
   "pygments_lexer": "ipython3",
   "version": "3.12.4"
  }
 },
 "nbformat": 4,
 "nbformat_minor": 4
}
