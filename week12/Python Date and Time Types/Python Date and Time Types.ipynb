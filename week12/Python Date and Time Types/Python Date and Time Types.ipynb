{
 "cells": [
  {
   "cell_type": "markdown",
   "metadata": {},
   "source": [
    "# Python Date and Time Types \n",
    "\n",
    "The Python standard library includes data types for date and time data, as well as calendar-related functionality. \n",
    "\n",
    "In this notebook we look at a few examples of these types."
   ]
  },
  {
   "cell_type": "markdown",
   "metadata": {},
   "source": [
    "To represent dates, the *datetime* type is often used:"
   ]
  },
  {
   "cell_type": "code",
   "execution_count": null,
   "metadata": {},
   "outputs": [],
   "source": [
    "from datetime import datetime\n",
    "d = datetime.now()\n",
    "d"
   ]
  },
  {
   "cell_type": "markdown",
   "metadata": {},
   "source": [
    "We can also extract individual parts of the date:"
   ]
  },
  {
   "cell_type": "code",
   "execution_count": null,
   "metadata": {},
   "outputs": [],
   "source": [
    "d.year, d.month, d.day"
   ]
  },
  {
   "cell_type": "code",
   "execution_count": null,
   "metadata": {},
   "outputs": [],
   "source": [
    "d.hour, d.minute, d.microsecond"
   ]
  },
  {
   "cell_type": "markdown",
   "metadata": {},
   "source": [
    "We can also get an associated date or a time value:"
   ]
  },
  {
   "cell_type": "code",
   "execution_count": null,
   "metadata": {},
   "outputs": [],
   "source": [
    "dt = d.time()\n",
    "dt"
   ]
  },
  {
   "cell_type": "code",
   "execution_count": null,
   "metadata": {},
   "outputs": [],
   "source": [
    "dd = d.date()\n",
    "dd"
   ]
  },
  {
   "cell_type": "markdown",
   "metadata": {},
   "source": [
    "We can create a new datetime by specifying either the date alone or the date + time"
   ]
  },
  {
   "cell_type": "code",
   "execution_count": null,
   "metadata": {},
   "outputs": [],
   "source": [
    "datetime(2018, 1, 7)"
   ]
  },
  {
   "cell_type": "code",
   "execution_count": null,
   "metadata": {},
   "outputs": [],
   "source": [
    "# specify a time too\n",
    "datetime(2018, 1, 7, 13, 30)"
   ]
  },
  {
   "cell_type": "markdown",
   "metadata": {},
   "source": [
    "Dates and times are stored to the microsecond. A *timedelta* is the temporal difference between two datetime values: "
   ]
  },
  {
   "cell_type": "code",
   "execution_count": null,
   "metadata": {},
   "outputs": [],
   "source": [
    "from datetime import timedelta\n",
    "d1 = datetime(2018, 1, 7, 11, 15)\n",
    "d2 = datetime(2018, 2, 15, 11, 35)\n",
    "diff = d2 - d1\n",
    "print(\"Difference %s and %s = %d days, %d seconds\" % (d1, d2, diff.days, diff.seconds) )"
   ]
  },
  {
   "cell_type": "markdown",
   "metadata": {},
   "source": [
    "You can add or subtract a timedelta value to an existing datetime to get a new shifted date:"
   ]
  },
  {
   "cell_type": "code",
   "execution_count": null,
   "metadata": {},
   "outputs": [],
   "source": [
    "# add 0 days and 60 seconds to the existing date\n",
    "d1 + timedelta(0,60)"
   ]
  },
  {
   "cell_type": "code",
   "execution_count": null,
   "metadata": {},
   "outputs": [],
   "source": [
    "# add 3 days and 0 seconds to the existing date\n",
    "d1 + timedelta(3)"
   ]
  },
  {
   "cell_type": "markdown",
   "metadata": {},
   "source": [
    "Python datetime values can be formatted as strings using special formatting codes. There are many different ways we can format the same datetime value:"
   ]
  },
  {
   "cell_type": "code",
   "execution_count": null,
   "metadata": {},
   "outputs": [],
   "source": [
    "d = datetime(2018, 3, 1, 9, 30)\n",
    "print( d.strftime('%d/%m/%y') )\n",
    "print( d.strftime('%Y-%m-%d') )\n",
    "print( d.strftime('%Y-%m-%d %H:%M') )\n",
    "print( d.strftime('%a %d %Y') )\n",
    "print( d.strftime('%A %d %B, %Y') )"
   ]
  },
  {
   "cell_type": "markdown",
   "metadata": {},
   "source": [
    "We can also use these codes to parse dates from strings:"
   ]
  },
  {
   "cell_type": "code",
   "execution_count": null,
   "metadata": {},
   "outputs": [],
   "source": [
    "value1 = \"2018-01-03\"\n",
    "datetime.strptime(value1, '%Y-%m-%d')"
   ]
  },
  {
   "cell_type": "code",
   "execution_count": null,
   "metadata": {},
   "outputs": [],
   "source": [
    "value2 = \"01/03/18 14:56\"\n",
    "datetime.strptime(value2, '%d/%m/%y %H:%M')"
   ]
  }
 ],
 "metadata": {
  "kernelspec": {
   "display_name": "Python 3 (ipykernel)",
   "language": "python",
   "name": "python3"
  },
  "language_info": {
   "codemirror_mode": {
    "name": "ipython",
    "version": 3
   },
   "file_extension": ".py",
   "mimetype": "text/x-python",
   "name": "python",
   "nbconvert_exporter": "python",
   "pygments_lexer": "ipython3",
   "version": "3.12.4"
  }
 },
 "nbformat": 4,
 "nbformat_minor": 4
}
