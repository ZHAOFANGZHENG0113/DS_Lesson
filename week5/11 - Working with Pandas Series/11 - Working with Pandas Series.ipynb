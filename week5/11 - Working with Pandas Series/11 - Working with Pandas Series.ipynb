{
 "cells": [
  {
   "cell_type": "markdown",
   "id": "f0711524",
   "metadata": {},
   "source": [
    "# Working with Pandas Series\n",
    "\n",
    "The *Pandas* package offers two key data structures that are optimised for data analysis and manipulation: *Series* and *DataFrame*. In this notebook we will start off by looking at the *Series*, which is a one-dimensional structure holding data of any type."
   ]
  },
  {
   "cell_type": "markdown",
   "id": "c420aa82",
   "metadata": {},
   "source": [
    "To start off, we import the Pandas package. We can import it as *pd* for shorthand."
   ]
  },
  {
   "cell_type": "code",
   "execution_count": 1,
   "id": "336aa9ca",
   "metadata": {},
   "outputs": [],
   "source": [
    "import pandas as pd"
   ]
  },
  {
   "cell_type": "markdown",
   "id": "9bf0fb72",
   "metadata": {},
   "source": [
    "## Creating Pandas Series\n",
    "\n",
    "To create a new series, we can use the *Series()* function. The simplest (but least useful) approach is to pass in a Python list. By default, the Series will have a numeric index, counting from 0."
   ]
  },
  {
   "cell_type": "code",
   "execution_count": 3,
   "id": "b33ded38",
   "metadata": {},
   "outputs": [
    {
     "data": {
      "text/plain": [
       "0      2\n",
       "1    101\n",
       "2     45\n",
       "3    232\n",
       "4     45\n",
       "5     67\n",
       "dtype: int64"
      ]
     },
     "execution_count": 3,
     "metadata": {},
     "output_type": "execute_result"
    }
   ],
   "source": [
    "values = [2, 101, 45, 232, 45, 67]\n",
    "# create the Series\n",
    "s1 = pd.Series(values)\n",
    "s1"
   ]
  },
  {
   "cell_type": "code",
   "execution_count": 5,
   "id": "83f95148",
   "metadata": {},
   "outputs": [
    {
     "data": {
      "text/plain": [
       "6"
      ]
     },
     "execution_count": 5,
     "metadata": {},
     "output_type": "execute_result"
    }
   ],
   "source": [
    "# how many values in the series?\n",
    "len(s1)"
   ]
  },
  {
   "cell_type": "markdown",
   "id": "f6615b12",
   "metadata": {},
   "source": [
    "We can also explicitly pass a list of index labels to the *Series()* function to use a more useful index (in this case strings containing country names). Note the number of values and labels must match."
   ]
  },
  {
   "cell_type": "code",
   "execution_count": 7,
   "id": "e3eb0d6f",
   "metadata": {},
   "outputs": [
    {
     "data": {
      "text/plain": [
       "Argentina    75.77\n",
       "Australia    82.09\n",
       "Brazil       73.12\n",
       "Canada       80.99\n",
       "dtype: float64"
      ]
     },
     "execution_count": 7,
     "metadata": {},
     "output_type": "execute_result"
    }
   ],
   "source": [
    "life_exp_values = [75.77, 82.09, 73.12, 80.99]\n",
    "countries = [\"Argentina\", \"Australia\", \"Brazil\", \"Canada\"]\n",
    "# create the Series\n",
    "s2 = pd.Series(life_exp_values, countries)\n",
    "s2"
   ]
  },
  {
   "cell_type": "code",
   "execution_count": 9,
   "id": "3e1bf4bf",
   "metadata": {},
   "outputs": [
    {
     "data": {
      "text/plain": [
       "4"
      ]
     },
     "execution_count": 9,
     "metadata": {},
     "output_type": "execute_result"
    }
   ],
   "source": [
    "# how many values in the series?\n",
    "len(s2)"
   ]
  },
  {
   "cell_type": "markdown",
   "id": "8c5ae0e0",
   "metadata": {},
   "source": [
    "This use of index labels very similar to a Python dictionary. In fact we can create a Pandas Series directly from a Python dictionary:"
   ]
  },
  {
   "cell_type": "code",
   "execution_count": 11,
   "id": "1e1d0384",
   "metadata": {},
   "outputs": [
    {
     "data": {
      "text/plain": [
       "Argentina    75.77\n",
       "Australia    82.09\n",
       "Brazil       73.12\n",
       "Canada       80.99\n",
       "dtype: float64"
      ]
     },
     "execution_count": 11,
     "metadata": {},
     "output_type": "execute_result"
    }
   ],
   "source": [
    "d_life_exp = {\"Argentina\": 75.77, \"Australia\": 82.09, \"Brazil\": 73.12, \"Canada\": 80.99}\n",
    "s3 = pd.Series(d_life_exp)\n",
    "s3"
   ]
  },
  {
   "cell_type": "markdown",
   "id": "984400e4",
   "metadata": {},
   "source": [
    "Let's create a Series with a larger number of values: "
   ]
  },
  {
   "cell_type": "code",
   "execution_count": 13,
   "id": "9212546e",
   "metadata": {},
   "outputs": [],
   "source": [
    "values = [75.77, 82.09, 73.12, 80.99, 49.81, 74.87, 70.48, 80.24, 80.15, \n",
    "          84.36, 75.05, 80.67, 55.13, 51.3, 76.99, 80.68, 83.23, 83.49, 82.5, 80.09, 78.51]\n",
    "labels = [\"Argentina\", \"Australia\", \"Brazil\", \"Canada\", \"Chad\", \"China\", \"Egypt\", \"Germany\", \"Ireland\", \n",
    "          \"Japan\", \"Mexico\", \"New Zealand\", \"Niger\", \"Nigeria\", \"Paraguay\", \"Portugal\", \"South Korea\", \n",
    "          \"Spain\", \"Switzerland\", \"United Kingdom\", \"United States\"]"
   ]
  },
  {
   "cell_type": "code",
   "execution_count": 15,
   "id": "ac4010bf",
   "metadata": {},
   "outputs": [
    {
     "data": {
      "text/plain": [
       "21"
      ]
     },
     "execution_count": 15,
     "metadata": {},
     "output_type": "execute_result"
    }
   ],
   "source": [
    "life_exp = pd.Series(values, labels)\n",
    "len(life_exp)"
   ]
  },
  {
   "cell_type": "markdown",
   "id": "137b2ccc",
   "metadata": {},
   "source": [
    "We can display the first *n* values in the Series by calling the associated *head()* function:"
   ]
  },
  {
   "cell_type": "code",
   "execution_count": 17,
   "id": "2e07e494",
   "metadata": {},
   "outputs": [
    {
     "data": {
      "text/plain": [
       "Argentina    75.77\n",
       "Australia    82.09\n",
       "Brazil       73.12\n",
       "Canada       80.99\n",
       "Chad         49.81\n",
       "China        74.87\n",
       "Egypt        70.48\n",
       "Germany      80.24\n",
       "Ireland      80.15\n",
       "Japan        84.36\n",
       "dtype: float64"
      ]
     },
     "execution_count": 17,
     "metadata": {},
     "output_type": "execute_result"
    }
   ],
   "source": [
    "# show the first 10 values\n",
    "life_exp.head(10)"
   ]
  },
  {
   "cell_type": "markdown",
   "id": "9dae571b",
   "metadata": {},
   "source": [
    "A Series has an associated *index* attribute, which allows us to access the index values alone:"
   ]
  },
  {
   "cell_type": "code",
   "execution_count": 19,
   "id": "f1584336",
   "metadata": {},
   "outputs": [
    {
     "data": {
      "text/plain": [
       "Index(['Argentina', 'Australia', 'Brazil', 'Canada', 'Chad', 'China', 'Egypt',\n",
       "       'Germany', 'Ireland', 'Japan', 'Mexico', 'New Zealand', 'Niger',\n",
       "       'Nigeria', 'Paraguay', 'Portugal', 'South Korea', 'Spain',\n",
       "       'Switzerland', 'United Kingdom', 'United States'],\n",
       "      dtype='object')"
      ]
     },
     "execution_count": 19,
     "metadata": {},
     "output_type": "execute_result"
    }
   ],
   "source": [
    "life_exp.index"
   ]
  },
  {
   "cell_type": "markdown",
   "id": "580b9dbb",
   "metadata": {},
   "source": [
    "We can use the Python *in* operator to check whether or not a particular index exists in a Series:"
   ]
  },
  {
   "cell_type": "code",
   "execution_count": 21,
   "id": "d7799702",
   "metadata": {},
   "outputs": [
    {
     "data": {
      "text/plain": [
       "True"
      ]
     },
     "execution_count": 21,
     "metadata": {},
     "output_type": "execute_result"
    }
   ],
   "source": [
    "\"Canada\" in life_exp.index"
   ]
  },
  {
   "cell_type": "code",
   "execution_count": 23,
   "id": "14258820",
   "metadata": {},
   "outputs": [
    {
     "data": {
      "text/plain": [
       "False"
      ]
     },
     "execution_count": 23,
     "metadata": {},
     "output_type": "execute_result"
    }
   ],
   "source": [
    "\"France\" in life_exp.index"
   ]
  },
  {
   "cell_type": "markdown",
   "id": "9f42d959",
   "metadata": {},
   "source": [
    "## Accessing Values by Position"
   ]
  },
  {
   "cell_type": "markdown",
   "id": "3cbab5c9",
   "metadata": {},
   "source": [
    "A Pandas Series offers a number of different ways to access values. We can use simple position numbers like with standard Python lists, counting from 0:"
   ]
  },
  {
   "cell_type": "code",
   "execution_count": 25,
   "id": "efd7dfea",
   "metadata": {},
   "outputs": [
    {
     "name": "stderr",
     "output_type": "stream",
     "text": [
      "C:\\Users\\asus\\AppData\\Local\\Temp\\ipykernel_14660\\1067234015.py:1: FutureWarning: Series.__getitem__ treating keys as positions is deprecated. In a future version, integer keys will always be treated as labels (consistent with DataFrame behavior). To access a value by position, use `ser.iloc[pos]`\n",
      "  life_exp[0]\n"
     ]
    },
    {
     "data": {
      "text/plain": [
       "75.77"
      ]
     },
     "execution_count": 25,
     "metadata": {},
     "output_type": "execute_result"
    }
   ],
   "source": [
    "life_exp[0]"
   ]
  },
  {
   "cell_type": "code",
   "execution_count": 27,
   "id": "0b78e801",
   "metadata": {},
   "outputs": [
    {
     "name": "stderr",
     "output_type": "stream",
     "text": [
      "C:\\Users\\asus\\AppData\\Local\\Temp\\ipykernel_14660\\3398843715.py:1: FutureWarning: Series.__getitem__ treating keys as positions is deprecated. In a future version, integer keys will always be treated as labels (consistent with DataFrame behavior). To access a value by position, use `ser.iloc[pos]`\n",
      "  life_exp[4]\n"
     ]
    },
    {
     "data": {
      "text/plain": [
       "49.81"
      ]
     },
     "execution_count": 27,
     "metadata": {},
     "output_type": "execute_result"
    }
   ],
   "source": [
    "life_exp[4]"
   ]
  },
  {
   "cell_type": "markdown",
   "id": "d07989cc",
   "metadata": {},
   "source": [
    "We can use negative indexing to count from the last position backwards:"
   ]
  },
  {
   "cell_type": "code",
   "execution_count": 30,
   "id": "8e78e136",
   "metadata": {},
   "outputs": [
    {
     "name": "stderr",
     "output_type": "stream",
     "text": [
      "C:\\Users\\asus\\AppData\\Local\\Temp\\ipykernel_14660\\3260910761.py:2: FutureWarning: Series.__getitem__ treating keys as positions is deprecated. In a future version, integer keys will always be treated as labels (consistent with DataFrame behavior). To access a value by position, use `ser.iloc[pos]`\n",
      "  life_exp[-1]\n"
     ]
    },
    {
     "data": {
      "text/plain": [
       "78.51"
      ]
     },
     "execution_count": 30,
     "metadata": {},
     "output_type": "execute_result"
    }
   ],
   "source": [
    "# get the last value in the Series\n",
    "life_exp[-1]"
   ]
  },
  {
   "cell_type": "code",
   "execution_count": 32,
   "id": "144396f4",
   "metadata": {},
   "outputs": [
    {
     "name": "stderr",
     "output_type": "stream",
     "text": [
      "C:\\Users\\asus\\AppData\\Local\\Temp\\ipykernel_14660\\1956805333.py:2: FutureWarning: Series.__getitem__ treating keys as positions is deprecated. In a future version, integer keys will always be treated as labels (consistent with DataFrame behavior). To access a value by position, use `ser.iloc[pos]`\n",
      "  life_exp[-3]\n"
     ]
    },
    {
     "data": {
      "text/plain": [
       "82.5"
      ]
     },
     "execution_count": 32,
     "metadata": {},
     "output_type": "execute_result"
    }
   ],
   "source": [
    "# get the third last value\n",
    "life_exp[-3]"
   ]
  },
  {
   "cell_type": "markdown",
   "id": "f17f36c1",
   "metadata": {},
   "source": [
    "Just like lists, we can also using slicing via the *i:j* operator. Remember this includes the elements from position *i* up to but not including position *j*: "
   ]
  },
  {
   "cell_type": "code",
   "execution_count": 34,
   "id": "b687c57e",
   "metadata": {},
   "outputs": [
    {
     "data": {
      "text/plain": [
       "Argentina    75.77\n",
       "Australia    82.09\n",
       "dtype: float64"
      ]
     },
     "execution_count": 34,
     "metadata": {},
     "output_type": "execute_result"
    }
   ],
   "source": [
    "# start at position 0, end before position 2\n",
    "life_exp[0:2]"
   ]
  },
  {
   "cell_type": "code",
   "execution_count": 36,
   "id": "66c94451",
   "metadata": {},
   "outputs": [
    {
     "data": {
      "text/plain": [
       "Canada    80.99\n",
       "Chad      49.81\n",
       "China     74.87\n",
       "Egypt     70.48\n",
       "dtype: float64"
      ]
     },
     "execution_count": 36,
     "metadata": {},
     "output_type": "execute_result"
    }
   ],
   "source": [
    "# start at position 3, end before position 7\n",
    "life_exp[3:7]"
   ]
  },
  {
   "cell_type": "code",
   "execution_count": 38,
   "id": "41269a22",
   "metadata": {},
   "outputs": [
    {
     "data": {
      "text/plain": [
       "Argentina    75.77\n",
       "Australia    82.09\n",
       "Brazil       73.12\n",
       "Canada       80.99\n",
       "Chad         49.81\n",
       "dtype: float64"
      ]
     },
     "execution_count": 38,
     "metadata": {},
     "output_type": "execute_result"
    }
   ],
   "source": [
    "# start at the beginning of the Series, end before position 5\n",
    "life_exp[:5]"
   ]
  },
  {
   "cell_type": "code",
   "execution_count": 40,
   "id": "bd5ad65d",
   "metadata": {},
   "outputs": [
    {
     "data": {
      "text/plain": [
       "Ireland           80.15\n",
       "Japan             84.36\n",
       "Mexico            75.05\n",
       "New Zealand       80.67\n",
       "Niger             55.13\n",
       "Nigeria           51.30\n",
       "Paraguay          76.99\n",
       "Portugal          80.68\n",
       "South Korea       83.23\n",
       "Spain             83.49\n",
       "Switzerland       82.50\n",
       "United Kingdom    80.09\n",
       "United States     78.51\n",
       "dtype: float64"
      ]
     },
     "execution_count": 40,
     "metadata": {},
     "output_type": "execute_result"
    }
   ],
   "source": [
    "# start at position 8, go to the end of the Series\n",
    "life_exp[8:]"
   ]
  },
  {
   "cell_type": "markdown",
   "id": "f418da31",
   "metadata": {},
   "source": [
    "To access values by position in a Series, we can also use the *iloc[]* operator. This can be useful when we want to explicitly distinguish between positions and numeric index labels."
   ]
  },
  {
   "cell_type": "code",
   "execution_count": 42,
   "id": "552d46cd",
   "metadata": {},
   "outputs": [
    {
     "data": {
      "text/plain": [
       "80.99"
      ]
     },
     "execution_count": 42,
     "metadata": {},
     "output_type": "execute_result"
    }
   ],
   "source": [
    "# get the value at position 3\n",
    "life_exp.iloc[3]"
   ]
  },
  {
   "cell_type": "code",
   "execution_count": 44,
   "id": "4f505f0f",
   "metadata": {},
   "outputs": [
    {
     "data": {
      "text/plain": [
       "Canada    80.99\n",
       "Chad      49.81\n",
       "China     74.87\n",
       "Egypt     70.48\n",
       "dtype: float64"
      ]
     },
     "execution_count": 44,
     "metadata": {},
     "output_type": "execute_result"
    }
   ],
   "source": [
    "# start at position 3, end before position 7\n",
    "life_exp.iloc[3:7]"
   ]
  },
  {
   "cell_type": "markdown",
   "id": "76bfac50",
   "metadata": {},
   "source": [
    "We can return multiple specific values by passing in a list of numeric positions to *iloc[]*:"
   ]
  },
  {
   "cell_type": "code",
   "execution_count": 50,
   "id": "816c20bb",
   "metadata": {},
   "outputs": [
    {
     "data": {
      "text/plain": [
       "Australia    82.09\n",
       "Canada       80.99\n",
       "China        74.87\n",
       "Germany      80.24\n",
       "dtype: float64"
      ]
     },
     "execution_count": 50,
     "metadata": {},
     "output_type": "execute_result"
    }
   ],
   "source": [
    "life_exp.iloc[[1, 3, 5, 7]]"
   ]
  },
  {
   "cell_type": "code",
   "execution_count": 52,
   "id": "787e113b",
   "metadata": {},
   "outputs": [
    {
     "data": {
      "text/plain": [
       "Ireland        80.15\n",
       "New Zealand    80.67\n",
       "Canada         80.99\n",
       "Paraguay       76.99\n",
       "Argentina      75.77\n",
       "dtype: float64"
      ]
     },
     "execution_count": 52,
     "metadata": {},
     "output_type": "execute_result"
    }
   ],
   "source": [
    "life_exp.iloc[[8, 11, 3, 14, 0]]"
   ]
  },
  {
   "cell_type": "markdown",
   "id": "aa1cb1ee",
   "metadata": {},
   "source": [
    "## Accessing Values by Index Label\n",
    "\n",
    "We can also access values by their associated index labels defined at creation using the *loc[ ]* operator:"
   ]
  },
  {
   "cell_type": "code",
   "execution_count": 54,
   "id": "795bb972",
   "metadata": {},
   "outputs": [
    {
     "data": {
      "text/plain": [
       "80.15"
      ]
     },
     "execution_count": 54,
     "metadata": {},
     "output_type": "execute_result"
    }
   ],
   "source": [
    "life_exp.loc[\"Ireland\"]"
   ]
  },
  {
   "cell_type": "code",
   "execution_count": 56,
   "id": "14c2c72a",
   "metadata": {},
   "outputs": [
    {
     "data": {
      "text/plain": [
       "84.36"
      ]
     },
     "execution_count": 56,
     "metadata": {},
     "output_type": "execute_result"
    }
   ],
   "source": [
    "life_exp.loc[\"Japan\"]"
   ]
  },
  {
   "cell_type": "markdown",
   "id": "b519bda6",
   "metadata": {},
   "source": [
    "We can return multiple values by passing in a list of index labels to *loc[]*:"
   ]
  },
  {
   "cell_type": "code",
   "execution_count": 59,
   "id": "3b005a5b",
   "metadata": {},
   "outputs": [
    {
     "data": {
      "text/plain": [
       "Ireland           80.15\n",
       "Germany           80.24\n",
       "United Kingdom    80.09\n",
       "dtype: float64"
      ]
     },
     "execution_count": 59,
     "metadata": {},
     "output_type": "execute_result"
    }
   ],
   "source": [
    "life_exp.loc[[\"Ireland\", \"Germany\", \"United Kingdom\"]]"
   ]
  },
  {
   "cell_type": "code",
   "execution_count": 61,
   "id": "a5233100",
   "metadata": {},
   "outputs": [
    {
     "data": {
      "text/plain": [
       "Japan             84.36\n",
       "United Kingdom    80.09\n",
       "China             74.87\n",
       "Australia         82.09\n",
       "dtype: float64"
      ]
     },
     "execution_count": 61,
     "metadata": {},
     "output_type": "execute_result"
    }
   ],
   "source": [
    "life_exp.loc[[\"Japan\", \"United Kingdom\", \"China\", \"Australia\"]]"
   ]
  },
  {
   "cell_type": "markdown",
   "id": "40464fbc",
   "metadata": {},
   "source": [
    "## Applying Conditions to Series\n",
    "\n",
    "We might want to filter the values in a Pandas Series, to reduce it to a subset of the original values based on some condition applied to the values. We can do this by indexing with a boolean expression."
   ]
  },
  {
   "cell_type": "code",
   "execution_count": 63,
   "id": "a1bc3d4c",
   "metadata": {},
   "outputs": [
    {
     "data": {
      "text/plain": [
       "Argentina         False\n",
       "Australia          True\n",
       "Brazil            False\n",
       "Canada             True\n",
       "Chad              False\n",
       "China             False\n",
       "Egypt             False\n",
       "Germany            True\n",
       "Ireland            True\n",
       "Japan              True\n",
       "Mexico            False\n",
       "New Zealand        True\n",
       "Niger             False\n",
       "Nigeria           False\n",
       "Paraguay          False\n",
       "Portugal           True\n",
       "South Korea        True\n",
       "Spain              True\n",
       "Switzerland        True\n",
       "United Kingdom     True\n",
       "United States     False\n",
       "dtype: bool"
      ]
     },
     "execution_count": 63,
     "metadata": {},
     "output_type": "execute_result"
    }
   ],
   "source": [
    "# check which values match the specified condition\n",
    "life_exp > 80"
   ]
  },
  {
   "cell_type": "code",
   "execution_count": 65,
   "id": "e78d5b43",
   "metadata": {},
   "outputs": [
    {
     "data": {
      "text/plain": [
       "Australia         82.09\n",
       "Canada            80.99\n",
       "Germany           80.24\n",
       "Ireland           80.15\n",
       "Japan             84.36\n",
       "New Zealand       80.67\n",
       "Portugal          80.68\n",
       "South Korea       83.23\n",
       "Spain             83.49\n",
       "Switzerland       82.50\n",
       "United Kingdom    80.09\n",
       "dtype: float64"
      ]
     },
     "execution_count": 65,
     "metadata": {},
     "output_type": "execute_result"
    }
   ],
   "source": [
    "# create a new series, with only values > 80\n",
    "life_exp[life_exp > 80]"
   ]
  },
  {
   "cell_type": "code",
   "execution_count": 67,
   "id": "48eaad76",
   "metadata": {},
   "outputs": [
    {
     "data": {
      "text/plain": [
       "Argentina        75.77\n",
       "Brazil           73.12\n",
       "Chad             49.81\n",
       "China            74.87\n",
       "Egypt            70.48\n",
       "Mexico           75.05\n",
       "Niger            55.13\n",
       "Nigeria          51.30\n",
       "Paraguay         76.99\n",
       "United States    78.51\n",
       "dtype: float64"
      ]
     },
     "execution_count": 67,
     "metadata": {},
     "output_type": "execute_result"
    }
   ],
   "source": [
    "# create a new series, with only values <= 80\n",
    "life_exp[life_exp <= 80]\n"
   ]
  },
  {
   "cell_type": "markdown",
   "id": "aab9749c",
   "metadata": {},
   "source": [
    "We can combine several different conditions using a boolean operator like AND (&) or OR (|). Note that each condition is surrounded in parentheses:"
   ]
  },
  {
   "cell_type": "code",
   "execution_count": 69,
   "id": "ebebe7f2",
   "metadata": {},
   "outputs": [
    {
     "data": {
      "text/plain": [
       "Argentina        75.77\n",
       "Mexico           75.05\n",
       "Paraguay         76.99\n",
       "United States    78.51\n",
       "dtype: float64"
      ]
     },
     "execution_count": 69,
     "metadata": {},
     "output_type": "execute_result"
    }
   ],
   "source": [
    "# values > 75 AND < 80\n",
    "life_exp[(life_exp > 75) & (life_exp < 80)]"
   ]
  },
  {
   "cell_type": "code",
   "execution_count": 71,
   "id": "01939bf9",
   "metadata": {},
   "outputs": [
    {
     "data": {
      "text/plain": [
       "Chad           49.81\n",
       "Japan          84.36\n",
       "Niger          55.13\n",
       "Nigeria        51.30\n",
       "South Korea    83.23\n",
       "Spain          83.49\n",
       "dtype: float64"
      ]
     },
     "execution_count": 71,
     "metadata": {},
     "output_type": "execute_result"
    }
   ],
   "source": [
    "# values < 70 OR values > 80\n",
    "life_exp[(life_exp < 70) | (life_exp > 83)]"
   ]
  },
  {
   "cell_type": "markdown",
   "id": "006accd7",
   "metadata": {},
   "source": [
    "## Modifying a Series"
   ]
  },
  {
   "cell_type": "markdown",
   "id": "3e8c926b",
   "metadata": {},
   "source": [
    "The easiest way to change elements in an existing Pandas Series is to use the index label. We can do this two different ways (both have the same effect):"
   ]
  },
  {
   "cell_type": "code",
   "execution_count": 73,
   "id": "6b79691d",
   "metadata": {},
   "outputs": [],
   "source": [
    "life_exp[\"Chad\"] = 50.2"
   ]
  },
  {
   "cell_type": "code",
   "execution_count": 75,
   "id": "349c2b0c",
   "metadata": {},
   "outputs": [],
   "source": [
    "life_exp.loc[\"Chad\"] = 50.2"
   ]
  },
  {
   "cell_type": "code",
   "execution_count": 77,
   "id": "28c5ed47",
   "metadata": {},
   "outputs": [
    {
     "data": {
      "text/plain": [
       "50.2"
      ]
     },
     "execution_count": 77,
     "metadata": {},
     "output_type": "execute_result"
    }
   ],
   "source": [
    "# check the values has changed\n",
    "life_exp[\"Chad\"]"
   ]
  },
  {
   "cell_type": "markdown",
   "id": "509e2260",
   "metadata": {},
   "source": [
    "We can also use position numbers to modify elements, via the *iloc[]* operator:"
   ]
  },
  {
   "cell_type": "code",
   "execution_count": 91,
   "id": "3978e59c",
   "metadata": {},
   "outputs": [
    {
     "data": {
      "text/plain": [
       "Argentina    75.90\n",
       "Australia    82.09\n",
       "Brazil       73.12\n",
       "Canada       80.99\n",
       "Chad         50.20\n",
       "dtype: float64"
      ]
     },
     "execution_count": 91,
     "metadata": {},
     "output_type": "execute_result"
    }
   ],
   "source": [
    "life_exp.iloc[0] = 75.90\n",
    "life_exp.head()"
   ]
  },
  {
   "cell_type": "markdown",
   "id": "6f273c4b",
   "metadata": {},
   "source": [
    "We can also add an additional element to the Series, by just assigning a value to a label:"
   ]
  },
  {
   "cell_type": "code",
   "execution_count": 93,
   "id": "ebcd0c4d",
   "metadata": {},
   "outputs": [
    {
     "data": {
      "text/plain": [
       "Argentina         75.90\n",
       "Australia         82.09\n",
       "Brazil            73.12\n",
       "Canada            80.99\n",
       "Chad              50.20\n",
       "China             74.87\n",
       "Egypt             70.48\n",
       "Germany           80.24\n",
       "Ireland           80.15\n",
       "Japan             84.36\n",
       "Mexico            75.05\n",
       "New Zealand       80.67\n",
       "Niger             55.13\n",
       "Nigeria           51.30\n",
       "Paraguay          76.99\n",
       "Portugal          80.68\n",
       "South Korea       83.23\n",
       "Spain             83.49\n",
       "Switzerland       82.50\n",
       "United Kingdom    80.09\n",
       "United States     78.51\n",
       "Norway            82.91\n",
       "dtype: float64"
      ]
     },
     "execution_count": 93,
     "metadata": {},
     "output_type": "execute_result"
    }
   ],
   "source": [
    "life_exp[\"Norway\"] = 82.91\n",
    "life_exp"
   ]
  },
  {
   "cell_type": "markdown",
   "id": "8ec06839",
   "metadata": {},
   "source": [
    "##  Series Statistics\n",
    "\n",
    "A Series has associated functions for a range of simple statisticsl analyses."
   ]
  },
  {
   "cell_type": "code",
   "execution_count": 95,
   "id": "dc306937",
   "metadata": {},
   "outputs": [
    {
     "data": {
      "text/plain": [
       "75.58863636363637"
      ]
     },
     "execution_count": 95,
     "metadata": {},
     "output_type": "execute_result"
    }
   ],
   "source": [
    "# average of the values\n",
    "life_exp.mean()"
   ]
  },
  {
   "cell_type": "code",
   "execution_count": 97,
   "id": "4d51952c",
   "metadata": {},
   "outputs": [
    {
     "data": {
      "text/plain": [
       "80.12"
      ]
     },
     "execution_count": 97,
     "metadata": {},
     "output_type": "execute_result"
    }
   ],
   "source": [
    "# median of the values (the middle value)\n",
    "life_exp.median()"
   ]
  },
  {
   "cell_type": "code",
   "execution_count": 99,
   "id": "7228afe3",
   "metadata": {},
   "outputs": [
    {
     "data": {
      "text/plain": [
       "10.192637069615518"
      ]
     },
     "execution_count": 99,
     "metadata": {},
     "output_type": "execute_result"
    }
   ],
   "source": [
    "# the standard deviation of the values (the spread)\n",
    "life_exp.std()"
   ]
  },
  {
   "cell_type": "code",
   "execution_count": 101,
   "id": "694a59d5",
   "metadata": {},
   "outputs": [
    {
     "data": {
      "text/plain": [
       "(50.2, 84.36)"
      ]
     },
     "execution_count": 101,
     "metadata": {},
     "output_type": "execute_result"
    }
   ],
   "source": [
    "# range of the values (the minimum and maximum)\n",
    "life_exp.min(), life_exp.max()"
   ]
  },
  {
   "cell_type": "markdown",
   "id": "92f69f95",
   "metadata": {},
   "source": [
    "The associated *describe()* function gives a useful statistical summary of a Series:"
   ]
  },
  {
   "cell_type": "code",
   "execution_count": 103,
   "id": "60ea1aba",
   "metadata": {},
   "outputs": [
    {
     "data": {
      "text/plain": [
       "count    22.000000\n",
       "mean     75.588636\n",
       "std      10.192637\n",
       "min      50.200000\n",
       "25%      74.915000\n",
       "50%      80.120000\n",
       "75%      81.815000\n",
       "max      84.360000\n",
       "dtype: float64"
      ]
     },
     "execution_count": 103,
     "metadata": {},
     "output_type": "execute_result"
    }
   ],
   "source": [
    "life_exp.describe()"
   ]
  },
  {
   "cell_type": "markdown",
   "id": "8ebe504a",
   "metadata": {},
   "source": [
    "## Sorting Series\n",
    "\n",
    "To sort a Series, we call its associated *sort_values()* function. Note this creates a copy of the original Series."
   ]
  },
  {
   "cell_type": "code",
   "execution_count": 105,
   "id": "9fc811d9",
   "metadata": {},
   "outputs": [
    {
     "data": {
      "text/plain": [
       "Chad              50.20\n",
       "Nigeria           51.30\n",
       "Niger             55.13\n",
       "Egypt             70.48\n",
       "Brazil            73.12\n",
       "China             74.87\n",
       "Mexico            75.05\n",
       "Argentina         75.90\n",
       "Paraguay          76.99\n",
       "United States     78.51\n",
       "United Kingdom    80.09\n",
       "Ireland           80.15\n",
       "Germany           80.24\n",
       "New Zealand       80.67\n",
       "Portugal          80.68\n",
       "Canada            80.99\n",
       "Australia         82.09\n",
       "Switzerland       82.50\n",
       "Norway            82.91\n",
       "South Korea       83.23\n",
       "Spain             83.49\n",
       "Japan             84.36\n",
       "dtype: float64"
      ]
     },
     "execution_count": 105,
     "metadata": {},
     "output_type": "execute_result"
    }
   ],
   "source": [
    "# sort lowest to highest\n",
    "life_exp.sort_values()"
   ]
  },
  {
   "cell_type": "markdown",
   "id": "0ea7b1d9",
   "metadata": {},
   "source": [
    "By default values are ordered in ascending order. We can sort in descending order, by specifying the argument *ascending=False*:"
   ]
  },
  {
   "cell_type": "code",
   "execution_count": 107,
   "id": "c547f64e",
   "metadata": {},
   "outputs": [
    {
     "data": {
      "text/plain": [
       "Japan             84.36\n",
       "Spain             83.49\n",
       "South Korea       83.23\n",
       "Norway            82.91\n",
       "Switzerland       82.50\n",
       "Australia         82.09\n",
       "Canada            80.99\n",
       "Portugal          80.68\n",
       "New Zealand       80.67\n",
       "Germany           80.24\n",
       "Ireland           80.15\n",
       "United Kingdom    80.09\n",
       "United States     78.51\n",
       "Paraguay          76.99\n",
       "Argentina         75.90\n",
       "Mexico            75.05\n",
       "China             74.87\n",
       "Brazil            73.12\n",
       "Egypt             70.48\n",
       "Niger             55.13\n",
       "Nigeria           51.30\n",
       "Chad              50.20\n",
       "dtype: float64"
      ]
     },
     "execution_count": 107,
     "metadata": {},
     "output_type": "execute_result"
    }
   ],
   "source": [
    "# sort highest to lowest\n",
    "life_exp.sort_values(ascending=False)"
   ]
  },
  {
   "cell_type": "markdown",
   "id": "1df9bcb0",
   "metadata": {},
   "source": [
    "We can also sort a Series based on its index labels, by calling *sort_index()*:"
   ]
  },
  {
   "cell_type": "code",
   "execution_count": 109,
   "id": "292c86cc",
   "metadata": {},
   "outputs": [
    {
     "data": {
      "text/plain": [
       "Argentina         75.90\n",
       "Australia         82.09\n",
       "Brazil            73.12\n",
       "Canada            80.99\n",
       "Chad              50.20\n",
       "China             74.87\n",
       "Egypt             70.48\n",
       "Germany           80.24\n",
       "Ireland           80.15\n",
       "Japan             84.36\n",
       "Mexico            75.05\n",
       "New Zealand       80.67\n",
       "Niger             55.13\n",
       "Nigeria           51.30\n",
       "Norway            82.91\n",
       "Paraguay          76.99\n",
       "Portugal          80.68\n",
       "South Korea       83.23\n",
       "Spain             83.49\n",
       "Switzerland       82.50\n",
       "United Kingdom    80.09\n",
       "United States     78.51\n",
       "dtype: float64"
      ]
     },
     "execution_count": 109,
     "metadata": {},
     "output_type": "execute_result"
    }
   ],
   "source": [
    "life_exp.sort_index()"
   ]
  },
  {
   "cell_type": "code",
   "execution_count": null,
   "id": "93b5c5ac-5c99-4630-9ca5-19fb9798524a",
   "metadata": {},
   "outputs": [],
   "source": []
  }
 ],
 "metadata": {
  "kernelspec": {
   "display_name": "Python 3 (ipykernel)",
   "language": "python",
   "name": "python3"
  },
  "language_info": {
   "codemirror_mode": {
    "name": "ipython",
    "version": 3
   },
   "file_extension": ".py",
   "mimetype": "text/x-python",
   "name": "python",
   "nbconvert_exporter": "python",
   "pygments_lexer": "ipython3",
   "version": "3.12.4"
  }
 },
 "nbformat": 4,
 "nbformat_minor": 5
}
