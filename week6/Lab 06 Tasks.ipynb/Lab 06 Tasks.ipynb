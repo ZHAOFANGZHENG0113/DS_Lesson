{
 "cells": [
  {
   "cell_type": "markdown",
   "metadata": {},
   "source": [
    "# Lab 6 Tasks - Solution\n",
    "\n",
    "In this notebook we will work with a dataset containing records of car sales from dealerships in different parts of Ireland during a one-year period. Each row in the data represents the sale of a single car, described by the following features:\n",
    "\n",
    "- *date*: the date when the car sale occurred\n",
    "- *make*: the make or manufacturer of the car\n",
    "- *model*: the specific model name of the car\n",
    "- *year*: indicates the age of the car\n",
    "- *transmission*: indicates if the car is manual, automatic, or semi-automatic\n",
    "- *fuel_type*: specifies the type type of fuel used by the car\n",
    "- *mileage*: the distance (in kilometres) that the car has previously been driven\n",
    "- *region*: the province in Ireland where the car sale took place\n",
    "- *sale_amount*: the amount (in euros) for which the car was sold"
   ]
  },
  {
   "cell_type": "markdown",
   "metadata": {},
   "source": [
    "## Task 1 - Data Loading\n",
    "\n",
    "Load the CSV file \"car-sales.csv\" into a Pandas DataFrame. Check the number of rows and the column names in the DataFrame."
   ]
  },
  {
   "cell_type": "code",
   "execution_count": 1,
   "metadata": {},
   "outputs": [],
   "source": [
    "import pandas as pd;"
   ]
  },
  {
   "cell_type": "code",
   "execution_count": 47,
   "metadata": {},
   "outputs": [
    {
     "data": {
      "text/plain": [
       "(3805, 8)"
      ]
     },
     "execution_count": 47,
     "metadata": {},
     "output_type": "execute_result"
    }
   ],
   "source": [
    "df = pd.read_csv(\"car-sales.csv\",index_col=\"date\")\n",
    "df.head(20)\n",
    "df.shape"
   ]
  },
  {
   "cell_type": "markdown",
   "metadata": {},
   "source": [
    "## Task 2 - Handling Missing Values\n",
    "\n",
    "Check the extent to which there are features with missing values present in the features in the dataset."
   ]
  },
  {
   "cell_type": "code",
   "execution_count": 13,
   "metadata": {},
   "outputs": [
    {
     "data": {
      "text/plain": [
       "make            12\n",
       "model            0\n",
       "year             0\n",
       "transmission    52\n",
       "fuel_type       40\n",
       "mileage          0\n",
       "region           0\n",
       "sale_amount      0\n",
       "dtype: int64"
      ]
     },
     "execution_count": 13,
     "metadata": {},
     "output_type": "execute_result"
    }
   ],
   "source": [
    "df.isnull().sum()"
   ]
  },
  {
   "cell_type": "markdown",
   "metadata": {},
   "source": [
    "Apply appropriate data preprocessing to address any issues with missing values."
   ]
  },
  {
   "cell_type": "code",
   "execution_count": 21,
   "metadata": {},
   "outputs": [],
   "source": [
    "max_make = df[\"make\"].value_counts().idxmax()\n",
    "max_transmission = df[\"transmission\"].value_counts().idxmax()\n",
    "max_fuel = df[\"fuel_type\"].value_counts().idxmax()\n",
    "df[\"make\"] = df[\"make\"].fillna(max_make)\n",
    "df[\"transmission\"] = df[\"transmission\"].fillna(max_transmission)\n",
    "df[\"fuel_type\"] = df[\"fuel_type\"].fillna(max_fuel)"
   ]
  },
  {
   "cell_type": "code",
   "execution_count": 49,
   "metadata": {},
   "outputs": [
    {
     "data": {
      "text/html": [
       "<div>\n",
       "<style scoped>\n",
       "    .dataframe tbody tr th:only-of-type {\n",
       "        vertical-align: middle;\n",
       "    }\n",
       "\n",
       "    .dataframe tbody tr th {\n",
       "        vertical-align: top;\n",
       "    }\n",
       "\n",
       "    .dataframe thead th {\n",
       "        text-align: right;\n",
       "    }\n",
       "</style>\n",
       "<table border=\"1\" class=\"dataframe\">\n",
       "  <thead>\n",
       "    <tr style=\"text-align: right;\">\n",
       "      <th></th>\n",
       "      <th>make</th>\n",
       "      <th>model</th>\n",
       "      <th>year</th>\n",
       "      <th>transmission</th>\n",
       "      <th>fuel_type</th>\n",
       "      <th>mileage</th>\n",
       "      <th>region</th>\n",
       "      <th>sale_amount</th>\n",
       "    </tr>\n",
       "    <tr>\n",
       "      <th>date</th>\n",
       "      <th></th>\n",
       "      <th></th>\n",
       "      <th></th>\n",
       "      <th></th>\n",
       "      <th></th>\n",
       "      <th></th>\n",
       "      <th></th>\n",
       "      <th></th>\n",
       "    </tr>\n",
       "  </thead>\n",
       "  <tbody>\n",
       "    <tr>\n",
       "      <th>2023-03-01</th>\n",
       "      <td>Audi</td>\n",
       "      <td>Q3</td>\n",
       "      <td>2021</td>\n",
       "      <td>Manual</td>\n",
       "      <td>Electric</td>\n",
       "      <td>4284</td>\n",
       "      <td>Leinster</td>\n",
       "      <td>43200</td>\n",
       "    </tr>\n",
       "    <tr>\n",
       "      <th>2022-08-08</th>\n",
       "      <td>Audi</td>\n",
       "      <td>A1</td>\n",
       "      <td>2017</td>\n",
       "      <td>Manual</td>\n",
       "      <td>Diesel</td>\n",
       "      <td>57397</td>\n",
       "      <td>Leinster</td>\n",
       "      <td>11400</td>\n",
       "    </tr>\n",
       "    <tr>\n",
       "      <th>2023-01-11</th>\n",
       "      <td>Audi</td>\n",
       "      <td>A1</td>\n",
       "      <td>2019</td>\n",
       "      <td>Manual</td>\n",
       "      <td>Petrol</td>\n",
       "      <td>14706</td>\n",
       "      <td>Connacht</td>\n",
       "      <td>18600</td>\n",
       "    </tr>\n",
       "    <tr>\n",
       "      <th>2023-04-21</th>\n",
       "      <td>Audi</td>\n",
       "      <td>Q3</td>\n",
       "      <td>2019</td>\n",
       "      <td>Semi-Auto</td>\n",
       "      <td>P</td>\n",
       "      <td>19400</td>\n",
       "      <td>Connacht</td>\n",
       "      <td>30800</td>\n",
       "    </tr>\n",
       "    <tr>\n",
       "      <th>2022-11-03</th>\n",
       "      <td>Audi</td>\n",
       "      <td>Q2</td>\n",
       "      <td>2021</td>\n",
       "      <td>Manual</td>\n",
       "      <td>Electric</td>\n",
       "      <td>6380</td>\n",
       "      <td>Leinster</td>\n",
       "      <td>25700</td>\n",
       "    </tr>\n",
       "  </tbody>\n",
       "</table>\n",
       "</div>"
      ],
      "text/plain": [
       "            make model  year transmission fuel_type  mileage    region  \\\n",
       "date                                                                     \n",
       "2023-03-01  Audi    Q3  2021       Manual  Electric     4284  Leinster   \n",
       "2022-08-08  Audi    A1  2017       Manual    Diesel    57397  Leinster   \n",
       "2023-01-11  Audi    A1  2019       Manual    Petrol    14706  Connacht   \n",
       "2023-04-21  Audi    Q3  2019    Semi-Auto         P    19400  Connacht   \n",
       "2022-11-03  Audi    Q2  2021       Manual  Electric     6380  Leinster   \n",
       "\n",
       "            sale_amount  \n",
       "date                     \n",
       "2023-03-01        43200  \n",
       "2022-08-08        11400  \n",
       "2023-01-11        18600  \n",
       "2023-04-21        30800  \n",
       "2022-11-03        25700  "
      ]
     },
     "execution_count": 49,
     "metadata": {},
     "output_type": "execute_result"
    }
   ],
   "source": [
    "df.head()"
   ]
  },
  {
   "cell_type": "markdown",
   "metadata": {},
   "source": [
    "## Task 3 - Handling Irregulary Cardinality\n",
    "\n",
    "Check the extent to which there are categorical features with irregular cardinality present in the features in the dataset."
   ]
  },
  {
   "cell_type": "code",
   "execution_count": null,
   "metadata": {},
   "outputs": [],
   "source": []
  },
  {
   "cell_type": "markdown",
   "metadata": {},
   "source": [
    "Apply appropriate data preprocessing to address any issues with irregular cardinality."
   ]
  },
  {
   "cell_type": "code",
   "execution_count": null,
   "metadata": {},
   "outputs": [],
   "source": []
  },
  {
   "cell_type": "markdown",
   "metadata": {},
   "source": [
    "## Task 4 - Data Aggregation\n",
    "\n",
    "Use data aggregation to analysise how the *total sale amount* for cars sold in the full dataset relates to the *region* in which the sale took place. Sort the regions by highest to lowest total value."
   ]
  },
  {
   "cell_type": "code",
   "execution_count": 77,
   "metadata": {},
   "outputs": [
    {
     "data": {
      "text/plain": [
       "region\n",
       "Leinster    35143900\n",
       "Munster     29167500\n",
       "Connacht    26616500\n",
       "Ulster      13159900\n",
       "Name: sale_amount, dtype: int64"
      ]
     },
     "execution_count": 77,
     "metadata": {},
     "output_type": "execute_result"
    }
   ],
   "source": [
    "groups1 = df.groupby(\"region\")\n",
    "groups1.sum(numeric_only=True)\n",
    "groups1['sale_amount'].sum(numeric_only=True).sort_values(ascending=False)"
   ]
  },
  {
   "cell_type": "markdown",
   "metadata": {},
   "source": [
    "Next, use data aggregation to analysise how the *total sale amount* for cars sold in the full dataset relates to car *model*. Sort the models by highest to lowest total value."
   ]
  },
  {
   "cell_type": "code",
   "execution_count": 83,
   "metadata": {},
   "outputs": [
    {
     "data": {
      "text/plain": [
       "model\n",
       "Q3    17631000\n",
       "A3    17599000\n",
       "A4    14820800\n",
       "Q5    14342700\n",
       "A5    10851100\n",
       "Q2     9970200\n",
       "A1     9935500\n",
       "A6     8937500\n",
       "Name: sale_amount, dtype: int64"
      ]
     },
     "execution_count": 83,
     "metadata": {},
     "output_type": "execute_result"
    }
   ],
   "source": [
    "groups2 = df.groupby(\"model\")\n",
    "groups2['sale_amount'].sum(numeric_only=True).sort_values(ascending=False)"
   ]
  },
  {
   "cell_type": "markdown",
   "metadata": {},
   "source": [
    "## Task 5 - Cross Tabulation\n",
    "\n",
    "Use cross tabulation to examine the relationship between the *model* and *region* categorical variables."
   ]
  },
  {
   "cell_type": "code",
   "execution_count": 87,
   "metadata": {},
   "outputs": [
    {
     "data": {
      "text/html": [
       "<div>\n",
       "<style scoped>\n",
       "    .dataframe tbody tr th:only-of-type {\n",
       "        vertical-align: middle;\n",
       "    }\n",
       "\n",
       "    .dataframe tbody tr th {\n",
       "        vertical-align: top;\n",
       "    }\n",
       "\n",
       "    .dataframe thead th {\n",
       "        text-align: right;\n",
       "    }\n",
       "</style>\n",
       "<table border=\"1\" class=\"dataframe\">\n",
       "  <thead>\n",
       "    <tr style=\"text-align: right;\">\n",
       "      <th>model</th>\n",
       "      <th>A1</th>\n",
       "      <th>A3</th>\n",
       "      <th>A4</th>\n",
       "      <th>A5</th>\n",
       "      <th>A6</th>\n",
       "      <th>Q2</th>\n",
       "      <th>Q3</th>\n",
       "      <th>Q5</th>\n",
       "    </tr>\n",
       "    <tr>\n",
       "      <th>region</th>\n",
       "      <th></th>\n",
       "      <th></th>\n",
       "      <th></th>\n",
       "      <th></th>\n",
       "      <th></th>\n",
       "      <th></th>\n",
       "      <th></th>\n",
       "      <th></th>\n",
       "    </tr>\n",
       "  </thead>\n",
       "  <tbody>\n",
       "    <tr>\n",
       "      <th>Connacht</th>\n",
       "      <td>141</td>\n",
       "      <td>196</td>\n",
       "      <td>142</td>\n",
       "      <td>86</td>\n",
       "      <td>74</td>\n",
       "      <td>84</td>\n",
       "      <td>151</td>\n",
       "      <td>99</td>\n",
       "    </tr>\n",
       "    <tr>\n",
       "      <th>Leinster</th>\n",
       "      <td>172</td>\n",
       "      <td>260</td>\n",
       "      <td>191</td>\n",
       "      <td>114</td>\n",
       "      <td>112</td>\n",
       "      <td>113</td>\n",
       "      <td>195</td>\n",
       "      <td>126</td>\n",
       "    </tr>\n",
       "    <tr>\n",
       "      <th>Munster</th>\n",
       "      <td>146</td>\n",
       "      <td>230</td>\n",
       "      <td>165</td>\n",
       "      <td>101</td>\n",
       "      <td>70</td>\n",
       "      <td>90</td>\n",
       "      <td>171</td>\n",
       "      <td>92</td>\n",
       "    </tr>\n",
       "    <tr>\n",
       "      <th>Ulster</th>\n",
       "      <td>71</td>\n",
       "      <td>95</td>\n",
       "      <td>61</td>\n",
       "      <td>50</td>\n",
       "      <td>40</td>\n",
       "      <td>51</td>\n",
       "      <td>79</td>\n",
       "      <td>37</td>\n",
       "    </tr>\n",
       "  </tbody>\n",
       "</table>\n",
       "</div>"
      ],
      "text/plain": [
       "model      A1   A3   A4   A5   A6   Q2   Q3   Q5\n",
       "region                                          \n",
       "Connacht  141  196  142   86   74   84  151   99\n",
       "Leinster  172  260  191  114  112  113  195  126\n",
       "Munster   146  230  165  101   70   90  171   92\n",
       "Ulster     71   95   61   50   40   51   79   37"
      ]
     },
     "execution_count": 87,
     "metadata": {},
     "output_type": "execute_result"
    }
   ],
   "source": [
    "pd.crosstab(df[\"region\"], df[\"model\"])"
   ]
  },
  {
   "cell_type": "markdown",
   "metadata": {},
   "source": [
    "Next, use cross tabulation to examine the relationship between the *transmission* and *fuel type* categorical variables.\n",
    "\n",
    "In this case, normalise the values in the cross-tabulation by row."
   ]
  },
  {
   "cell_type": "code",
   "execution_count": 93,
   "metadata": {},
   "outputs": [
    {
     "data": {
      "text/html": [
       "<div>\n",
       "<style scoped>\n",
       "    .dataframe tbody tr th:only-of-type {\n",
       "        vertical-align: middle;\n",
       "    }\n",
       "\n",
       "    .dataframe tbody tr th {\n",
       "        vertical-align: top;\n",
       "    }\n",
       "\n",
       "    .dataframe thead th {\n",
       "        text-align: right;\n",
       "    }\n",
       "</style>\n",
       "<table border=\"1\" class=\"dataframe\">\n",
       "  <thead>\n",
       "    <tr style=\"text-align: right;\">\n",
       "      <th>fuel_type</th>\n",
       "      <th>D</th>\n",
       "      <th>Diesel</th>\n",
       "      <th>E</th>\n",
       "      <th>Electric</th>\n",
       "      <th>P</th>\n",
       "      <th>Petrol</th>\n",
       "    </tr>\n",
       "    <tr>\n",
       "      <th>transmission</th>\n",
       "      <th></th>\n",
       "      <th></th>\n",
       "      <th></th>\n",
       "      <th></th>\n",
       "      <th></th>\n",
       "      <th></th>\n",
       "    </tr>\n",
       "  </thead>\n",
       "  <tbody>\n",
       "    <tr>\n",
       "      <th>Auto</th>\n",
       "      <td>4</td>\n",
       "      <td>40</td>\n",
       "      <td>2</td>\n",
       "      <td>38</td>\n",
       "      <td>7</td>\n",
       "      <td>38</td>\n",
       "    </tr>\n",
       "    <tr>\n",
       "      <th>Automatic</th>\n",
       "      <td>34</td>\n",
       "      <td>226</td>\n",
       "      <td>15</td>\n",
       "      <td>175</td>\n",
       "      <td>30</td>\n",
       "      <td>202</td>\n",
       "    </tr>\n",
       "    <tr>\n",
       "      <th>Manual</th>\n",
       "      <td>61</td>\n",
       "      <td>628</td>\n",
       "      <td>21</td>\n",
       "      <td>158</td>\n",
       "      <td>76</td>\n",
       "      <td>711</td>\n",
       "    </tr>\n",
       "    <tr>\n",
       "      <th>Semi-Auto</th>\n",
       "      <td>40</td>\n",
       "      <td>352</td>\n",
       "      <td>28</td>\n",
       "      <td>254</td>\n",
       "      <td>62</td>\n",
       "      <td>511</td>\n",
       "    </tr>\n",
       "  </tbody>\n",
       "</table>\n",
       "</div>"
      ],
      "text/plain": [
       "fuel_type      D  Diesel   E  Electric   P  Petrol\n",
       "transmission                                      \n",
       "Auto           4      40   2        38   7      38\n",
       "Automatic     34     226  15       175  30     202\n",
       "Manual        61     628  21       158  76     711\n",
       "Semi-Auto     40     352  28       254  62     511"
      ]
     },
     "execution_count": 93,
     "metadata": {},
     "output_type": "execute_result"
    }
   ],
   "source": [
    "df2 = pd.crosstab(df[\"transmission\"], df[\"fuel_type\"])\n",
    "df2"
   ]
  },
  {
   "cell_type": "code",
   "execution_count": 97,
   "metadata": {},
   "outputs": [
    {
     "data": {
      "text/html": [
       "<div>\n",
       "<style scoped>\n",
       "    .dataframe tbody tr th:only-of-type {\n",
       "        vertical-align: middle;\n",
       "    }\n",
       "\n",
       "    .dataframe tbody tr th {\n",
       "        vertical-align: top;\n",
       "    }\n",
       "\n",
       "    .dataframe thead th {\n",
       "        text-align: right;\n",
       "    }\n",
       "</style>\n",
       "<table border=\"1\" class=\"dataframe\">\n",
       "  <thead>\n",
       "    <tr style=\"text-align: right;\">\n",
       "      <th>fuel_type</th>\n",
       "      <th>D</th>\n",
       "      <th>Diesel</th>\n",
       "      <th>E</th>\n",
       "      <th>Electric</th>\n",
       "      <th>P</th>\n",
       "      <th>Petrol</th>\n",
       "    </tr>\n",
       "    <tr>\n",
       "      <th>transmission</th>\n",
       "      <th></th>\n",
       "      <th></th>\n",
       "      <th></th>\n",
       "      <th></th>\n",
       "      <th></th>\n",
       "      <th></th>\n",
       "    </tr>\n",
       "  </thead>\n",
       "  <tbody>\n",
       "    <tr>\n",
       "      <th>Auto</th>\n",
       "      <td>0.031008</td>\n",
       "      <td>0.310078</td>\n",
       "      <td>0.015504</td>\n",
       "      <td>0.294574</td>\n",
       "      <td>0.054264</td>\n",
       "      <td>0.294574</td>\n",
       "    </tr>\n",
       "    <tr>\n",
       "      <th>Automatic</th>\n",
       "      <td>0.049853</td>\n",
       "      <td>0.331378</td>\n",
       "      <td>0.021994</td>\n",
       "      <td>0.256598</td>\n",
       "      <td>0.043988</td>\n",
       "      <td>0.296188</td>\n",
       "    </tr>\n",
       "    <tr>\n",
       "      <th>Manual</th>\n",
       "      <td>0.036858</td>\n",
       "      <td>0.379456</td>\n",
       "      <td>0.012689</td>\n",
       "      <td>0.095468</td>\n",
       "      <td>0.045921</td>\n",
       "      <td>0.429607</td>\n",
       "    </tr>\n",
       "    <tr>\n",
       "      <th>Semi-Auto</th>\n",
       "      <td>0.032077</td>\n",
       "      <td>0.282277</td>\n",
       "      <td>0.022454</td>\n",
       "      <td>0.203689</td>\n",
       "      <td>0.049719</td>\n",
       "      <td>0.409783</td>\n",
       "    </tr>\n",
       "  </tbody>\n",
       "</table>\n",
       "</div>"
      ],
      "text/plain": [
       "fuel_type            D    Diesel         E  Electric         P    Petrol\n",
       "transmission                                                            \n",
       "Auto          0.031008  0.310078  0.015504  0.294574  0.054264  0.294574\n",
       "Automatic     0.049853  0.331378  0.021994  0.256598  0.043988  0.296188\n",
       "Manual        0.036858  0.379456  0.012689  0.095468  0.045921  0.429607\n",
       "Semi-Auto     0.032077  0.282277  0.022454  0.203689  0.049719  0.409783"
      ]
     },
     "execution_count": 97,
     "metadata": {},
     "output_type": "execute_result"
    }
   ],
   "source": [
    "df2 = df2.div(df2.sum(axis=1), axis=0)\n",
    "df2"
   ]
  },
  {
   "cell_type": "code",
   "execution_count": null,
   "metadata": {},
   "outputs": [],
   "source": []
  }
 ],
 "metadata": {
  "anaconda-cloud": {},
  "kernelspec": {
   "display_name": "Python 3 (ipykernel)",
   "language": "python",
   "name": "python3"
  },
  "language_info": {
   "codemirror_mode": {
    "name": "ipython",
    "version": 3
   },
   "file_extension": ".py",
   "mimetype": "text/x-python",
   "name": "python",
   "nbconvert_exporter": "python",
   "pygments_lexer": "ipython3",
   "version": "3.12.4"
  }
 },
 "nbformat": 4,
 "nbformat_minor": 4
}
