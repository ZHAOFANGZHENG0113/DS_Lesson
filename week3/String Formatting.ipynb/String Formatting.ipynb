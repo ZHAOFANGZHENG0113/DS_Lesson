{
 "cells": [
  {
   "cell_type": "markdown",
   "metadata": {},
   "source": [
    "# String Formatting in Python"
   ]
  },
  {
   "cell_type": "markdown",
   "metadata": {},
   "source": [
    "Python contains a number of different approaches for formatting strings. In this notebook we discuss the traditional approach from Lecture 3, and two newer approaches introduced more recent version of Python."
   ]
  },
  {
   "cell_type": "markdown",
   "metadata": {},
   "source": [
    "## Traditional String Formatting"
   ]
  },
  {
   "cell_type": "markdown",
   "metadata": {},
   "source": [
    "In Lecture 3 we saw the traditional type of string formatting, which makes use of the **%-operator**. This approach was common in Python 2 and is still supported in Python 3.\n",
    "\n",
    "With this approach, special placeholder codes are used when building a format string. Each placeholder should correspond to the type of the value that will replace it. For numbers, we can use *format specifiers* to change the precision:\n",
    "- %d: integer\n",
    "- %f: floating point, with default precision\n",
    "- %.Nf: floating point to *N* decimal places)\n",
    "- %s: a string (or any value)"
   ]
  },
  {
   "cell_type": "code",
   "execution_count": 1,
   "metadata": {},
   "outputs": [
    {
     "data": {
      "text/plain": [
       "'one and two and three'"
      ]
     },
     "execution_count": 1,
     "metadata": {},
     "output_type": "execute_result"
    }
   ],
   "source": [
    "\"%s and %s and %s\" % (\"one\", \"two\", \"three\")"
   ]
  },
  {
   "cell_type": "code",
   "execution_count": 3,
   "metadata": {},
   "outputs": [
    {
     "data": {
      "text/plain": [
       "'1 and 2 and 3'"
      ]
     },
     "execution_count": 3,
     "metadata": {},
     "output_type": "execute_result"
    }
   ],
   "source": [
    "\"%d and %d and %d\" % (1, 2, 3)"
   ]
  },
  {
   "cell_type": "code",
   "execution_count": 5,
   "metadata": {},
   "outputs": [
    {
     "data": {
      "text/plain": [
       "'1.00 and 2.00 and 3.00'"
      ]
     },
     "execution_count": 5,
     "metadata": {},
     "output_type": "execute_result"
    }
   ],
   "source": [
    "\"%.2f and %.2f and %.2f\" % (1, 2, 3)"
   ]
  },
  {
   "cell_type": "code",
   "execution_count": 7,
   "metadata": {},
   "outputs": [
    {
     "data": {
      "text/plain": [
       "'The 2020 movie News of the World starring Tom Hanks has an IMDB rating of 6.9'"
      ]
     },
     "execution_count": 7,
     "metadata": {},
     "output_type": "execute_result"
    }
   ],
   "source": [
    "title = \"News of the World\"\n",
    "lead_actor = \"Tom Hanks\"\n",
    "year = 2020\n",
    "rating = 6.879\n",
    "\"The %d movie %s starring %s has an IMDB rating of %.1f\" % (year, title, lead_actor, rating)"
   ]
  },
  {
   "cell_type": "code",
   "execution_count": 9,
   "metadata": {},
   "outputs": [
    {
     "name": "stdout",
     "output_type": "stream",
     "text": [
      "0.9, 0.9, 0.0, 0.2\n",
      "0.89, 0.91, 0.03, 0.23\n",
      "0000.891, 0000.914, 0000.034, 0000.231\n",
      "   0.891,    0.914,    0.034,    0.231\n"
     ]
    }
   ],
   "source": [
    "scores = [0.8914, 0.9142, 0.0343, 0.2313]\n",
    "print(\"%.1f, %.1f, %.1f, %.1f\" % (scores[0], scores[1], scores[2], scores[3]))\n",
    "print(\"%.2f, %.2f, %.2f, %.2f\" % (scores[0], scores[1], scores[2], scores[3]))\n",
    "# add zeros in front\n",
    "print(\"%08.3f, %08.3f, %08.3f, %08.3f\" % (scores[0], scores[1], scores[2], scores[3]))\n",
    "# add spaces in front\n",
    "print(\"%8.3f, %8.3f, %8.3f, %8.3f\" % (scores[0], scores[1], scores[2], scores[3]))"
   ]
  },
  {
   "cell_type": "markdown",
   "metadata": {},
   "source": [
    "## Formatting with str.format()"
   ]
  },
  {
   "cell_type": "markdown",
   "metadata": {},
   "source": [
    "However, once you start using several parameters and longer strings, the previous approach becomes difficult to read.\n",
    "\n",
    "Python 3 introduced a new approach for string which removes the requirement for the %-operator. Formatting is now handled by calling the **.format()** function on a string value.\n",
    "\n",
    "For a comprehensive set of examples for this formatting syntax, see https://pyformat.info/"
   ]
  },
  {
   "cell_type": "markdown",
   "metadata": {},
   "source": [
    "With *str.format()*, the placeholder fields are marked by curly brackets:"
   ]
  },
  {
   "cell_type": "code",
   "execution_count": 11,
   "metadata": {},
   "outputs": [
    {
     "data": {
      "text/plain": [
       "'Hello, Alice'"
      ]
     },
     "execution_count": 11,
     "metadata": {},
     "output_type": "execute_result"
    }
   ],
   "source": [
    "name = \"Alice\"\n",
    "\"Hello, {}\".format(name)"
   ]
  },
  {
   "cell_type": "code",
   "execution_count": 13,
   "metadata": {},
   "outputs": [
    {
     "data": {
      "text/plain": [
       "'one and two and three'"
      ]
     },
     "execution_count": 13,
     "metadata": {},
     "output_type": "execute_result"
    }
   ],
   "source": [
    "s = \"{} and {} and {}\"\n",
    "s.format(\"one\", \"two\", \"three\")"
   ]
  },
  {
   "cell_type": "code",
   "execution_count": 15,
   "metadata": {},
   "outputs": [
    {
     "data": {
      "text/plain": [
       "'1 and 2 and 3'"
      ]
     },
     "execution_count": 15,
     "metadata": {},
     "output_type": "execute_result"
    }
   ],
   "source": [
    "s.format(1, 2, 3)"
   ]
  },
  {
   "cell_type": "markdown",
   "metadata": {},
   "source": [
    "We can reference variables in any order by referencing their index:"
   ]
  },
  {
   "cell_type": "code",
   "execution_count": 18,
   "metadata": {},
   "outputs": [
    {
     "data": {
      "text/plain": [
       "'Bob is 25 years old today.'"
      ]
     },
     "execution_count": 18,
     "metadata": {},
     "output_type": "execute_result"
    }
   ],
   "source": [
    "name, age = \"Bob\", 25\n",
    "when = \"today\"\n",
    "\"{2} is {1} years old {0}.\".format(when, age, name)"
   ]
  },
  {
   "cell_type": "markdown",
   "metadata": {},
   "source": [
    "We can also added named placeholders:"
   ]
  },
  {
   "cell_type": "code",
   "execution_count": 20,
   "metadata": {},
   "outputs": [
    {
     "data": {
      "text/plain": [
       "'Capital of Ireland: Dublin, Ireland'"
      ]
     },
     "execution_count": 20,
     "metadata": {},
     "output_type": "execute_result"
    }
   ],
   "source": [
    "'Capital of {country}: {city}, {country}'.format(city='Dublin', country='Ireland')"
   ]
  },
  {
   "cell_type": "markdown",
   "metadata": {},
   "source": [
    "We can format or pad numbers as with the previous approach, using placeholders and *format specifiers*:"
   ]
  },
  {
   "cell_type": "code",
   "execution_count": 23,
   "metadata": {},
   "outputs": [
    {
     "data": {
      "text/plain": [
       "'42'"
      ]
     },
     "execution_count": 23,
     "metadata": {},
     "output_type": "execute_result"
    }
   ],
   "source": [
    "'{:d}'.format(42)"
   ]
  },
  {
   "cell_type": "code",
   "execution_count": 25,
   "metadata": {},
   "outputs": [
    {
     "data": {
      "text/plain": [
       "'42.0000'"
      ]
     },
     "execution_count": 25,
     "metadata": {},
     "output_type": "execute_result"
    }
   ],
   "source": [
    "# floating point, 4 decimal places\n",
    "'{:.4f}'.format(42)"
   ]
  },
  {
   "cell_type": "code",
   "execution_count": 27,
   "metadata": {},
   "outputs": [
    {
     "name": "stdout",
     "output_type": "stream",
     "text": [
      "13.54\n",
      "013.54\n"
     ]
    }
   ],
   "source": [
    "x = 13.543646\n",
    "# format to 2 decimal places\n",
    "print(\"{:.2f}\".format(x))\n",
    "# output should have at least 6 characters, with 2 decimal places\n",
    "print(\"{:06.2f}\".format(x))"
   ]
  },
  {
   "cell_type": "markdown",
   "metadata": {},
   "source": [
    "We can left, right or centre align strings:"
   ]
  },
  {
   "cell_type": "code",
   "execution_count": 30,
   "metadata": {},
   "outputs": [
    {
     "data": {
      "text/plain": [
       "'Dublin      '"
      ]
     },
     "execution_count": 30,
     "metadata": {},
     "output_type": "execute_result"
    }
   ],
   "source": [
    "# align left\n",
    "\"{:12}\".format(\"Dublin\")"
   ]
  },
  {
   "cell_type": "code",
   "execution_count": 32,
   "metadata": {},
   "outputs": [
    {
     "data": {
      "text/plain": [
       "'      Dublin'"
      ]
     },
     "execution_count": 32,
     "metadata": {},
     "output_type": "execute_result"
    }
   ],
   "source": [
    "# align right\n",
    "\"{:>12}\".format(\"Dublin\")"
   ]
  },
  {
   "cell_type": "code",
   "execution_count": 34,
   "metadata": {},
   "outputs": [
    {
     "data": {
      "text/plain": [
       "'   Dublin   '"
      ]
     },
     "execution_count": 34,
     "metadata": {},
     "output_type": "execute_result"
    }
   ],
   "source": [
    "# centre the string\n",
    "\"{:^12}\".format(\"Dublin\")"
   ]
  },
  {
   "cell_type": "markdown",
   "metadata": {},
   "source": [
    "We can also truncate long strings to make the shorter:"
   ]
  },
  {
   "cell_type": "code",
   "execution_count": 37,
   "metadata": {},
   "outputs": [
    {
     "data": {
      "text/plain": [
       "'Word: xylop'"
      ]
     },
     "execution_count": 37,
     "metadata": {},
     "output_type": "execute_result"
    }
   ],
   "source": [
    "\"Word: {:.5}\".format(\"xylophone\")"
   ]
  },
  {
   "cell_type": "markdown",
   "metadata": {},
   "source": [
    "## Formatting with F-Strings\n",
    "\n",
    "A third approach to string formatting was introduced in Python 3.6, which is called formatted string literals or *f-strings*. \n",
    "\n",
    "Here we prefix the formatting string with 'f':"
   ]
  },
  {
   "cell_type": "code",
   "execution_count": 1,
   "metadata": {},
   "outputs": [
    {
     "data": {
      "text/plain": [
       "'Hello, Alice!'"
      ]
     },
     "execution_count": 1,
     "metadata": {},
     "output_type": "execute_result"
    }
   ],
   "source": [
    "name = \"Alice\"\n",
    "f\"Hello, {name}!\""
   ]
  },
  {
   "cell_type": "code",
   "execution_count": 3,
   "metadata": {},
   "outputs": [
    {
     "data": {
      "text/plain": [
       "'one and two and three'"
      ]
     },
     "execution_count": 3,
     "metadata": {},
     "output_type": "execute_result"
    }
   ],
   "source": [
    "# be careful with quote characters\n",
    "f\"{'one'} and {'two'} and {'three'}\""
   ]
  },
  {
   "cell_type": "markdown",
   "metadata": {},
   "source": [
    "We can format numbers like in the two previous formatting methods, using format specifiers:"
   ]
  },
  {
   "cell_type": "code",
   "execution_count": 6,
   "metadata": {},
   "outputs": [
    {
     "name": "stdout",
     "output_type": "stream",
     "text": [
      "0.23\n",
      "0000.235\n",
      "23.5%\n"
     ]
    }
   ],
   "source": [
    "x = 0.234535\n",
    "# 2 decimal places\n",
    "print( f\"{x:.2f}\" )\n",
    "# at least 8 characters, with 3 decimal places\n",
    "print( f\"{x:08.3f}\" )\n",
    "# percentage with 1 decimal palce\n",
    "print( f\"{x:.1%}\" )"
   ]
  },
  {
   "cell_type": "markdown",
   "metadata": {},
   "source": [
    "We can reference existing variables in an f-string, and perform operations"
   ]
  },
  {
   "cell_type": "code",
   "execution_count": 8,
   "metadata": {},
   "outputs": [
    {
     "data": {
      "text/plain": [
       "'Six plus ten is 16 and not 32'"
      ]
     },
     "execution_count": 8,
     "metadata": {},
     "output_type": "execute_result"
    }
   ],
   "source": [
    "a = 6\n",
    "b = 10\n",
    "f\"Six plus ten is {a + b} and not {2 * (a + b)}\""
   ]
  },
  {
   "cell_type": "markdown",
   "metadata": {},
   "source": [
    "To make curly brackets appear in a string, we need to use double braces:"
   ]
  },
  {
   "cell_type": "code",
   "execution_count": 10,
   "metadata": {},
   "outputs": [
    {
     "data": {
      "text/plain": [
       "'{250}'"
      ]
     },
     "execution_count": 10,
     "metadata": {},
     "output_type": "execute_result"
    }
   ],
   "source": [
    "f\"{{{50 * 5}}}\""
   ]
  },
  {
   "cell_type": "markdown",
   "metadata": {},
   "source": [
    "F-strings are useful when working with dictionaries, where we can specify key names:"
   ]
  },
  {
   "cell_type": "code",
   "execution_count": 12,
   "metadata": {},
   "outputs": [
    {
     "data": {
      "text/plain": [
       "'The football player Lionel Messi was born in Argentina in 1987.'"
      ]
     },
     "execution_count": 12,
     "metadata": {},
     "output_type": "execute_result"
    }
   ],
   "source": [
    "person = {'name': 'Lionel Messi', 'year': 1987, 'country' : 'Argentina'}\n",
    "f\"The football player {person['name']} was born in {person['country']} in {person['year']}.\""
   ]
  },
  {
   "cell_type": "code",
   "execution_count": 14,
   "metadata": {},
   "outputs": [
    {
     "name": "stdout",
     "output_type": "stream",
     "text": [
      "Alice      ==>       8763\n",
      "Bob        ==>       5578\n",
      "Sarah      ==>       3434\n"
     ]
    }
   ],
   "source": [
    "table = {'Alice': 8763, 'Bob': 5578, 'Sarah': 3434}\n",
    "for name, phone in table.items():\n",
    "    print(f\"{name:10} ==> {phone:10d}\")"
   ]
  },
  {
   "cell_type": "markdown",
   "metadata": {},
   "source": [
    "We can also \"unpack\" a list to create a string containing all of its values:"
   ]
  },
  {
   "cell_type": "code",
   "execution_count": 16,
   "metadata": {},
   "outputs": [
    {
     "data": {
      "text/plain": [
       "'Unpacked list: (1, 2, 3, 4, 5, 6)'"
      ]
     },
     "execution_count": 16,
     "metadata": {},
     "output_type": "execute_result"
    }
   ],
   "source": [
    "a = [1, 2, 3, 4, 5, 6]\n",
    "f\"Unpacked list: {*a,}\""
   ]
  },
  {
   "cell_type": "code",
   "execution_count": null,
   "metadata": {},
   "outputs": [],
   "source": []
  }
 ],
 "metadata": {
  "kernelspec": {
   "display_name": "Python 3 (ipykernel)",
   "language": "python",
   "name": "python3"
  },
  "language_info": {
   "codemirror_mode": {
    "name": "ipython",
    "version": 3
   },
   "file_extension": ".py",
   "mimetype": "text/x-python",
   "name": "python",
   "nbconvert_exporter": "python",
   "pygments_lexer": "ipython3",
   "version": "3.12.4"
  }
 },
 "nbformat": 4,
 "nbformat_minor": 4
}
