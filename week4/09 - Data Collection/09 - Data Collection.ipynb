{
 "cells": [
  {
   "cell_type": "markdown",
   "metadata": {},
   "source": [
    "# Data Collection"
   ]
  },
  {
   "cell_type": "markdown",
   "metadata": {},
   "source": [
    "## Downloading Data\n",
    "The built-in Python *urllib.request* module has functions which help in downloading content from HTTP URLs using minimal code."
   ]
  },
  {
   "cell_type": "code",
   "execution_count": 7,
   "metadata": {},
   "outputs": [
    {
     "name": "stdout",
     "output_type": "stream",
     "text": [
      "History of UCD\n",
      "\n",
      "Originally known as the Catholic University of Ireland and subsequently as the Royal University, the university became UCD in 1908 and a constituent college of the National University of Ireland (NUI). \n",
      "\n",
      "In 1997, UCD became an autonomous university within the loose federal structure of the NUI and UCD students are awarded degrees of the National University of Ireland.\n",
      "\n",
      "UCD has been a major contributor to the making of modern Ireland. Many UCD students and staff participated in the struggle for Irish independence and the university has produced numerous Irish Presidents and Taoisigh (Prime Ministers) in addition to generations of Irish business, professional, cultural and sporting leaders. \n",
      "\n",
      "Among UCD's well-known graduates are authors (Maeve Binchy, Roddy Doyle, Flann O'Brien), actors (Gabriel Byrne, Brendan Gleeson), directors (Neil Jordan, Jim Sheridan) and sports stars such as Irish rugby captain Brian O'Driscoll and former Manchester United and Ireland captain Kevin Moran. Perhaps the best known of all its graduates is the writer James Joyce, who completed his Bachelor of Arts at the university in 1902.\n",
      "\n"
     ]
    }
   ],
   "source": [
    "import urllib.request\n",
    "url = \"http://mlg.ucd.ie/modules/COMP41680/ucd.txt\"\n",
    "response = urllib.request.urlopen(url)\n",
    "text = response.read().decode()\n",
    "print(text)"
   ]
  },
  {
   "cell_type": "markdown",
   "metadata": {},
   "source": [
    "In practice, we may often want to wrap code to fetch URLs in a try block, to handle the case where we cannot access the URL."
   ]
  },
  {
   "cell_type": "code",
   "execution_count": 5,
   "metadata": {},
   "outputs": [
    {
     "name": "stdout",
     "output_type": "stream",
     "text": [
      "Failed to retrieve http://somemissinglink.ucd.ie/ucd.txt\n"
     ]
    }
   ],
   "source": [
    "url = \"http://somemissinglink.ucd.ie/ucd.txt\"\n",
    "try:\n",
    "    response = urllib.request.urlopen(url)\n",
    "    text = response.read().decode()\n",
    "except:\n",
    "    print(\"Failed to retrieve %s\" % url)"
   ]
  },
  {
   "cell_type": "markdown",
   "metadata": {},
   "source": [
    "## Working with CSV Data"
   ]
  },
  {
   "cell_type": "markdown",
   "metadata": {},
   "source": [
    "The CSV (\"Comma Separated Values\") file format is often used to exchange tabular data between different applications, like Excel. Essentially a CSV file is a plain text file where values are split by a comma separator. Alternatively can be tab or space separated. \n",
    "\n",
    "As an example, we will look at a CSV file containing details of Premier League goal scorers. We could download this CSV file using *urllib.request* and manually parse it..."
   ]
  },
  {
   "cell_type": "code",
   "execution_count": 11,
   "metadata": {},
   "outputs": [
    {
     "name": "stdout",
     "output_type": "stream",
     "text": [
      "['Player', 'Club', 'Total Goals', 'Home Goals', 'Away Goals']\n",
      "['Jamie Vardy', 'Leicester City', '17', '8', '9']\n",
      "['Sergio Aguero', 'Manchester City', '16', '8', '8']\n",
      "['P. Aubameyang', 'Arsenal', '15', '6', '9']\n",
      "['Danny Ings', 'Southampton', '15', '8', '7']\n",
      "['Marcus Rashford', 'Manchester Utd', '14', '10', '4']\n",
      "['Mohamed Salah', 'Liverpool', '14', '12', '2']\n",
      "['Tammy Abraham', 'Chelsea', '13', '5', '8']\n",
      "['Sadio Mané', 'Liverpool', '12', '7', '5']\n",
      "['Raúl Jiménez', 'Wolverhampton', '11', '5', '6']\n",
      "['Harry Kane', 'Tottenham', '11', '6', '5']\n",
      "['D. Calvert-Lewin', 'Everton', '11', '6', '5']\n",
      "['Raheem Sterling', 'Manchester City', '11', '2', '9']\n",
      "['Teemu Pukki', 'Norwich City', '11', '7', '4']\n",
      "['Chris Wood', 'Burnley', '10', '6', '4']\n",
      "['Son Heungmin', 'Tottenham', '9', '6', '3']\n",
      "['Anthony Martial', 'Manchester Utd', '9', '4', '5']\n",
      "['Richarlison', 'Everton', '9', '5', '4']\n",
      "['Kevin De Bruyne', 'Manchester City', '9', '6', '3']\n",
      "['Gabriel Jesus', 'Manchester City', '9', '3', '6']\n",
      "['Roberto Firmino', 'Liverpool', '8', '0', '8']\n",
      "['Dele Alli', 'Tottenham', '7', '5', '2']\n",
      "['Ayoze Perez', 'Leicester City', '7', '2', '5']\n",
      "['Jack Grealish', 'Aston Villa', '7', '3', '4']\n",
      "['Harry Wilson', 'Bournemouth', '7', '2', '5']\n",
      "['Callum Wilson', 'Bournemouth', '7', '4', '3']\n",
      "['Neal Maupay', 'Brighton', '7', '4', '3']\n",
      "['Riyad Mahrez', 'Manchester City', '7', '3', '4']\n",
      "['Alexandre Lacazette', 'Arsenal', '6', '6', '0']\n",
      "['James Maddison', 'Leicester City', '6', '3', '3']\n",
      "['Jordan Ayew', 'Crystal Palace', '6', '3', '3']\n"
     ]
    }
   ],
   "source": [
    "# Download the CSV and store as a string\n",
    "url = \"http://mlg.ucd.ie/modules/COMP41680/goal_scorers.csv\"\n",
    "response = urllib.request.urlopen(url)\n",
    "raw_csv = response.read().decode()\n",
    "# Parse each line\n",
    "lines = raw_csv.split(\"\\n\")\n",
    "for l in lines:\n",
    "    l = l.strip()\n",
    "    if len(l) > 0:\n",
    "        # split based on a comma separator\n",
    "        parts = l.split(\",\")\n",
    "        print(parts)"
   ]
  },
  {
   "cell_type": "markdown",
   "metadata": {},
   "source": [
    "Python also includes a built-in module called *csv* which simplies the process of reading and writing CSV data.\n",
    "\n",
    "See https://docs.python.org/3/library/csv.html"
   ]
  },
  {
   "cell_type": "code",
   "execution_count": 13,
   "metadata": {},
   "outputs": [],
   "source": [
    "import csv"
   ]
  },
  {
   "cell_type": "code",
   "execution_count": 15,
   "metadata": {},
   "outputs": [],
   "source": [
    "# first download the file and save it\n",
    "url = \"http://mlg.ucd.ie/modules/COMP30760/goal_scorers.csv\"\n",
    "response = urllib.request.urlopen(url)\n",
    "data = response.read().decode()\n",
    "fout = open(\"goal_data.csv\", \"w\")\n",
    "fout.write(data)\n",
    "fout.close()"
   ]
  },
  {
   "cell_type": "code",
   "execution_count": 21,
   "metadata": {},
   "outputs": [
    {
     "name": "stdout",
     "output_type": "stream",
     "text": [
      "{'Player': 'Jamie Vardy', 'Club': 'Leicester City', 'Total Goals': '17', 'Home Goals': '8', 'Away Goals': '9'}\n",
      "{'Player': 'Sergio Aguero', 'Club': 'Manchester City', 'Total Goals': '16', 'Home Goals': '8', 'Away Goals': '8'}\n",
      "{'Player': 'P. Aubameyang', 'Club': 'Arsenal', 'Total Goals': '15', 'Home Goals': '6', 'Away Goals': '9'}\n",
      "{'Player': 'Danny Ings', 'Club': 'Southampton', 'Total Goals': '15', 'Home Goals': '8', 'Away Goals': '7'}\n",
      "{'Player': 'Marcus Rashford', 'Club': 'Manchester Utd', 'Total Goals': '14', 'Home Goals': '10', 'Away Goals': '4'}\n",
      "{'Player': 'Mohamed Salah', 'Club': 'Liverpool', 'Total Goals': '14', 'Home Goals': '12', 'Away Goals': '2'}\n",
      "{'Player': 'Tammy Abraham', 'Club': 'Chelsea', 'Total Goals': '13', 'Home Goals': '5', 'Away Goals': '8'}\n",
      "{'Player': 'Sadio Mané', 'Club': 'Liverpool', 'Total Goals': '12', 'Home Goals': '7', 'Away Goals': '5'}\n",
      "{'Player': 'Raúl Jiménez', 'Club': 'Wolverhampton', 'Total Goals': '11', 'Home Goals': '5', 'Away Goals': '6'}\n",
      "{'Player': 'Harry Kane', 'Club': 'Tottenham', 'Total Goals': '11', 'Home Goals': '6', 'Away Goals': '5'}\n",
      "{'Player': 'D. Calvert-Lewin', 'Club': 'Everton', 'Total Goals': '11', 'Home Goals': '6', 'Away Goals': '5'}\n",
      "{'Player': 'Raheem Sterling', 'Club': 'Manchester City', 'Total Goals': '11', 'Home Goals': '2', 'Away Goals': '9'}\n",
      "{'Player': 'Teemu Pukki', 'Club': 'Norwich City', 'Total Goals': '11', 'Home Goals': '7', 'Away Goals': '4'}\n",
      "{'Player': 'Chris Wood', 'Club': 'Burnley', 'Total Goals': '10', 'Home Goals': '6', 'Away Goals': '4'}\n",
      "{'Player': 'Son Heungmin', 'Club': 'Tottenham', 'Total Goals': '9', 'Home Goals': '6', 'Away Goals': '3'}\n",
      "{'Player': 'Anthony Martial', 'Club': 'Manchester Utd', 'Total Goals': '9', 'Home Goals': '4', 'Away Goals': '5'}\n",
      "{'Player': 'Richarlison', 'Club': 'Everton', 'Total Goals': '9', 'Home Goals': '5', 'Away Goals': '4'}\n",
      "{'Player': 'Kevin De Bruyne', 'Club': 'Manchester City', 'Total Goals': '9', 'Home Goals': '6', 'Away Goals': '3'}\n",
      "{'Player': 'Gabriel Jesus', 'Club': 'Manchester City', 'Total Goals': '9', 'Home Goals': '3', 'Away Goals': '6'}\n",
      "{'Player': 'Roberto Firmino', 'Club': 'Liverpool', 'Total Goals': '8', 'Home Goals': '0', 'Away Goals': '8'}\n",
      "{'Player': 'Dele Alli', 'Club': 'Tottenham', 'Total Goals': '7', 'Home Goals': '5', 'Away Goals': '2'}\n",
      "{'Player': 'Ayoze Perez', 'Club': 'Leicester City', 'Total Goals': '7', 'Home Goals': '2', 'Away Goals': '5'}\n",
      "{'Player': 'Jack Grealish', 'Club': 'Aston Villa', 'Total Goals': '7', 'Home Goals': '3', 'Away Goals': '4'}\n",
      "{'Player': 'Harry Wilson', 'Club': 'Bournemouth', 'Total Goals': '7', 'Home Goals': '2', 'Away Goals': '5'}\n",
      "{'Player': 'Callum Wilson', 'Club': 'Bournemouth', 'Total Goals': '7', 'Home Goals': '4', 'Away Goals': '3'}\n",
      "{'Player': 'Neal Maupay', 'Club': 'Brighton', 'Total Goals': '7', 'Home Goals': '4', 'Away Goals': '3'}\n",
      "{'Player': 'Riyad Mahrez', 'Club': 'Manchester City', 'Total Goals': '7', 'Home Goals': '3', 'Away Goals': '4'}\n",
      "{'Player': 'Alexandre Lacazette', 'Club': 'Arsenal', 'Total Goals': '6', 'Home Goals': '6', 'Away Goals': '0'}\n",
      "{'Player': 'James Maddison', 'Club': 'Leicester City', 'Total Goals': '6', 'Home Goals': '3', 'Away Goals': '3'}\n",
      "{'Player': 'Jordan Ayew', 'Club': 'Crystal Palace', 'Total Goals': '6', 'Home Goals': '3', 'Away Goals': '3'}\n",
      "Read 30 rows of data\n"
     ]
    }
   ],
   "source": [
    "# next, use the csv module to read each line (row) into a dictionary\n",
    "fin = open(\"goal_data.csv\", \"r\")\n",
    "reader = csv.DictReader(fin)\n",
    "rows = []\n",
    "for row in reader:\n",
    "    print(row)\n",
    "    rows.append(row)\n",
    "fin.close()\n",
    "print(\"Read %d rows of data\" % len(rows))"
   ]
  },
  {
   "cell_type": "markdown",
   "metadata": {},
   "source": [
    "We can also use the *csv* module to write data out to a CSV file. In the example below, we will write out the data which we collected above, row by row:"
   ]
  },
  {
   "cell_type": "code",
   "execution_count": 1,
   "metadata": {},
   "outputs": [
    {
     "ename": "NameError",
     "evalue": "name 'csv' is not defined",
     "output_type": "error",
     "traceback": [
      "\u001b[1;31m---------------------------------------------------------------------------\u001b[0m",
      "\u001b[1;31mNameError\u001b[0m                                 Traceback (most recent call last)",
      "Cell \u001b[1;32mIn[1], line 5\u001b[0m\n\u001b[0;32m      3\u001b[0m \u001b[38;5;66;03m# specify the ordered list of fields in our file\u001b[39;00m\n\u001b[0;32m      4\u001b[0m fields \u001b[38;5;241m=\u001b[39m [\u001b[38;5;124m\"\u001b[39m\u001b[38;5;124mPlayer\u001b[39m\u001b[38;5;124m\"\u001b[39m, \u001b[38;5;124m\"\u001b[39m\u001b[38;5;124mClub\u001b[39m\u001b[38;5;124m\"\u001b[39m, \u001b[38;5;124m\"\u001b[39m\u001b[38;5;124mTotal Goals\u001b[39m\u001b[38;5;124m\"\u001b[39m, \u001b[38;5;124m\"\u001b[39m\u001b[38;5;124mHome Goals\u001b[39m\u001b[38;5;124m\"\u001b[39m, \u001b[38;5;124m\"\u001b[39m\u001b[38;5;124mAway Goals\u001b[39m\u001b[38;5;124m\"\u001b[39m]\n\u001b[1;32m----> 5\u001b[0m writer \u001b[38;5;241m=\u001b[39m csv\u001b[38;5;241m.\u001b[39mDictWriter(fout, fieldnames\u001b[38;5;241m=\u001b[39mfields)\n\u001b[0;32m      6\u001b[0m \u001b[38;5;66;03m# write the header row\u001b[39;00m\n\u001b[0;32m      7\u001b[0m writer\u001b[38;5;241m.\u001b[39mwriteheader()\n",
      "\u001b[1;31mNameError\u001b[0m: name 'csv' is not defined"
     ]
    }
   ],
   "source": [
    "# open the output file for writing\n",
    "fout = open(\"output.csv\", \"w\")\n",
    "# specify the ordered list of fields in our file\n",
    "fields = [\"Player\", \"Club\", \"Total Goals\", \"Home Goals\", \"Away Goals\"]\n",
    "writer = csv.DictWriter(fout, fieldnames=fields)\n",
    "# write the header row\n",
    "writer.writeheader()\n",
    "# write each row of data\n",
    "for row in rows:\n",
    "    writer.writerow(row)\n",
    "fout.close()"
   ]
  },
  {
   "cell_type": "markdown",
   "metadata": {},
   "source": [
    "## Working with JSON"
   ]
  },
  {
   "cell_type": "markdown",
   "metadata": {},
   "source": [
    "[JSON](http://json.org/) is a lightweight format which is becoming increasingly popular for online data exchanged. Based originally on the JavaScript language and (relatively) easy for humans to read and write\n",
    "\n",
    "The built-in module *json* provides an easy way to encode and decode data in JSON in Python."
   ]
  },
  {
   "cell_type": "code",
   "execution_count": 25,
   "metadata": {},
   "outputs": [],
   "source": [
    "import json"
   ]
  },
  {
   "cell_type": "markdown",
   "metadata": {},
   "source": [
    "Let's try downloading and parsing a simple JSON file which contains information about a number of books, originally from librarything.com:"
   ]
  },
  {
   "cell_type": "code",
   "execution_count": 27,
   "metadata": {},
   "outputs": [],
   "source": [
    "url = \"http://mlg.ucd.ie/modules/COMP30760/books.json\"\n",
    "response = urllib.request.urlopen(url)\n",
    "raw_json = response.read().decode(\"utf-8\")"
   ]
  },
  {
   "cell_type": "code",
   "execution_count": 29,
   "metadata": {},
   "outputs": [
    {
     "name": "stdout",
     "output_type": "stream",
     "text": [
      "[{\n",
      "\t\"book_id\": \"13585350\",\n",
      "\t\"title\": \"The World Treasury of Science Fiction\",\n",
      "\t\"ISBN\": \"0316349410\",\n",
      "\t\"year\": 1989,\n",
      "\t\"rating\": 3,\n",
      "\t\"language\": \"eng\"\n",
      "}, {\n",
      "\t\"book_id\": \"124205572\",\n",
      "\t\"title\": \"The War of the Worlds\",\n",
      "\t\"ISBN\": \"1936594056\",\n",
      "\t\"year\": 2013,\n",
      "\t\"rating\": 4,\n",
      "\t\"language\": \"eng\"\n",
      "}, {\n",
      "\t\"book_id\": \"127360065\",\n",
      "\t\"title\": \"Under the Dome: A Novel\",\n",
      "\t\"ISBN\": \"1439149038\",\n",
      "\t\"year\": 2013,\n",
      "\t\"rating\": 2,\n",
      "\t\"language\": \"eng\"\n",
      "}, {\n",
      "\t\"book_id\": \"13908800\",\n",
      "\t\"title\": \"The Ultimate Hitchhiker's Guide to the Galaxy\",\n",
      "\t\"ISBN\": \"0345453743\",\n",
      "\t\"year\": 2002,\n",
      "\t\"rating\": 5,\n",
      "\t\"language\": \"eng\"\n",
      "}, {\n",
      "\t\"book_id\": \"123734934\",\n",
      "\t\"title\": \"The Time Traveler's Wife\",\n",
      "\t\"ISBN\": \"1476764832\",\n",
      "\t\"year\": 2014,\n",
      "\t\"rating\": 5,\n",
      "\t\"language\": \"eng\"\n",
      "}, {\n",
      "\t\"book_id\": \"13603020\",\n",
      "\t\"title\": \"Salem's Lot\",\n",
      "\t\"ISBN\": \"0451098277\",\n",
      "\t\"year\": 1976,\n",
      "\t\"rating\": 3,\n",
      "\t\"language\": \"eng\"\n",
      "}, {\n",
      "\t\"book_id\": \"124173974\",\n",
      "\t\"title\": \"Republic\",\n",
      "\t\"ISBN\": \"039395501X\",\n",
      "\t\"year\": 1985,\n",
      "\t\"rating\": 3,\n",
      "\t\"language\": \"eng\"\n",
      "}, {\n",
      "\t\"book_id\": \"123102859\",\n",
      "\t\"title\": \"The Road\",\n",
      "\t\"ISBN\": \"0307387895\",\n",
      "\t\"year\": 2006,\n",
      "\t\"rating\": 5,\n",
      "\t\"language\": \"eng\"\n",
      "}]\n",
      "\n"
     ]
    }
   ],
   "source": [
    "print(raw_json)"
   ]
  },
  {
   "cell_type": "markdown",
   "metadata": {},
   "source": [
    "We can now parse the JSON, converting it from a string into a useful Python data structure:"
   ]
  },
  {
   "cell_type": "code",
   "execution_count": 31,
   "metadata": {},
   "outputs": [
    {
     "name": "stdout",
     "output_type": "stream",
     "text": [
      "{'book_id': '13585350', 'title': 'The World Treasury of Science Fiction', 'ISBN': '0316349410', 'year': 1989, 'rating': 3, 'language': 'eng'}\n",
      "{'book_id': '124205572', 'title': 'The War of the Worlds', 'ISBN': '1936594056', 'year': 2013, 'rating': 4, 'language': 'eng'}\n",
      "{'book_id': '127360065', 'title': 'Under the Dome: A Novel', 'ISBN': '1439149038', 'year': 2013, 'rating': 2, 'language': 'eng'}\n",
      "{'book_id': '13908800', 'title': \"The Ultimate Hitchhiker's Guide to the Galaxy\", 'ISBN': '0345453743', 'year': 2002, 'rating': 5, 'language': 'eng'}\n",
      "{'book_id': '123734934', 'title': \"The Time Traveler's Wife\", 'ISBN': '1476764832', 'year': 2014, 'rating': 5, 'language': 'eng'}\n",
      "{'book_id': '13603020', 'title': \"Salem's Lot\", 'ISBN': '0451098277', 'year': 1976, 'rating': 3, 'language': 'eng'}\n",
      "{'book_id': '124173974', 'title': 'Republic', 'ISBN': '039395501X', 'year': 1985, 'rating': 3, 'language': 'eng'}\n",
      "{'book_id': '123102859', 'title': 'The Road', 'ISBN': '0307387895', 'year': 2006, 'rating': 5, 'language': 'eng'}\n"
     ]
    }
   ],
   "source": [
    "data = json.loads(raw_json)\n",
    "for book in data:\n",
    "    print(book)"
   ]
  },
  {
   "cell_type": "markdown",
   "metadata": {},
   "source": [
    "We can now iterate through the books in the list and extract the relevant information that we require."
   ]
  },
  {
   "cell_type": "code",
   "execution_count": 33,
   "metadata": {},
   "outputs": [
    {
     "name": "stdout",
     "output_type": "stream",
     "text": [
      "The World Treasury of Science Fiction = 1989\n",
      "The War of the Worlds = 2013\n",
      "Under the Dome: A Novel = 2013\n",
      "The Ultimate Hitchhiker's Guide to the Galaxy = 2002\n",
      "The Time Traveler's Wife = 2014\n",
      "Salem's Lot = 1976\n",
      "Republic = 1985\n",
      "The Road = 2006\n"
     ]
    }
   ],
   "source": [
    "for book in data:\n",
    "    print( \"%s = %d\" % ( book[\"title\"], book[\"year\"] ) )"
   ]
  },
  {
   "cell_type": "markdown",
   "metadata": {},
   "source": [
    "## Working with XML"
   ]
  },
  {
   "cell_type": "markdown",
   "metadata": {
    "collapsed": true,
    "jupyter": {
     "outputs_hidden": true
    }
   },
   "source": [
    "Extensible Markup Language (XML) is a markup language that defines a set of rules for encoding documents in a format which is both human-readable and machine-readable. XML is a widely-adopted format. Python includes several built-in modules for parsing XML data."
   ]
  },
  {
   "cell_type": "markdown",
   "metadata": {},
   "source": [
    "The *xml.etree.ElementTree* module can be used to extract data from a simple XML file based on its tree structure. "
   ]
  },
  {
   "cell_type": "code",
   "execution_count": 9,
   "metadata": {},
   "outputs": [
    {
     "name": "stdout",
     "output_type": "stream",
     "text": [
      "<?xml version=\"1.0\" encoding=\"UTF-8\"?>\n",
      "<booklist>\n",
      "   <book id=\"13585350\">\n",
      "      <title>The World Treasury of Science Fiction</title>\n",
      "      <ISBN>0316349410</ISBN>\n",
      "      <year>1989</year>\n",
      "      <rating>3</rating>\n",
      "      <language>eng</language>\n",
      "   </book>\n",
      "   <book id=\"124205572\">\n",
      "      <title>The War of the Worlds</title>\n",
      "      <ISBN>1936594056</ISBN>\n",
      "      <year>2013</year>\n",
      "      <rating>4</rating>\n",
      "      <language>eng</language>\n",
      "   </book>\n",
      "   <book id=\"127360065\">\n",
      "      <title>Under the Dome: A Novel</title>\n",
      "      <ISBN>1439149038</ISBN>\n",
      "      <year>2013</year>\n",
      "      <rating>2</rating>\n",
      "      <language>eng</language>\n",
      "   </book>\n",
      "   <book id=\"13908800\">\n",
      "      <title>The Ultimate Hitchhiker's Guide to the Galaxy</title>\n",
      "      <ISBN>0345453743</ISBN>\n",
      "      <year>2002</year>\n",
      "      <rating>5</rating>\n",
      "      <language>eng</language>\n",
      "   </book>\n",
      "   <book id=\"123734934\">\n",
      "      <title>The Time Traveler's Wife</title>\n",
      "      <ISBN>1476764832</ISBN>\n",
      "      <year>2014</year>\n",
      "      <rating>5</rating>\n",
      "      <language>eng</language>\n",
      "   </book>\n",
      "   <book id=\"13603020\">\n",
      "      <title>Salem's Lot</title>\n",
      "      <ISBN>0451098277</ISBN>\n",
      "      <year>1976</year>\n",
      "      <rating>3</rating>\n",
      "      <language>eng</language>\n",
      "   </book>\n",
      "   <book id=\"124173974\">\n",
      "      <title>Republic</title>\n",
      "      <ISBN>039395501X</ISBN>\n",
      "      <year>1985</year>\n",
      "      <rating>3</rating>\n",
      "      <language>eng</language>\n",
      "   </book>\n",
      "   <book id=\"123102859\">\n",
      "      <title>The Road</title>\n",
      "      <ISBN>0307387895</ISBN>\n",
      "      <year>2006</year>\n",
      "      <rating>5</rating>\n",
      "      <language>eng</language>\n",
      "   </book>\n",
      "</booklist>\n",
      "\n"
     ]
    }
   ],
   "source": [
    "# download the content\n",
    "url = \"http://mlg.ucd.ie/modules/COMP30760/books.xml\"\n",
    "response = urllib.request.urlopen(url)\n",
    "raw_xml = response.read().decode()\n",
    "print(raw_xml)"
   ]
  },
  {
   "cell_type": "markdown",
   "metadata": {},
   "source": [
    "We can use the *xml.etree.ElementTree.fromstring()* function to parse content from a string containing XML data."
   ]
  },
  {
   "cell_type": "code",
   "execution_count": 11,
   "metadata": {},
   "outputs": [
    {
     "name": "stdout",
     "output_type": "stream",
     "text": [
      "<Element 'booklist' at 0x000002D464C944A0>\n"
     ]
    }
   ],
   "source": [
    "import xml.etree.ElementTree\n",
    "tree = xml.etree.ElementTree.fromstring(raw_xml)\n",
    "print(tree)"
   ]
  },
  {
   "cell_type": "markdown",
   "metadata": {},
   "source": [
    "An XML tree has a root node (i.e. the top level of the document), with child nodes at lower levels. We can iterate over these:"
   ]
  },
  {
   "cell_type": "code",
   "execution_count": 41,
   "metadata": {},
   "outputs": [
    {
     "name": "stdout",
     "output_type": "stream",
     "text": [
      "book {'id': '13585350'}\n",
      "book {'id': '124205572'}\n",
      "book {'id': '127360065'}\n",
      "book {'id': '13908800'}\n",
      "book {'id': '123734934'}\n",
      "book {'id': '13603020'}\n",
      "book {'id': '124173974'}\n",
      "book {'id': '123102859'}\n"
     ]
    }
   ],
   "source": [
    "for child in tree:\n",
    "    # get the name of the tag, along with any XML attributes which the tag has\n",
    "    print( child.tag, child.attrib )"
   ]
  },
  {
   "cell_type": "markdown",
   "metadata": {},
   "source": [
    "We can also query to find tags with specific names, such as 'book' and then in turn find child nodes of that tag with a specific name."
   ]
  },
  {
   "cell_type": "code",
   "execution_count": 15,
   "metadata": {},
   "outputs": [
    {
     "name": "stdout",
     "output_type": "stream",
     "text": [
      "<class 'str'>\n",
      "<class 'str'>\n",
      "<class 'str'>\n",
      "<class 'str'>\n",
      "<class 'str'>\n",
      "<class 'str'>\n",
      "<class 'str'>\n",
      "<class 'str'>\n"
     ]
    }
   ],
   "source": [
    "for book in tree.findall(\"book\"):\n",
    "    # get the text inside a <title> tag, contained within a <book> tag\n",
    "    title = book.find(\"title\").text\n",
    "    print(type(title))"
   ]
  },
  {
   "cell_type": "markdown",
   "metadata": {},
   "source": [
    "## Working with APIs\n",
    "\n",
    "Instead of manually scraping HTML data, some web sites provide a convenient \"official\" way of retrieving their data via a Web API."
   ]
  },
  {
   "cell_type": "markdown",
   "metadata": {},
   "source": [
    "### Example - Wikipedia\n",
    "\n",
    "As a simple example of using an online API, we will use the Wikipedia web API to perform a search for Wikipedia pages with titles which match a particular query keyword.\n",
    "\n",
    "The endpoint for this API is given below. The complete documentation for using this endpoint is at [online here](https://en.wikipedia.org/w/api.php):"
   ]
  },
  {
   "cell_type": "code",
   "execution_count": 45,
   "metadata": {},
   "outputs": [],
   "source": [
    "end_point = \"https://en.wikipedia.org/w/api.php\""
   ]
  },
  {
   "cell_type": "markdown",
   "metadata": {},
   "source": [
    "We build a URL that includes the endpoint and the query parameters which specify what we are looking for:"
   ]
  },
  {
   "cell_type": "code",
   "execution_count": 47,
   "metadata": {},
   "outputs": [
    {
     "name": "stdout",
     "output_type": "stream",
     "text": [
      "https://en.wikipedia.org/w/api.php?action=query&list=search&format=json&srsearch=Dublin\n"
     ]
    }
   ],
   "source": [
    "# the keyword in page titles that we are searching for\n",
    "keyword = \"Dublin\"\n",
    "url = \"%s?action=query&list=search&format=json&srsearch=%s\" % (end_point, keyword)\n",
    "print(url)"
   ]
  },
  {
   "cell_type": "markdown",
   "metadata": {},
   "source": [
    "We send our request to the API using a standard HTTP request:"
   ]
  },
  {
   "cell_type": "code",
   "execution_count": 49,
   "metadata": {},
   "outputs": [],
   "source": [
    "response = urllib.request.urlopen(url)\n",
    "raw_json = response.read().decode(\"utf-8\")"
   ]
  },
  {
   "cell_type": "markdown",
   "metadata": {},
   "source": [
    "Once we have downloaded the JSON data into a string, we parse it using the *loads()* function, which will convert it into an actual Python dictionary that we can work with."
   ]
  },
  {
   "cell_type": "code",
   "execution_count": 51,
   "metadata": {},
   "outputs": [
    {
     "data": {
      "text/plain": [
       "{'batchcomplete': '',\n",
       " 'continue': {'sroffset': 10, 'continue': '-||'},\n",
       " 'query': {'searchinfo': {'totalhits': 81729},\n",
       "  'search': [{'ns': 0,\n",
       "    'title': 'Dublin',\n",
       "    'pageid': 8504,\n",
       "    'size': 177642,\n",
       "    'wordcount': 16252,\n",
       "    'snippet': '<span class=\"searchmatch\">Dublin</span> (/ˈdʌblɪn/ ; Irish: Baile Átha Cliath, pronounced [ˈbˠalʲə aːhə ˈclʲiə] or [ˌbʲlʲaː ˈclʲiə]) is the capital of Ireland. On a bay at the mouth of',\n",
       "    'timestamp': '2024-09-18T04:35:54Z'},\n",
       "   {'ns': 0,\n",
       "    'title': 'List of Dublin postal districts',\n",
       "    'pageid': 961703,\n",
       "    'size': 22595,\n",
       "    'wordcount': 1946,\n",
       "    'snippet': '<span class=\"searchmatch\">Dublin</span> postal districts have been used by Ireland\\'s postal service, known as An Post, to sort mail in <span class=\"searchmatch\">Dublin</span>. The system is similar to that used in cities',\n",
       "    'timestamp': '2024-09-25T07:30:50Z'},\n",
       "   {'ns': 0,\n",
       "    'title': 'County Dublin',\n",
       "    'pageid': 6514,\n",
       "    'size': 184379,\n",
       "    'wordcount': 17260,\n",
       "    'snippet': 'Judicial County of <span class=\"searchmatch\">Dublin</span>, including <span class=\"searchmatch\">Dublin</span> Circuit Court, the <span class=\"searchmatch\">Dublin</span> County Registrar and the <span class=\"searchmatch\">Dublin</span> Metropolitan District Court. <span class=\"searchmatch\">Dublin</span> also sees law enforcement',\n",
       "    'timestamp': '2024-10-02T21:30:57Z'},\n",
       "   {'ns': 0,\n",
       "    'title': 'Dublin City',\n",
       "    'pageid': 243621,\n",
       "    'size': 411,\n",
       "    'wordcount': 81,\n",
       "    'snippet': '<span class=\"searchmatch\">Dublin</span> City may refer to: <span class=\"searchmatch\">Dublin</span>, the capital of the Republic of Ireland <span class=\"searchmatch\">Dublin</span> City Council <span class=\"searchmatch\">Dublin</span> City F.C., association football club in Northside',\n",
       "    'timestamp': '2022-02-09T22:56:38Z'},\n",
       "   {'ns': 0,\n",
       "    'title': 'Kingdom of Dublin',\n",
       "    'pageid': 1450475,\n",
       "    'size': 22864,\n",
       "    'wordcount': 674,\n",
       "    'snippet': 'The Kingdom of <span class=\"searchmatch\">Dublin</span> (Old Norse: Dyflin) was a Norse kingdom in Ireland that lasted from roughly 853 AD to 1170 AD. It was the first and longest-lasting',\n",
       "    'timestamp': '2024-09-21T19:27:14Z'},\n",
       "   {'ns': 0,\n",
       "    'title': 'In Dublin',\n",
       "    'pageid': 75810203,\n",
       "    'size': 209,\n",
       "    'wordcount': 56,\n",
       "    'snippet': 'In <span class=\"searchmatch\">Dublin</span> may refer to: In <span class=\"searchmatch\">Dublin</span> (album), a 1975 album by Alan Stivell In <span class=\"searchmatch\">Dublin</span> (magazine), a magazine in <span class=\"searchmatch\">Dublin</span> established in 1976 This disambiguation',\n",
       "    'timestamp': '2024-01-15T20:13:56Z'},\n",
       "   {'ns': 0,\n",
       "    'title': 'Dublin Township',\n",
       "    'pageid': 6690080,\n",
       "    'size': 498,\n",
       "    'wordcount': 83,\n",
       "    'snippet': '<span class=\"searchmatch\">Dublin</span> Township may refer to several places in the United States: <span class=\"searchmatch\">Dublin</span> Township, Swift County, Minnesota <span class=\"searchmatch\">Dublin</span> Township, Mercer County, Ohio Dublin',\n",
       "    'timestamp': '2023-12-13T18:01:34Z'},\n",
       "   {'ns': 0,\n",
       "    'title': 'Dublin Regulation',\n",
       "    'pageid': 1529390,\n",
       "    'size': 33642,\n",
       "    'wordcount': 3882,\n",
       "    'snippet': 'The <span class=\"searchmatch\">Dublin</span> Regulation (Regulation No. 604/2013; sometimes the <span class=\"searchmatch\">Dublin</span> III Regulation; previously the <span class=\"searchmatch\">Dublin</span> II Regulation and <span class=\"searchmatch\">Dublin</span> Convention) is a Regulation',\n",
       "    'timestamp': '2024-09-29T02:48:28Z'},\n",
       "   {'ns': 0,\n",
       "    'title': 'Dublin (disambiguation)',\n",
       "    'pageid': 286660,\n",
       "    'size': 2429,\n",
       "    'wordcount': 296,\n",
       "    'snippet': 'California Dublin, Florida <span class=\"searchmatch\">Dublin</span>, Georgia <span class=\"searchmatch\">Dublin</span>, Indiana <span class=\"searchmatch\">Dublin</span>, Kentucky <span class=\"searchmatch\">Dublin</span>, Maryland <span class=\"searchmatch\">Dublin</span>, Missouri <span class=\"searchmatch\">Dublin</span>, New Hampshire <span class=\"searchmatch\">Dublin</span>, Paterson, New Jersey',\n",
       "    'timestamp': '2024-05-15T22:11:12Z'},\n",
       "   {'ns': 0,\n",
       "    'title': 'Dublin Airport',\n",
       "    'pageid': 293794,\n",
       "    'size': 132826,\n",
       "    'wordcount': 8942,\n",
       "    'snippet': '<span class=\"searchmatch\">Dublin</span> Airport (Irish: Aerfort Bhaile Átha Cliath) (IATA: DUB, ICAO: EIDW) is an international airport serving <span class=\"searchmatch\">Dublin</span>, Ireland. It is operated by DAA',\n",
       "    'timestamp': '2024-10-04T13:54:43Z'}]}}"
      ]
     },
     "execution_count": 51,
     "metadata": {},
     "output_type": "execute_result"
    }
   ],
   "source": [
    "response_data = json.loads(raw_json)\n",
    "response_data"
   ]
  },
  {
   "cell_type": "markdown",
   "metadata": {},
   "source": [
    "We can now process the results sent back by the API. For instance, we could print the top results return for our keyword query: "
   ]
  },
  {
   "cell_type": "code",
   "execution_count": 53,
   "metadata": {},
   "outputs": [
    {
     "name": "stdout",
     "output_type": "stream",
     "text": [
      "Dublin\n",
      "List of Dublin postal districts\n",
      "County Dublin\n",
      "Dublin City\n",
      "Kingdom of Dublin\n",
      "In Dublin\n",
      "Dublin Township\n",
      "Dublin Regulation\n",
      "Dublin (disambiguation)\n",
      "Dublin Airport\n"
     ]
    }
   ],
   "source": [
    "for result in response_data[\"query\"][\"search\"]:\n",
    "    print(result[\"title\"])"
   ]
  },
  {
   "cell_type": "markdown",
   "metadata": {},
   "source": [
    "### Example - Currency Exchange Rates"
   ]
  },
  {
   "cell_type": "markdown",
   "metadata": {},
   "source": [
    "In the next example, we will use the *frankfurter.app* (formerly *Fixer.io*) API to get currency exchange rate information: https://frankfurter.app"
   ]
  },
  {
   "cell_type": "markdown",
   "metadata": {},
   "source": [
    "To retrieve all rates in EUROs, we retrieve data from the API end point: https://api.frankfurter.app/latest - we do not need to specify any parameters in the URL in this case. Here we will use the *urlib.request* module in a slightly different way, using the *build_opener()* function"
   ]
  },
  {
   "cell_type": "code",
   "execution_count": 55,
   "metadata": {},
   "outputs": [
    {
     "name": "stdout",
     "output_type": "stream",
     "text": [
      "{\"amount\":1.0,\"base\":\"EUR\",\"date\":\"2024-10-04\",\"rates\":{\"AUD\":1.6121,\"BGN\":1.9558,\"BRL\":6.057,\"CAD\":1.4952,\"CHF\":0.9394,\"CNY\":7.7407,\"CZK\":25.347,\"DKK\":7.4579,\"GBP\":0.83735,\"HKD\":8.5629,\"HUF\":401.33,\"IDR\":17165,\"ILS\":4.2022,\"INR\":92.61,\"ISK\":149.1,\"JPY\":161.69,\"KRW\":1478.24,\"MXN\":21.269,\"MYR\":4.6542,\"NOK\":11.6845,\"NZD\":1.7779,\"PHP\":62.126,\"PLN\":4.3145,\"RON\":4.9769,\"SEK\":11.3375,\"SGD\":1.4314,\"THB\":36.484,\"TRY\":37.776,\"USD\":1.1029,\"ZAR\":19.2809}}\n"
     ]
    }
   ],
   "source": [
    "end_point = \"https://api.frankfurter.app/latest\"\n",
    "# note that we need to add a special header to appear to be a proper web browser\n",
    "opener = urllib.request.build_opener()\n",
    "opener.addheaders = [('User-agent', 'Mozilla/5.0')]\n",
    "# retrieve the data from the API endpoint\n",
    "response = opener.open(end_point)\n",
    "raw_json = response.read().decode(\"utf-8\")\n",
    "print(raw_json)"
   ]
  },
  {
   "cell_type": "markdown",
   "metadata": {},
   "source": [
    "Parse the JSON data"
   ]
  },
  {
   "cell_type": "code",
   "execution_count": 57,
   "metadata": {},
   "outputs": [
    {
     "data": {
      "text/plain": [
       "{'amount': 1.0,\n",
       " 'base': 'EUR',\n",
       " 'date': '2024-10-04',\n",
       " 'rates': {'AUD': 1.6121,\n",
       "  'BGN': 1.9558,\n",
       "  'BRL': 6.057,\n",
       "  'CAD': 1.4952,\n",
       "  'CHF': 0.9394,\n",
       "  'CNY': 7.7407,\n",
       "  'CZK': 25.347,\n",
       "  'DKK': 7.4579,\n",
       "  'GBP': 0.83735,\n",
       "  'HKD': 8.5629,\n",
       "  'HUF': 401.33,\n",
       "  'IDR': 17165,\n",
       "  'ILS': 4.2022,\n",
       "  'INR': 92.61,\n",
       "  'ISK': 149.1,\n",
       "  'JPY': 161.69,\n",
       "  'KRW': 1478.24,\n",
       "  'MXN': 21.269,\n",
       "  'MYR': 4.6542,\n",
       "  'NOK': 11.6845,\n",
       "  'NZD': 1.7779,\n",
       "  'PHP': 62.126,\n",
       "  'PLN': 4.3145,\n",
       "  'RON': 4.9769,\n",
       "  'SEK': 11.3375,\n",
       "  'SGD': 1.4314,\n",
       "  'THB': 36.484,\n",
       "  'TRY': 37.776,\n",
       "  'USD': 1.1029,\n",
       "  'ZAR': 19.2809}}"
      ]
     },
     "execution_count": 57,
     "metadata": {},
     "output_type": "execute_result"
    }
   ],
   "source": [
    "data = json.loads(raw_json)\n",
    "# list all the rates\n",
    "data"
   ]
  },
  {
   "cell_type": "code",
   "execution_count": 59,
   "metadata": {},
   "outputs": [
    {
     "data": {
      "text/plain": [
       "0.9394"
      ]
     },
     "execution_count": 59,
     "metadata": {},
     "output_type": "execute_result"
    }
   ],
   "source": [
    "# get a specific rate\n",
    "data[\"rates\"][\"CHF\"]"
   ]
  },
  {
   "cell_type": "markdown",
   "metadata": {},
   "source": [
    "We can change the URL to get rates for a different currency, such as US Dollars (USD):"
   ]
  },
  {
   "cell_type": "code",
   "execution_count": 65,
   "metadata": {},
   "outputs": [
    {
     "name": "stdout",
     "output_type": "stream",
     "text": [
      "{'amount': 1.0, 'base': 'EUR', 'date': '2024-10-04', 'rates': {'AUD': 1.6121, 'BGN': 1.9558, 'BRL': 6.057, 'CAD': 1.4952, 'CHF': 0.9394, 'CNY': 7.7407, 'CZK': 25.347, 'DKK': 7.4579, 'GBP': 0.83735, 'HKD': 8.5629, 'HUF': 401.33, 'IDR': 17165, 'ILS': 4.2022, 'INR': 92.61, 'ISK': 149.1, 'JPY': 161.69, 'KRW': 1478.24, 'MXN': 21.269, 'MYR': 4.6542, 'NOK': 11.6845, 'NZD': 1.7779, 'PHP': 62.126, 'PLN': 4.3145, 'RON': 4.9769, 'SEK': 11.3375, 'SGD': 1.4314, 'THB': 36.484, 'TRY': 37.776, 'USD': 1.1029, 'ZAR': 19.2809}}\n"
     ]
    },
    {
     "data": {
      "text/plain": [
       "{'AUD': 1.6121,\n",
       " 'BGN': 1.9558,\n",
       " 'BRL': 6.057,\n",
       " 'CAD': 1.4952,\n",
       " 'CHF': 0.9394,\n",
       " 'CNY': 7.7407,\n",
       " 'CZK': 25.347,\n",
       " 'DKK': 7.4579,\n",
       " 'GBP': 0.83735,\n",
       " 'HKD': 8.5629,\n",
       " 'HUF': 401.33,\n",
       " 'IDR': 17165,\n",
       " 'ILS': 4.2022,\n",
       " 'INR': 92.61,\n",
       " 'ISK': 149.1,\n",
       " 'JPY': 161.69,\n",
       " 'KRW': 1478.24,\n",
       " 'MXN': 21.269,\n",
       " 'MYR': 4.6542,\n",
       " 'NOK': 11.6845,\n",
       " 'NZD': 1.7779,\n",
       " 'PHP': 62.126,\n",
       " 'PLN': 4.3145,\n",
       " 'RON': 4.9769,\n",
       " 'SEK': 11.3375,\n",
       " 'SGD': 1.4314,\n",
       " 'THB': 36.484,\n",
       " 'TRY': 37.776,\n",
       " 'USD': 1.1029,\n",
       " 'ZAR': 19.2809}"
      ]
     },
     "execution_count": 65,
     "metadata": {},
     "output_type": "execute_result"
    }
   ],
   "source": [
    "# create a URL based on the end point, with extra parameters\n",
    "url = \"%s?base=USD\" % end_point\n",
    "# note that we need to add a special header to appear to be a proper web browser\n",
    "opener = urllib.request.build_opener()\n",
    "opener.addheaders = [('User-agent', 'Mozilla/5.0')]\n",
    "# retrieve the data from the API endpoint\n",
    "response = opener.open(end_point)\n",
    "# parse the JSON\n",
    "data = json.loads(raw_json)\n",
    "print(data)\n",
    "# display the rates data for US dollars\n",
    "data[\"rates\"]"
   ]
  },
  {
   "cell_type": "code",
   "execution_count": null,
   "metadata": {},
   "outputs": [],
   "source": []
  }
 ],
 "metadata": {
  "anaconda-cloud": {},
  "kernelspec": {
   "display_name": "Python 3 (ipykernel)",
   "language": "python",
   "name": "python3"
  },
  "language_info": {
   "codemirror_mode": {
    "name": "ipython",
    "version": 3
   },
   "file_extension": ".py",
   "mimetype": "text/x-python",
   "name": "python",
   "nbconvert_exporter": "python",
   "pygments_lexer": "ipython3",
   "version": "3.12.4"
  }
 },
 "nbformat": 4,
 "nbformat_minor": 4
}
