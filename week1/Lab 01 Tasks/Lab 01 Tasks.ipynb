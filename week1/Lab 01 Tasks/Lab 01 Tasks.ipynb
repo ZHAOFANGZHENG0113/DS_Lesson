{
 "cells": [
  {
   "cell_type": "markdown",
   "metadata": {},
   "source": [
    "# Lab 1 Tasks\n",
    "\n",
    "The code below creates two Python lists -- one list with English words, and a corresponding list with French words."
   ]
  },
  {
   "cell_type": "code",
   "execution_count": 5,
   "metadata": {},
   "outputs": [],
   "source": [
    "english = [\"hello\", \"cat\", \"dog\", \"yes\", \"tomorrow\", \"yesterday\", \"fish\", \n",
    "          \"difficult\", \"easy\", \"bad\", \"no\", \"tuesday\", \"january\", \"world\"]"
   ]
  },
  {
   "cell_type": "code",
   "execution_count": 7,
   "metadata": {},
   "outputs": [],
   "source": [
    "french = [\"bonjour\", \"chat\", \"chien\", \"oui\", \"demain\", \"hier\", \"poisson\",\n",
    "          \"difficile\", \"facile\", \"mauvais\", \"non\", \"mardi\", \"janvier\", \"monde\"]"
   ]
  },
  {
   "cell_type": "markdown",
   "metadata": {},
   "source": [
    "## Task 1\n",
    "\n",
    "Confirm that both lists contain an equal number of values."
   ]
  },
  {
   "cell_type": "code",
   "execution_count": 9,
   "metadata": {},
   "outputs": [
    {
     "data": {
      "text/plain": [
       "True"
      ]
     },
     "execution_count": 9,
     "metadata": {},
     "output_type": "execute_result"
    }
   ],
   "source": [
    "len(english)==len(french)"
   ]
  },
  {
   "cell_type": "markdown",
   "metadata": {},
   "source": [
    "## Task 2\n",
    "\n",
    "Create a Python dictionary, which maps English words to French words, using the two lists above. "
   ]
  },
  {
   "cell_type": "code",
   "execution_count": 78,
   "metadata": {},
   "outputs": [
    {
     "name": "stdout",
     "output_type": "stream",
     "text": [
      "{'hello': 'bonjour', 'cat': 'chat', 'dog': 'chien', 'yes': 'oui', 'tomorrow': 'demain', 'yesterday': 'hier', 'fish': 'poisson', 'difficult': 'difficile', 'easy': 'facile', 'bad': 'mauvais', 'no': 'non', 'tuesday': 'mardi', 'january': 'janvier', 'world': 'monde'} <class 'dict'>\n"
     ]
    }
   ],
   "source": [
    "translate={}\n",
    "for pos, value in enumerate(english):\n",
    "    translate[english[pos]]=french[pos]\n",
    "print(translate, type(translate))"
   ]
  },
  {
   "cell_type": "markdown",
   "metadata": {},
   "source": [
    "## Task 3\n",
    "\n",
    "Remove all key-value pairs from the dictionary above, where the keys (i.e. the English words) contain less than 4 characters."
   ]
  },
  {
   "cell_type": "code",
   "execution_count": 80,
   "metadata": {},
   "outputs": [
    {
     "name": "stdout",
     "output_type": "stream",
     "text": [
      "9\n"
     ]
    }
   ],
   "source": [
    "for key in english:\n",
    "    if len(key) < 4: \n",
    "        del translate[key]\n",
    "print(len(translate))"
   ]
  },
  {
   "cell_type": "markdown",
   "metadata": {},
   "source": [
    "## Task 4\n",
    "\n",
    "For the remaining words, print an alphabetically-ordered list of the English words and their corresponding French translations."
   ]
  },
  {
   "cell_type": "code",
   "execution_count": 150,
   "metadata": {},
   "outputs": [
    {
     "name": "stdout",
     "output_type": "stream",
     "text": [
      "['difficult', 'easy', 'fish', 'hello', 'january', 'tomorrow', 'tuesday', 'world', 'yesterday']\n",
      "['difficile', 'facile', 'poisson', 'bonjour', 'janvier', 'demain', 'mardi', 'monde', 'hier']\n"
     ]
    }
   ],
   "source": [
    "list_e=list(translate.keys())\n",
    "list_e.sort()\n",
    "list_f=[]\n",
    "print(list_e)\n",
    "for pos, value in enumerate(list_e):\n",
    "    list_f.append(translate[value])\n",
    "print(list_f)"
   ]
  },
  {
   "cell_type": "markdown",
   "metadata": {},
   "source": [
    "## Task 5\n",
    "\n",
    "Write a new function named *translate()* which accepts 3 parameters: a translation dictionary, a word to translate, and a default word. If the word is in the dictionary, the function should return the translated word. Otherwise, it should return the default word."
   ]
  },
  {
   "cell_type": "code",
   "execution_count": 164,
   "metadata": {},
   "outputs": [
    {
     "data": {
      "text/plain": [
       "'bonjour'"
      ]
     },
     "execution_count": 164,
     "metadata": {},
     "output_type": "execute_result"
    }
   ],
   "source": [
    "def translator (dct, transWord, defaultWord):\n",
    "    if transWord in dct:\n",
    "        return translate[transWord]\n",
    "    else : return defaultWord\n",
    "\n",
    "\n",
    "translator(translate, \"hello\", \"unknown\")"
   ]
  },
  {
   "cell_type": "code",
   "execution_count": 166,
   "metadata": {},
   "outputs": [
    {
     "data": {
      "text/plain": [
       "'unknown'"
      ]
     },
     "execution_count": 166,
     "metadata": {},
     "output_type": "execute_result"
    }
   ],
   "source": [
    "translator(translate, \"because\", \"unknown\")"
   ]
  },
  {
   "cell_type": "markdown",
   "metadata": {},
   "source": [
    "## Task 6\n",
    "\n",
    "Write a new function named *reverse_translate()* which accepts 2 parameters: a translation dictionary and a word in the target translation language. If the translation is found, it returns the original word; otherwise, it returns a default message indicating that the translation is not available"
   ]
  },
  {
   "cell_type": "code",
   "execution_count": 168,
   "metadata": {},
   "outputs": [
    {
     "data": {
      "text/plain": [
       "'hello'"
      ]
     },
     "execution_count": 168,
     "metadata": {},
     "output_type": "execute_result"
    }
   ],
   "source": [
    "def reverse_translate(dic, transWord):\n",
    "    if transWord in dic:\n",
    "        return transWord\n",
    "    return print(\"translation is not available\")\n",
    "reverse_translate(translate, \"hello\")"
   ]
  },
  {
   "cell_type": "code",
   "execution_count": 170,
   "metadata": {},
   "outputs": [
    {
     "name": "stdout",
     "output_type": "stream",
     "text": [
      "translation is not available\n"
     ]
    }
   ],
   "source": [
    "reverse_translate(translate, \"because\")"
   ]
  },
  {
   "cell_type": "code",
   "execution_count": null,
   "metadata": {},
   "outputs": [],
   "source": []
  }
 ],
 "metadata": {
  "kernelspec": {
   "display_name": "Python 3 (ipykernel)",
   "language": "python",
   "name": "python3"
  },
  "language_info": {
   "codemirror_mode": {
    "name": "ipython",
    "version": 3
   },
   "file_extension": ".py",
   "mimetype": "text/x-python",
   "name": "python",
   "nbconvert_exporter": "python",
   "pygments_lexer": "ipython3",
   "version": "3.12.4"
  }
 },
 "nbformat": 4,
 "nbformat_minor": 4
}
