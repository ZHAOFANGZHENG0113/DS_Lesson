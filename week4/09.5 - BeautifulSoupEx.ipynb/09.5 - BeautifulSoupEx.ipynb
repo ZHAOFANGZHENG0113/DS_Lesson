{
 "cells": [
  {
   "cell_type": "markdown",
   "id": "9b7c4a39",
   "metadata": {},
   "source": [
    "## Simple Beautiful Soup Example\n",
    "1. Load the html into a string"
   ]
  },
  {
   "cell_type": "code",
   "execution_count": 3,
   "id": "746d5828",
   "metadata": {},
   "outputs": [],
   "source": [
    "f = open(\"UCD.html\", encoding=\"utf8\")    \n",
    "html = f.read()\n",
    "f.close()"
   ]
  },
  {
   "cell_type": "code",
   "execution_count": 5,
   "id": "ca9fc073",
   "metadata": {},
   "outputs": [
    {
     "data": {
      "text/plain": [
       "str"
      ]
     },
     "execution_count": 5,
     "metadata": {},
     "output_type": "execute_result"
    }
   ],
   "source": [
    "type(html)"
   ]
  },
  {
   "cell_type": "markdown",
   "id": "5d9fac12",
   "metadata": {},
   "source": [
    "2. Set up a Beautiful Soup html parser and feed in the html string"
   ]
  },
  {
   "cell_type": "code",
   "execution_count": 7,
   "id": "678edd84",
   "metadata": {},
   "outputs": [],
   "source": [
    "from bs4 import BeautifulSoup\n",
    "parser = BeautifulSoup(html,\"html.parser\")"
   ]
  },
  {
   "cell_type": "markdown",
   "id": "4c776a05",
   "metadata": {},
   "source": [
    "3. Find the title"
   ]
  },
  {
   "cell_type": "code",
   "execution_count": 9,
   "id": "31188b1d",
   "metadata": {},
   "outputs": [
    {
     "data": {
      "text/plain": [
       "' UCD Colleges'"
      ]
     },
     "execution_count": 9,
     "metadata": {},
     "output_type": "execute_result"
    }
   ],
   "source": [
    "the_title = parser.find(\"title\")\n",
    "the_title.text"
   ]
  },
  {
   "cell_type": "markdown",
   "id": "870ed5ef",
   "metadata": {},
   "source": [
    "4. Find all the level 3 headers"
   ]
  },
  {
   "cell_type": "code",
   "execution_count": 11,
   "id": "e6bbbad4",
   "metadata": {},
   "outputs": [
    {
     "name": "stdout",
     "output_type": "stream",
     "text": [
      "UCD College of Arts and Humanities\n",
      "UCD College of Business\n",
      "UCD College of Engineering and Architecture\n",
      "UCD College of Health and Agricultural Sciences\n",
      "UCD College of Social Sciences and Law\n",
      "UCD College of Science\n"
     ]
    }
   ],
   "source": [
    "for match in parser.find_all(\"h3\"):\n",
    "   text = match.get_text()\n",
    "   print(text)"
   ]
  },
  {
   "cell_type": "code",
   "execution_count": null,
   "id": "ec49b5df",
   "metadata": {},
   "outputs": [],
   "source": []
  }
 ],
 "metadata": {
  "kernelspec": {
   "display_name": "Python 3 (ipykernel)",
   "language": "python",
   "name": "python3"
  },
  "language_info": {
   "codemirror_mode": {
    "name": "ipython",
    "version": 3
   },
   "file_extension": ".py",
   "mimetype": "text/x-python",
   "name": "python",
   "nbconvert_exporter": "python",
   "pygments_lexer": "ipython3",
   "version": "3.12.4"
  }
 },
 "nbformat": 4,
 "nbformat_minor": 5
}
